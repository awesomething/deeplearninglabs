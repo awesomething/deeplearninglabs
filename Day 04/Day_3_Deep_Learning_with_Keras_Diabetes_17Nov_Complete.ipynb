{
  "cells": [
    {
      "cell_type": "code",
      "execution_count": 1,
      "id": "d31b9fe1-36f9-427c-94a2-3fbde5109df0",
      "metadata": {
        "id": "d31b9fe1-36f9-427c-94a2-3fbde5109df0"
      },
      "outputs": [],
      "source": [
        "import pandas as pd\n",
        "import numpy as np"
      ]
    },
    {
      "cell_type": "code",
      "execution_count": 2,
      "id": "11fbce75-7a1f-4fba-aa86-104a3eefc3fa",
      "metadata": {
        "id": "11fbce75-7a1f-4fba-aa86-104a3eefc3fa"
      },
      "outputs": [],
      "source": [
        "df_diab = pd.read_csv('diabetes.csv')"
      ]
    },
    {
      "cell_type": "code",
      "execution_count": 3,
      "id": "91639249-a006-4260-8e75-03cfd2aa55b8",
      "metadata": {
        "id": "91639249-a006-4260-8e75-03cfd2aa55b8",
        "outputId": "e7e36f2d-f503-4757-9c87-d73b1391dec2",
        "colab": {
          "base_uri": "https://localhost:8080/",
          "height": 206
        }
      },
      "outputs": [
        {
          "output_type": "execute_result",
          "data": {
            "text/plain": [
              "   Pregnancies  Glucose  BloodPressure  SkinThickness  Insulin   BMI  \\\n",
              "0            6      148             72             35        0  33.6   \n",
              "1            1       85             66             29        0  26.6   \n",
              "2            8      183             64              0        0  23.3   \n",
              "3            1       89             66             23       94  28.1   \n",
              "4            0      137             40             35      168  43.1   \n",
              "\n",
              "   DiabetesPedigreeFunction  Age  Outcome  \n",
              "0                     0.627   50        1  \n",
              "1                     0.351   31        0  \n",
              "2                     0.672   32        1  \n",
              "3                     0.167   21        0  \n",
              "4                     2.288   33        1  "
            ],
            "text/html": [
              "\n",
              "  <div id=\"df-1d1a1f08-d81d-442a-a102-32996163fe2a\" class=\"colab-df-container\">\n",
              "    <div>\n",
              "<style scoped>\n",
              "    .dataframe tbody tr th:only-of-type {\n",
              "        vertical-align: middle;\n",
              "    }\n",
              "\n",
              "    .dataframe tbody tr th {\n",
              "        vertical-align: top;\n",
              "    }\n",
              "\n",
              "    .dataframe thead th {\n",
              "        text-align: right;\n",
              "    }\n",
              "</style>\n",
              "<table border=\"1\" class=\"dataframe\">\n",
              "  <thead>\n",
              "    <tr style=\"text-align: right;\">\n",
              "      <th></th>\n",
              "      <th>Pregnancies</th>\n",
              "      <th>Glucose</th>\n",
              "      <th>BloodPressure</th>\n",
              "      <th>SkinThickness</th>\n",
              "      <th>Insulin</th>\n",
              "      <th>BMI</th>\n",
              "      <th>DiabetesPedigreeFunction</th>\n",
              "      <th>Age</th>\n",
              "      <th>Outcome</th>\n",
              "    </tr>\n",
              "  </thead>\n",
              "  <tbody>\n",
              "    <tr>\n",
              "      <th>0</th>\n",
              "      <td>6</td>\n",
              "      <td>148</td>\n",
              "      <td>72</td>\n",
              "      <td>35</td>\n",
              "      <td>0</td>\n",
              "      <td>33.6</td>\n",
              "      <td>0.627</td>\n",
              "      <td>50</td>\n",
              "      <td>1</td>\n",
              "    </tr>\n",
              "    <tr>\n",
              "      <th>1</th>\n",
              "      <td>1</td>\n",
              "      <td>85</td>\n",
              "      <td>66</td>\n",
              "      <td>29</td>\n",
              "      <td>0</td>\n",
              "      <td>26.6</td>\n",
              "      <td>0.351</td>\n",
              "      <td>31</td>\n",
              "      <td>0</td>\n",
              "    </tr>\n",
              "    <tr>\n",
              "      <th>2</th>\n",
              "      <td>8</td>\n",
              "      <td>183</td>\n",
              "      <td>64</td>\n",
              "      <td>0</td>\n",
              "      <td>0</td>\n",
              "      <td>23.3</td>\n",
              "      <td>0.672</td>\n",
              "      <td>32</td>\n",
              "      <td>1</td>\n",
              "    </tr>\n",
              "    <tr>\n",
              "      <th>3</th>\n",
              "      <td>1</td>\n",
              "      <td>89</td>\n",
              "      <td>66</td>\n",
              "      <td>23</td>\n",
              "      <td>94</td>\n",
              "      <td>28.1</td>\n",
              "      <td>0.167</td>\n",
              "      <td>21</td>\n",
              "      <td>0</td>\n",
              "    </tr>\n",
              "    <tr>\n",
              "      <th>4</th>\n",
              "      <td>0</td>\n",
              "      <td>137</td>\n",
              "      <td>40</td>\n",
              "      <td>35</td>\n",
              "      <td>168</td>\n",
              "      <td>43.1</td>\n",
              "      <td>2.288</td>\n",
              "      <td>33</td>\n",
              "      <td>1</td>\n",
              "    </tr>\n",
              "  </tbody>\n",
              "</table>\n",
              "</div>\n",
              "    <div class=\"colab-df-buttons\">\n",
              "\n",
              "  <div class=\"colab-df-container\">\n",
              "    <button class=\"colab-df-convert\" onclick=\"convertToInteractive('df-1d1a1f08-d81d-442a-a102-32996163fe2a')\"\n",
              "            title=\"Convert this dataframe to an interactive table.\"\n",
              "            style=\"display:none;\">\n",
              "\n",
              "  <svg xmlns=\"http://www.w3.org/2000/svg\" height=\"24px\" viewBox=\"0 -960 960 960\">\n",
              "    <path d=\"M120-120v-720h720v720H120Zm60-500h600v-160H180v160Zm220 220h160v-160H400v160Zm0 220h160v-160H400v160ZM180-400h160v-160H180v160Zm440 0h160v-160H620v160ZM180-180h160v-160H180v160Zm440 0h160v-160H620v160Z\"/>\n",
              "  </svg>\n",
              "    </button>\n",
              "\n",
              "  <style>\n",
              "    .colab-df-container {\n",
              "      display:flex;\n",
              "      gap: 12px;\n",
              "    }\n",
              "\n",
              "    .colab-df-convert {\n",
              "      background-color: #E8F0FE;\n",
              "      border: none;\n",
              "      border-radius: 50%;\n",
              "      cursor: pointer;\n",
              "      display: none;\n",
              "      fill: #1967D2;\n",
              "      height: 32px;\n",
              "      padding: 0 0 0 0;\n",
              "      width: 32px;\n",
              "    }\n",
              "\n",
              "    .colab-df-convert:hover {\n",
              "      background-color: #E2EBFA;\n",
              "      box-shadow: 0px 1px 2px rgba(60, 64, 67, 0.3), 0px 1px 3px 1px rgba(60, 64, 67, 0.15);\n",
              "      fill: #174EA6;\n",
              "    }\n",
              "\n",
              "    .colab-df-buttons div {\n",
              "      margin-bottom: 4px;\n",
              "    }\n",
              "\n",
              "    [theme=dark] .colab-df-convert {\n",
              "      background-color: #3B4455;\n",
              "      fill: #D2E3FC;\n",
              "    }\n",
              "\n",
              "    [theme=dark] .colab-df-convert:hover {\n",
              "      background-color: #434B5C;\n",
              "      box-shadow: 0px 1px 3px 1px rgba(0, 0, 0, 0.15);\n",
              "      filter: drop-shadow(0px 1px 2px rgba(0, 0, 0, 0.3));\n",
              "      fill: #FFFFFF;\n",
              "    }\n",
              "  </style>\n",
              "\n",
              "    <script>\n",
              "      const buttonEl =\n",
              "        document.querySelector('#df-1d1a1f08-d81d-442a-a102-32996163fe2a button.colab-df-convert');\n",
              "      buttonEl.style.display =\n",
              "        google.colab.kernel.accessAllowed ? 'block' : 'none';\n",
              "\n",
              "      async function convertToInteractive(key) {\n",
              "        const element = document.querySelector('#df-1d1a1f08-d81d-442a-a102-32996163fe2a');\n",
              "        const dataTable =\n",
              "          await google.colab.kernel.invokeFunction('convertToInteractive',\n",
              "                                                    [key], {});\n",
              "        if (!dataTable) return;\n",
              "\n",
              "        const docLinkHtml = 'Like what you see? Visit the ' +\n",
              "          '<a target=\"_blank\" href=https://colab.research.google.com/notebooks/data_table.ipynb>data table notebook</a>'\n",
              "          + ' to learn more about interactive tables.';\n",
              "        element.innerHTML = '';\n",
              "        dataTable['output_type'] = 'display_data';\n",
              "        await google.colab.output.renderOutput(dataTable, element);\n",
              "        const docLink = document.createElement('div');\n",
              "        docLink.innerHTML = docLinkHtml;\n",
              "        element.appendChild(docLink);\n",
              "      }\n",
              "    </script>\n",
              "  </div>\n",
              "\n",
              "\n",
              "<div id=\"df-b58385c1-5cdb-4463-8c32-050bafa3133c\">\n",
              "  <button class=\"colab-df-quickchart\" onclick=\"quickchart('df-b58385c1-5cdb-4463-8c32-050bafa3133c')\"\n",
              "            title=\"Suggest charts\"\n",
              "            style=\"display:none;\">\n",
              "\n",
              "<svg xmlns=\"http://www.w3.org/2000/svg\" height=\"24px\"viewBox=\"0 0 24 24\"\n",
              "     width=\"24px\">\n",
              "    <g>\n",
              "        <path d=\"M19 3H5c-1.1 0-2 .9-2 2v14c0 1.1.9 2 2 2h14c1.1 0 2-.9 2-2V5c0-1.1-.9-2-2-2zM9 17H7v-7h2v7zm4 0h-2V7h2v10zm4 0h-2v-4h2v4z\"/>\n",
              "    </g>\n",
              "</svg>\n",
              "  </button>\n",
              "\n",
              "<style>\n",
              "  .colab-df-quickchart {\n",
              "      --bg-color: #E8F0FE;\n",
              "      --fill-color: #1967D2;\n",
              "      --hover-bg-color: #E2EBFA;\n",
              "      --hover-fill-color: #174EA6;\n",
              "      --disabled-fill-color: #AAA;\n",
              "      --disabled-bg-color: #DDD;\n",
              "  }\n",
              "\n",
              "  [theme=dark] .colab-df-quickchart {\n",
              "      --bg-color: #3B4455;\n",
              "      --fill-color: #D2E3FC;\n",
              "      --hover-bg-color: #434B5C;\n",
              "      --hover-fill-color: #FFFFFF;\n",
              "      --disabled-bg-color: #3B4455;\n",
              "      --disabled-fill-color: #666;\n",
              "  }\n",
              "\n",
              "  .colab-df-quickchart {\n",
              "    background-color: var(--bg-color);\n",
              "    border: none;\n",
              "    border-radius: 50%;\n",
              "    cursor: pointer;\n",
              "    display: none;\n",
              "    fill: var(--fill-color);\n",
              "    height: 32px;\n",
              "    padding: 0;\n",
              "    width: 32px;\n",
              "  }\n",
              "\n",
              "  .colab-df-quickchart:hover {\n",
              "    background-color: var(--hover-bg-color);\n",
              "    box-shadow: 0 1px 2px rgba(60, 64, 67, 0.3), 0 1px 3px 1px rgba(60, 64, 67, 0.15);\n",
              "    fill: var(--button-hover-fill-color);\n",
              "  }\n",
              "\n",
              "  .colab-df-quickchart-complete:disabled,\n",
              "  .colab-df-quickchart-complete:disabled:hover {\n",
              "    background-color: var(--disabled-bg-color);\n",
              "    fill: var(--disabled-fill-color);\n",
              "    box-shadow: none;\n",
              "  }\n",
              "\n",
              "  .colab-df-spinner {\n",
              "    border: 2px solid var(--fill-color);\n",
              "    border-color: transparent;\n",
              "    border-bottom-color: var(--fill-color);\n",
              "    animation:\n",
              "      spin 1s steps(1) infinite;\n",
              "  }\n",
              "\n",
              "  @keyframes spin {\n",
              "    0% {\n",
              "      border-color: transparent;\n",
              "      border-bottom-color: var(--fill-color);\n",
              "      border-left-color: var(--fill-color);\n",
              "    }\n",
              "    20% {\n",
              "      border-color: transparent;\n",
              "      border-left-color: var(--fill-color);\n",
              "      border-top-color: var(--fill-color);\n",
              "    }\n",
              "    30% {\n",
              "      border-color: transparent;\n",
              "      border-left-color: var(--fill-color);\n",
              "      border-top-color: var(--fill-color);\n",
              "      border-right-color: var(--fill-color);\n",
              "    }\n",
              "    40% {\n",
              "      border-color: transparent;\n",
              "      border-right-color: var(--fill-color);\n",
              "      border-top-color: var(--fill-color);\n",
              "    }\n",
              "    60% {\n",
              "      border-color: transparent;\n",
              "      border-right-color: var(--fill-color);\n",
              "    }\n",
              "    80% {\n",
              "      border-color: transparent;\n",
              "      border-right-color: var(--fill-color);\n",
              "      border-bottom-color: var(--fill-color);\n",
              "    }\n",
              "    90% {\n",
              "      border-color: transparent;\n",
              "      border-bottom-color: var(--fill-color);\n",
              "    }\n",
              "  }\n",
              "</style>\n",
              "\n",
              "  <script>\n",
              "    async function quickchart(key) {\n",
              "      const quickchartButtonEl =\n",
              "        document.querySelector('#' + key + ' button');\n",
              "      quickchartButtonEl.disabled = true;  // To prevent multiple clicks.\n",
              "      quickchartButtonEl.classList.add('colab-df-spinner');\n",
              "      try {\n",
              "        const charts = await google.colab.kernel.invokeFunction(\n",
              "            'suggestCharts', [key], {});\n",
              "      } catch (error) {\n",
              "        console.error('Error during call to suggestCharts:', error);\n",
              "      }\n",
              "      quickchartButtonEl.classList.remove('colab-df-spinner');\n",
              "      quickchartButtonEl.classList.add('colab-df-quickchart-complete');\n",
              "    }\n",
              "    (() => {\n",
              "      let quickchartButtonEl =\n",
              "        document.querySelector('#df-b58385c1-5cdb-4463-8c32-050bafa3133c button');\n",
              "      quickchartButtonEl.style.display =\n",
              "        google.colab.kernel.accessAllowed ? 'block' : 'none';\n",
              "    })();\n",
              "  </script>\n",
              "</div>\n",
              "    </div>\n",
              "  </div>\n"
            ]
          },
          "metadata": {},
          "execution_count": 3
        }
      ],
      "source": [
        "df_diab.head()"
      ]
    },
    {
      "cell_type": "code",
      "execution_count": 4,
      "id": "6f76f400-184d-4d40-ad6b-60f8cfd46de9",
      "metadata": {
        "id": "6f76f400-184d-4d40-ad6b-60f8cfd46de9",
        "outputId": "c925a28d-a755-483c-d054-2accf0ca16c8",
        "colab": {
          "base_uri": "https://localhost:8080/"
        }
      },
      "outputs": [
        {
          "output_type": "execute_result",
          "data": {
            "text/plain": [
              "(768, 9)"
            ]
          },
          "metadata": {},
          "execution_count": 4
        }
      ],
      "source": [
        "df_diab.shape"
      ]
    },
    {
      "cell_type": "code",
      "execution_count": 5,
      "id": "1a6c4030-1aee-47f1-bfcb-5d30213fdb0a",
      "metadata": {
        "id": "1a6c4030-1aee-47f1-bfcb-5d30213fdb0a",
        "outputId": "a80c8f2b-8cb4-41fb-bed4-0594b029c07e",
        "colab": {
          "base_uri": "https://localhost:8080/"
        }
      },
      "outputs": [
        {
          "output_type": "execute_result",
          "data": {
            "text/plain": [
              "array([1, 0])"
            ]
          },
          "metadata": {},
          "execution_count": 5
        }
      ],
      "source": [
        "df_diab.Outcome.unique()"
      ]
    },
    {
      "cell_type": "code",
      "source": [
        "df_diab.Outcome.value_counts()/df_diab.shape[0]"
      ],
      "metadata": {
        "colab": {
          "base_uri": "https://localhost:8080/"
        },
        "id": "TOyd6m9afTPa",
        "outputId": "db3f00c6-2da5-4a5e-a7d3-74690b8280f4"
      },
      "id": "TOyd6m9afTPa",
      "execution_count": 6,
      "outputs": [
        {
          "output_type": "execute_result",
          "data": {
            "text/plain": [
              "0    0.651042\n",
              "1    0.348958\n",
              "Name: Outcome, dtype: float64"
            ]
          },
          "metadata": {},
          "execution_count": 6
        }
      ]
    },
    {
      "cell_type": "code",
      "execution_count": 7,
      "id": "3c0c67d7-fec6-44c5-94c1-9a3f6660d87f",
      "metadata": {
        "id": "3c0c67d7-fec6-44c5-94c1-9a3f6660d87f",
        "outputId": "207df370-cc99-470e-d5b9-3033eddac366",
        "colab": {
          "base_uri": "https://localhost:8080/"
        }
      },
      "outputs": [
        {
          "output_type": "execute_result",
          "data": {
            "text/plain": [
              "Pregnancies                 0\n",
              "Glucose                     0\n",
              "BloodPressure               0\n",
              "SkinThickness               0\n",
              "Insulin                     0\n",
              "BMI                         0\n",
              "DiabetesPedigreeFunction    0\n",
              "Age                         0\n",
              "Outcome                     0\n",
              "dtype: int64"
            ]
          },
          "metadata": {},
          "execution_count": 7
        }
      ],
      "source": [
        "df_diab.isna().sum()"
      ]
    },
    {
      "cell_type": "code",
      "execution_count": 8,
      "id": "9bb6fc82-c903-4440-bbfc-9d7ca87465ca",
      "metadata": {
        "id": "9bb6fc82-c903-4440-bbfc-9d7ca87465ca"
      },
      "outputs": [],
      "source": [
        "X = df_diab.drop(['Outcome'],axis=1)\n",
        "y = df_diab['Outcome']"
      ]
    },
    {
      "cell_type": "code",
      "execution_count": 9,
      "id": "b390e395-80e8-4903-91e1-c9a1b9946432",
      "metadata": {
        "id": "b390e395-80e8-4903-91e1-c9a1b9946432"
      },
      "outputs": [],
      "source": [
        "np.random.seed(12345)"
      ]
    },
    {
      "cell_type": "code",
      "execution_count": 10,
      "id": "17b06800-3437-4f35-96f8-13fbcc67628f",
      "metadata": {
        "id": "17b06800-3437-4f35-96f8-13fbcc67628f"
      },
      "outputs": [],
      "source": [
        "from sklearn.model_selection import train_test_split"
      ]
    },
    {
      "cell_type": "code",
      "execution_count": 11,
      "id": "4750bdbe-c8c4-4ec2-9424-377492df3e93",
      "metadata": {
        "id": "4750bdbe-c8c4-4ec2-9424-377492df3e93"
      },
      "outputs": [],
      "source": [
        "X_train, X_test, y_train,y_test = train_test_split(X,\n",
        "                                                   y,\n",
        "                                                   stratify = y,\n",
        "                                                   test_size=0.2,\n",
        "                                                   random_state=12345)"
      ]
    },
    {
      "cell_type": "code",
      "source": [
        "y_train.sum()/614, y_test.sum()/154"
      ],
      "metadata": {
        "colab": {
          "base_uri": "https://localhost:8080/"
        },
        "id": "4RQGpJV6jKCE",
        "outputId": "0b5cc6a4-9f41-4123-fe2c-27a18b93a2d0"
      },
      "id": "4RQGpJV6jKCE",
      "execution_count": 12,
      "outputs": [
        {
          "output_type": "execute_result",
          "data": {
            "text/plain": [
              "(0.3485342019543974, 0.35064935064935066)"
            ]
          },
          "metadata": {},
          "execution_count": 12
        }
      ]
    },
    {
      "cell_type": "code",
      "execution_count": 13,
      "id": "06496bb0-5fda-466c-b58f-ad2f1b88785a",
      "metadata": {
        "id": "06496bb0-5fda-466c-b58f-ad2f1b88785a",
        "outputId": "5d28097d-d8ab-450d-aaea-9286e5345a9e",
        "colab": {
          "base_uri": "https://localhost:8080/"
        }
      },
      "outputs": [
        {
          "output_type": "execute_result",
          "data": {
            "text/plain": [
              "((614, 8), (154, 8), (614,), (154,))"
            ]
          },
          "metadata": {},
          "execution_count": 13
        }
      ],
      "source": [
        "X_train.shape, X_test.shape, y_train.shape, y_test.shape"
      ]
    },
    {
      "cell_type": "code",
      "execution_count": 14,
      "id": "c49ec3ef-1f00-475d-ac24-43cffb4974b2",
      "metadata": {
        "id": "c49ec3ef-1f00-475d-ac24-43cffb4974b2"
      },
      "outputs": [],
      "source": [
        "from sklearn.preprocessing import StandardScaler"
      ]
    },
    {
      "cell_type": "code",
      "execution_count": 15,
      "id": "b2619fcb-0182-4fbe-bc3f-eea81a9d9e1a",
      "metadata": {
        "id": "b2619fcb-0182-4fbe-bc3f-eea81a9d9e1a"
      },
      "outputs": [],
      "source": [
        "# X-scaled = (X - mean)/sd -> z value\n",
        "\n",
        "scaler = StandardScaler()\n",
        "X_train_scaled = scaler.fit_transform(X_train)\n",
        "X_test_scaled = scaler.transform(X_test)"
      ]
    },
    {
      "cell_type": "code",
      "execution_count": 16,
      "id": "d408f475-5c67-4f1d-ba17-b11ed7505396",
      "metadata": {
        "id": "d408f475-5c67-4f1d-ba17-b11ed7505396"
      },
      "outputs": [],
      "source": [
        "import tensorflow as tf"
      ]
    },
    {
      "cell_type": "code",
      "execution_count": 17,
      "id": "4b5efbaf-66d7-4e8e-95ac-9434f1d8cfb7",
      "metadata": {
        "id": "4b5efbaf-66d7-4e8e-95ac-9434f1d8cfb7",
        "outputId": "d032a8a3-f2f4-4829-be8f-3935b0308dfe",
        "colab": {
          "base_uri": "https://localhost:8080/"
        }
      },
      "outputs": [
        {
          "output_type": "stream",
          "name": "stdout",
          "text": [
            "2.15.0\n"
          ]
        }
      ],
      "source": [
        "print(tf.__version__)"
      ]
    },
    {
      "cell_type": "code",
      "source": [
        "np.__version__"
      ],
      "metadata": {
        "colab": {
          "base_uri": "https://localhost:8080/",
          "height": 36
        },
        "id": "Zn9zn_qWog-9",
        "outputId": "78f692f3-88ee-452e-8b6e-be368327b3b2"
      },
      "id": "Zn9zn_qWog-9",
      "execution_count": 18,
      "outputs": [
        {
          "output_type": "execute_result",
          "data": {
            "text/plain": [
              "'1.23.5'"
            ],
            "application/vnd.google.colaboratory.intrinsic+json": {
              "type": "string"
            }
          },
          "metadata": {},
          "execution_count": 18
        }
      ]
    },
    {
      "cell_type": "code",
      "execution_count": 19,
      "id": "200df40a-fccf-43dd-9393-302c44f9935b",
      "metadata": {
        "id": "200df40a-fccf-43dd-9393-302c44f9935b"
      },
      "outputs": [],
      "source": [
        "from tensorflow.keras.models import Sequential"
      ]
    },
    {
      "cell_type": "code",
      "execution_count": 20,
      "id": "8ccb2549-8af0-42ec-b077-4ebdd764c162",
      "metadata": {
        "id": "8ccb2549-8af0-42ec-b077-4ebdd764c162"
      },
      "outputs": [],
      "source": [
        "from tensorflow.keras.layers import Dense, Input"
      ]
    },
    {
      "cell_type": "code",
      "execution_count": 21,
      "id": "5fede699-aebf-4753-897a-6faf3cbad9c0",
      "metadata": {
        "id": "5fede699-aebf-4753-897a-6faf3cbad9c0"
      },
      "outputs": [],
      "source": [
        "model = Sequential()"
      ]
    },
    {
      "cell_type": "code",
      "execution_count": 22,
      "id": "4dd59932-4b7c-43ae-afee-680ddf2039dc",
      "metadata": {
        "id": "4dd59932-4b7c-43ae-afee-680ddf2039dc",
        "outputId": "9e1e1de1-8107-4091-9f92-cbd026dc5c7a",
        "colab": {
          "base_uri": "https://localhost:8080/"
        }
      },
      "outputs": [
        {
          "output_type": "execute_result",
          "data": {
            "text/plain": [
              "8"
            ]
          },
          "metadata": {},
          "execution_count": 22
        }
      ],
      "source": [
        "X_train_scaled.shape[1]"
      ]
    },
    {
      "cell_type": "code",
      "execution_count": 23,
      "id": "ee925079-e57f-4cdb-9adb-659a0cde45f1",
      "metadata": {
        "id": "ee925079-e57f-4cdb-9adb-659a0cde45f1"
      },
      "outputs": [],
      "source": [
        "model.add(Input(shape = (X_train_scaled.shape[1],))) # Input Layer"
      ]
    },
    {
      "cell_type": "code",
      "execution_count": 24,
      "id": "a9bf1882-dc8e-431f-aae3-a6310be02a04",
      "metadata": {
        "id": "a9bf1882-dc8e-431f-aae3-a6310be02a04"
      },
      "outputs": [],
      "source": [
        "# First Hidden Layer - 128 neurons, Relu activation\n",
        "model.add(Dense(units=128,\n",
        "                activation='relu'\n",
        "         ))"
      ]
    },
    {
      "cell_type": "code",
      "execution_count": 25,
      "id": "abdee2a8-4227-435e-9988-8818297124f0",
      "metadata": {
        "id": "abdee2a8-4227-435e-9988-8818297124f0"
      },
      "outputs": [],
      "source": [
        "# Second Hidden Layer - 64 neurons, Relu activation\n",
        "model.add(Dense(units=64, activation='relu'))\n",
        "\n",
        "# Third Hidden Layer 32, relu activation\n",
        "model.add(Dense(units=32, activation='relu'))"
      ]
    },
    {
      "cell_type": "code",
      "execution_count": 26,
      "id": "0ab34cf7-24e0-44e7-a322-12afd83df3d5",
      "metadata": {
        "id": "0ab34cf7-24e0-44e7-a322-12afd83df3d5"
      },
      "outputs": [],
      "source": [
        "# Output layer - Sigmoid\n",
        "model.add(Dense(units=1, activation='sigmoid'))"
      ]
    },
    {
      "cell_type": "code",
      "execution_count": 27,
      "id": "9c3805bb-745c-4770-a588-e9ee219aedba",
      "metadata": {
        "id": "9c3805bb-745c-4770-a588-e9ee219aedba",
        "outputId": "39ff6bbc-e332-4cd0-e27d-ee7853ccbf11",
        "colab": {
          "base_uri": "https://localhost:8080/"
        }
      },
      "outputs": [
        {
          "output_type": "stream",
          "name": "stdout",
          "text": [
            "Model: \"sequential\"\n",
            "_________________________________________________________________\n",
            " Layer (type)                Output Shape              Param #   \n",
            "=================================================================\n",
            " dense (Dense)               (None, 128)               1152      \n",
            "                                                                 \n",
            " dense_1 (Dense)             (None, 64)                8256      \n",
            "                                                                 \n",
            " dense_2 (Dense)             (None, 32)                2080      \n",
            "                                                                 \n",
            " dense_3 (Dense)             (None, 1)                 33        \n",
            "                                                                 \n",
            "=================================================================\n",
            "Total params: 11521 (45.00 KB)\n",
            "Trainable params: 11521 (45.00 KB)\n",
            "Non-trainable params: 0 (0.00 Byte)\n",
            "_________________________________________________________________\n"
          ]
        }
      ],
      "source": [
        "model.summary()"
      ]
    },
    {
      "cell_type": "code",
      "source": [
        "(8+1)*128, (128+1)*64, (64+1)*32, (32+1)*1"
      ],
      "metadata": {
        "colab": {
          "base_uri": "https://localhost:8080/"
        },
        "id": "hjUYSKIftX5R",
        "outputId": "87daa3cb-91db-4d00-eb3f-d2cb3eff0b07"
      },
      "id": "hjUYSKIftX5R",
      "execution_count": 28,
      "outputs": [
        {
          "output_type": "execute_result",
          "data": {
            "text/plain": [
              "(1152, 8256, 2080, 33)"
            ]
          },
          "metadata": {},
          "execution_count": 28
        }
      ]
    },
    {
      "cell_type": "code",
      "execution_count": 29,
      "id": "4a391017-8c71-4ecc-9cb2-52427b428751",
      "metadata": {
        "id": "4a391017-8c71-4ecc-9cb2-52427b428751"
      },
      "outputs": [],
      "source": [
        "#(8+1)*128\n",
        "#(128+1)*64\n",
        "#(64+1)*32"
      ]
    },
    {
      "cell_type": "code",
      "execution_count": 30,
      "id": "68f59802-90f6-46a3-8c7f-a73e6f84285b",
      "metadata": {
        "id": "68f59802-90f6-46a3-8c7f-a73e6f84285b",
        "outputId": "7775e327-0589-4c82-85d5-1c9f4b19e0ca",
        "colab": {
          "base_uri": "https://localhost:8080/"
        }
      },
      "outputs": [
        {
          "output_type": "execute_result",
          "data": {
            "text/plain": [
              "11521"
            ]
          },
          "metadata": {},
          "execution_count": 30
        }
      ],
      "source": [
        "(1152+8256+2080+33)"
      ]
    },
    {
      "cell_type": "code",
      "execution_count": 31,
      "id": "c358a15e-1171-49c1-813a-562a7f2d0a24",
      "metadata": {
        "id": "c358a15e-1171-49c1-813a-562a7f2d0a24"
      },
      "outputs": [],
      "source": [
        "model.compile(optimizer='adam', # Variant of Gradient Descent\n",
        "              loss= 'binary_crossentropy', # Log Loss or Binary Cross Entropy\n",
        "              metrics=['accuracy']) # Monitor Accuracy"
      ]
    },
    {
      "cell_type": "code",
      "execution_count": 32,
      "id": "fa21c2b4-cf58-414e-972e-a596d5483bdf",
      "metadata": {
        "id": "fa21c2b4-cf58-414e-972e-a596d5483bdf",
        "outputId": "f95c14de-7bc5-4652-9e54-fcbfe8090d2d",
        "colab": {
          "base_uri": "https://localhost:8080/"
        }
      },
      "outputs": [
        {
          "output_type": "stream",
          "name": "stdout",
          "text": [
            "Epoch 1/100\n",
            "20/20 [==============================] - 2s 18ms/step - loss: 0.6344 - accuracy: 0.6938 - val_loss: 0.5544 - val_accuracy: 0.7208\n",
            "Epoch 2/100\n",
            "20/20 [==============================] - 0s 6ms/step - loss: 0.5204 - accuracy: 0.7524 - val_loss: 0.4734 - val_accuracy: 0.7857\n",
            "Epoch 3/100\n",
            "20/20 [==============================] - 0s 5ms/step - loss: 0.4784 - accuracy: 0.7834 - val_loss: 0.4445 - val_accuracy: 0.7922\n",
            "Epoch 4/100\n",
            "20/20 [==============================] - 0s 6ms/step - loss: 0.4588 - accuracy: 0.7850 - val_loss: 0.4442 - val_accuracy: 0.7987\n",
            "Epoch 5/100\n",
            "20/20 [==============================] - 0s 6ms/step - loss: 0.4552 - accuracy: 0.7899 - val_loss: 0.4367 - val_accuracy: 0.7922\n",
            "Epoch 6/100\n",
            "20/20 [==============================] - 0s 5ms/step - loss: 0.4416 - accuracy: 0.7915 - val_loss: 0.4329 - val_accuracy: 0.7857\n",
            "Epoch 7/100\n",
            "20/20 [==============================] - 0s 5ms/step - loss: 0.4318 - accuracy: 0.8013 - val_loss: 0.4362 - val_accuracy: 0.7792\n",
            "Epoch 8/100\n",
            "20/20 [==============================] - 0s 5ms/step - loss: 0.4263 - accuracy: 0.8013 - val_loss: 0.4333 - val_accuracy: 0.7857\n",
            "Epoch 9/100\n",
            "20/20 [==============================] - 0s 4ms/step - loss: 0.4229 - accuracy: 0.7997 - val_loss: 0.4413 - val_accuracy: 0.7792\n",
            "Epoch 10/100\n",
            "20/20 [==============================] - 0s 4ms/step - loss: 0.4161 - accuracy: 0.8046 - val_loss: 0.4411 - val_accuracy: 0.7792\n",
            "Epoch 11/100\n",
            "20/20 [==============================] - 0s 4ms/step - loss: 0.4083 - accuracy: 0.8176 - val_loss: 0.4417 - val_accuracy: 0.7792\n",
            "Epoch 12/100\n",
            "20/20 [==============================] - 0s 5ms/step - loss: 0.4025 - accuracy: 0.8176 - val_loss: 0.4383 - val_accuracy: 0.7727\n",
            "Epoch 13/100\n",
            "20/20 [==============================] - 0s 4ms/step - loss: 0.3964 - accuracy: 0.8176 - val_loss: 0.4416 - val_accuracy: 0.7857\n",
            "Epoch 14/100\n",
            "20/20 [==============================] - 0s 4ms/step - loss: 0.3883 - accuracy: 0.8290 - val_loss: 0.4421 - val_accuracy: 0.7662\n",
            "Epoch 15/100\n",
            "20/20 [==============================] - 0s 4ms/step - loss: 0.3951 - accuracy: 0.8111 - val_loss: 0.4616 - val_accuracy: 0.7662\n",
            "Epoch 16/100\n",
            "20/20 [==============================] - 0s 4ms/step - loss: 0.3813 - accuracy: 0.8241 - val_loss: 0.4387 - val_accuracy: 0.7662\n",
            "Epoch 17/100\n",
            "20/20 [==============================] - 0s 4ms/step - loss: 0.3788 - accuracy: 0.8290 - val_loss: 0.4501 - val_accuracy: 0.7922\n",
            "Epoch 18/100\n",
            "20/20 [==============================] - 0s 4ms/step - loss: 0.3727 - accuracy: 0.8420 - val_loss: 0.4476 - val_accuracy: 0.7662\n",
            "Epoch 19/100\n",
            "20/20 [==============================] - 0s 4ms/step - loss: 0.3658 - accuracy: 0.8306 - val_loss: 0.4449 - val_accuracy: 0.7792\n",
            "Epoch 20/100\n",
            "20/20 [==============================] - 0s 5ms/step - loss: 0.3586 - accuracy: 0.8339 - val_loss: 0.4573 - val_accuracy: 0.7727\n",
            "Epoch 21/100\n",
            "20/20 [==============================] - 0s 4ms/step - loss: 0.3602 - accuracy: 0.8420 - val_loss: 0.4587 - val_accuracy: 0.7532\n",
            "Epoch 22/100\n",
            "20/20 [==============================] - 0s 4ms/step - loss: 0.3548 - accuracy: 0.8485 - val_loss: 0.4552 - val_accuracy: 0.7597\n",
            "Epoch 23/100\n",
            "20/20 [==============================] - 0s 5ms/step - loss: 0.3434 - accuracy: 0.8518 - val_loss: 0.4511 - val_accuracy: 0.7662\n",
            "Epoch 24/100\n",
            "20/20 [==============================] - 0s 4ms/step - loss: 0.3334 - accuracy: 0.8485 - val_loss: 0.4702 - val_accuracy: 0.7468\n",
            "Epoch 25/100\n",
            "20/20 [==============================] - 0s 4ms/step - loss: 0.3324 - accuracy: 0.8583 - val_loss: 0.4728 - val_accuracy: 0.7662\n",
            "Epoch 26/100\n",
            "20/20 [==============================] - 0s 6ms/step - loss: 0.3237 - accuracy: 0.8599 - val_loss: 0.4733 - val_accuracy: 0.7468\n",
            "Epoch 27/100\n",
            "20/20 [==============================] - 0s 6ms/step - loss: 0.3201 - accuracy: 0.8599 - val_loss: 0.4609 - val_accuracy: 0.7532\n",
            "Epoch 28/100\n",
            "20/20 [==============================] - 0s 5ms/step - loss: 0.3082 - accuracy: 0.8730 - val_loss: 0.4792 - val_accuracy: 0.7792\n",
            "Epoch 29/100\n",
            "20/20 [==============================] - 0s 6ms/step - loss: 0.2997 - accuracy: 0.8746 - val_loss: 0.4784 - val_accuracy: 0.7338\n",
            "Epoch 30/100\n",
            "20/20 [==============================] - 0s 6ms/step - loss: 0.2990 - accuracy: 0.8795 - val_loss: 0.4800 - val_accuracy: 0.7338\n",
            "Epoch 31/100\n",
            "20/20 [==============================] - 0s 6ms/step - loss: 0.2978 - accuracy: 0.8713 - val_loss: 0.4999 - val_accuracy: 0.7468\n",
            "Epoch 32/100\n",
            "20/20 [==============================] - 0s 7ms/step - loss: 0.2846 - accuracy: 0.8958 - val_loss: 0.5320 - val_accuracy: 0.7143\n",
            "Epoch 33/100\n",
            "20/20 [==============================] - 0s 5ms/step - loss: 0.2738 - accuracy: 0.8860 - val_loss: 0.5013 - val_accuracy: 0.7468\n",
            "Epoch 34/100\n",
            "20/20 [==============================] - 0s 6ms/step - loss: 0.2599 - accuracy: 0.8974 - val_loss: 0.5062 - val_accuracy: 0.7208\n",
            "Epoch 35/100\n",
            "20/20 [==============================] - 0s 5ms/step - loss: 0.2539 - accuracy: 0.9104 - val_loss: 0.5308 - val_accuracy: 0.7338\n",
            "Epoch 36/100\n",
            "20/20 [==============================] - 0s 5ms/step - loss: 0.2465 - accuracy: 0.9169 - val_loss: 0.5325 - val_accuracy: 0.7208\n",
            "Epoch 37/100\n",
            "20/20 [==============================] - 0s 5ms/step - loss: 0.2385 - accuracy: 0.9186 - val_loss: 0.5501 - val_accuracy: 0.7208\n",
            "Epoch 38/100\n",
            "20/20 [==============================] - 0s 5ms/step - loss: 0.2346 - accuracy: 0.9153 - val_loss: 0.5485 - val_accuracy: 0.7338\n",
            "Epoch 39/100\n",
            "20/20 [==============================] - 0s 6ms/step - loss: 0.2288 - accuracy: 0.9169 - val_loss: 0.5559 - val_accuracy: 0.7143\n",
            "Epoch 40/100\n",
            "20/20 [==============================] - 0s 6ms/step - loss: 0.2157 - accuracy: 0.9251 - val_loss: 0.5787 - val_accuracy: 0.7338\n",
            "Epoch 41/100\n",
            "20/20 [==============================] - 0s 6ms/step - loss: 0.2140 - accuracy: 0.9267 - val_loss: 0.6059 - val_accuracy: 0.7208\n",
            "Epoch 42/100\n",
            "20/20 [==============================] - 0s 5ms/step - loss: 0.2120 - accuracy: 0.9251 - val_loss: 0.6229 - val_accuracy: 0.7143\n",
            "Epoch 43/100\n",
            "20/20 [==============================] - 0s 6ms/step - loss: 0.1926 - accuracy: 0.9332 - val_loss: 0.6169 - val_accuracy: 0.7338\n",
            "Epoch 44/100\n",
            "20/20 [==============================] - 0s 6ms/step - loss: 0.1993 - accuracy: 0.9349 - val_loss: 0.6720 - val_accuracy: 0.7078\n",
            "Epoch 45/100\n",
            "20/20 [==============================] - 0s 5ms/step - loss: 0.2082 - accuracy: 0.9186 - val_loss: 0.6037 - val_accuracy: 0.7468\n",
            "Epoch 46/100\n",
            "20/20 [==============================] - 0s 5ms/step - loss: 0.1832 - accuracy: 0.9283 - val_loss: 0.6216 - val_accuracy: 0.7468\n",
            "Epoch 47/100\n",
            "20/20 [==============================] - 0s 6ms/step - loss: 0.1681 - accuracy: 0.9528 - val_loss: 0.6575 - val_accuracy: 0.7143\n",
            "Epoch 48/100\n",
            "20/20 [==============================] - 0s 6ms/step - loss: 0.1601 - accuracy: 0.9577 - val_loss: 0.6759 - val_accuracy: 0.7532\n",
            "Epoch 49/100\n",
            "20/20 [==============================] - 0s 7ms/step - loss: 0.1766 - accuracy: 0.9430 - val_loss: 0.6811 - val_accuracy: 0.7338\n",
            "Epoch 50/100\n",
            "20/20 [==============================] - 0s 6ms/step - loss: 0.1763 - accuracy: 0.9446 - val_loss: 0.7130 - val_accuracy: 0.7208\n",
            "Epoch 51/100\n",
            "20/20 [==============================] - 0s 6ms/step - loss: 0.1497 - accuracy: 0.9528 - val_loss: 0.6900 - val_accuracy: 0.7338\n",
            "Epoch 52/100\n",
            "20/20 [==============================] - 0s 5ms/step - loss: 0.1303 - accuracy: 0.9674 - val_loss: 0.7040 - val_accuracy: 0.7403\n",
            "Epoch 53/100\n",
            "20/20 [==============================] - 0s 6ms/step - loss: 0.1233 - accuracy: 0.9609 - val_loss: 0.7482 - val_accuracy: 0.7143\n",
            "Epoch 54/100\n",
            "20/20 [==============================] - 0s 6ms/step - loss: 0.1184 - accuracy: 0.9674 - val_loss: 0.7609 - val_accuracy: 0.7403\n",
            "Epoch 55/100\n",
            "20/20 [==============================] - 0s 4ms/step - loss: 0.1097 - accuracy: 0.9723 - val_loss: 0.7601 - val_accuracy: 0.7338\n",
            "Epoch 56/100\n",
            "20/20 [==============================] - 0s 5ms/step - loss: 0.1051 - accuracy: 0.9756 - val_loss: 0.7871 - val_accuracy: 0.7143\n",
            "Epoch 57/100\n",
            "20/20 [==============================] - 0s 6ms/step - loss: 0.1012 - accuracy: 0.9756 - val_loss: 0.7885 - val_accuracy: 0.7338\n",
            "Epoch 58/100\n",
            "20/20 [==============================] - 0s 6ms/step - loss: 0.0979 - accuracy: 0.9739 - val_loss: 0.7843 - val_accuracy: 0.7597\n",
            "Epoch 59/100\n",
            "20/20 [==============================] - 0s 5ms/step - loss: 0.1015 - accuracy: 0.9723 - val_loss: 0.8263 - val_accuracy: 0.7338\n",
            "Epoch 60/100\n",
            "20/20 [==============================] - 0s 5ms/step - loss: 0.1006 - accuracy: 0.9739 - val_loss: 0.8697 - val_accuracy: 0.7468\n",
            "Epoch 61/100\n",
            "20/20 [==============================] - 0s 5ms/step - loss: 0.0900 - accuracy: 0.9772 - val_loss: 0.8284 - val_accuracy: 0.7403\n",
            "Epoch 62/100\n",
            "20/20 [==============================] - 0s 5ms/step - loss: 0.0851 - accuracy: 0.9756 - val_loss: 0.8771 - val_accuracy: 0.7468\n",
            "Epoch 63/100\n",
            "20/20 [==============================] - 0s 5ms/step - loss: 0.1004 - accuracy: 0.9674 - val_loss: 0.8389 - val_accuracy: 0.7338\n",
            "Epoch 64/100\n",
            "20/20 [==============================] - 0s 4ms/step - loss: 0.1019 - accuracy: 0.9674 - val_loss: 0.8702 - val_accuracy: 0.7532\n",
            "Epoch 65/100\n",
            "20/20 [==============================] - 0s 6ms/step - loss: 0.0913 - accuracy: 0.9642 - val_loss: 0.9562 - val_accuracy: 0.7013\n",
            "Epoch 66/100\n",
            "20/20 [==============================] - 0s 4ms/step - loss: 0.0818 - accuracy: 0.9805 - val_loss: 0.9340 - val_accuracy: 0.7468\n",
            "Epoch 67/100\n",
            "20/20 [==============================] - 0s 5ms/step - loss: 0.0918 - accuracy: 0.9723 - val_loss: 0.8677 - val_accuracy: 0.7468\n",
            "Epoch 68/100\n",
            "20/20 [==============================] - 0s 7ms/step - loss: 0.0781 - accuracy: 0.9739 - val_loss: 0.9610 - val_accuracy: 0.7208\n",
            "Epoch 69/100\n",
            "20/20 [==============================] - 0s 5ms/step - loss: 0.0705 - accuracy: 0.9805 - val_loss: 0.9088 - val_accuracy: 0.7338\n",
            "Epoch 70/100\n",
            "20/20 [==============================] - 0s 5ms/step - loss: 0.0625 - accuracy: 0.9853 - val_loss: 0.9944 - val_accuracy: 0.7338\n",
            "Epoch 71/100\n",
            "20/20 [==============================] - 0s 6ms/step - loss: 0.0540 - accuracy: 0.9902 - val_loss: 0.9720 - val_accuracy: 0.7338\n",
            "Epoch 72/100\n",
            "20/20 [==============================] - 0s 5ms/step - loss: 0.0479 - accuracy: 0.9902 - val_loss: 1.0023 - val_accuracy: 0.7338\n",
            "Epoch 73/100\n",
            "20/20 [==============================] - 0s 5ms/step - loss: 0.0488 - accuracy: 0.9886 - val_loss: 1.0530 - val_accuracy: 0.7208\n",
            "Epoch 74/100\n",
            "20/20 [==============================] - 0s 5ms/step - loss: 0.0576 - accuracy: 0.9886 - val_loss: 0.9998 - val_accuracy: 0.7403\n",
            "Epoch 75/100\n",
            "20/20 [==============================] - 0s 6ms/step - loss: 0.0490 - accuracy: 0.9935 - val_loss: 1.0685 - val_accuracy: 0.7208\n",
            "Epoch 76/100\n",
            "20/20 [==============================] - 0s 5ms/step - loss: 0.0416 - accuracy: 0.9951 - val_loss: 1.0325 - val_accuracy: 0.7468\n",
            "Epoch 77/100\n",
            "20/20 [==============================] - 0s 6ms/step - loss: 0.0404 - accuracy: 0.9951 - val_loss: 1.1005 - val_accuracy: 0.7208\n",
            "Epoch 78/100\n",
            "20/20 [==============================] - 0s 4ms/step - loss: 0.0349 - accuracy: 0.9951 - val_loss: 1.0685 - val_accuracy: 0.7468\n",
            "Epoch 79/100\n",
            "20/20 [==============================] - 0s 5ms/step - loss: 0.0324 - accuracy: 0.9967 - val_loss: 1.1660 - val_accuracy: 0.7143\n",
            "Epoch 80/100\n",
            "20/20 [==============================] - 0s 5ms/step - loss: 0.0344 - accuracy: 0.9967 - val_loss: 1.1040 - val_accuracy: 0.7338\n",
            "Epoch 81/100\n",
            "20/20 [==============================] - 0s 5ms/step - loss: 0.0305 - accuracy: 0.9951 - val_loss: 1.1992 - val_accuracy: 0.7208\n",
            "Epoch 82/100\n",
            "20/20 [==============================] - 0s 5ms/step - loss: 0.0291 - accuracy: 0.9967 - val_loss: 1.1317 - val_accuracy: 0.7403\n",
            "Epoch 83/100\n",
            "20/20 [==============================] - 0s 5ms/step - loss: 0.0258 - accuracy: 1.0000 - val_loss: 1.1651 - val_accuracy: 0.7338\n",
            "Epoch 84/100\n",
            "20/20 [==============================] - 0s 4ms/step - loss: 0.0238 - accuracy: 0.9984 - val_loss: 1.1562 - val_accuracy: 0.7338\n",
            "Epoch 85/100\n",
            "20/20 [==============================] - 0s 6ms/step - loss: 0.0270 - accuracy: 0.9935 - val_loss: 1.1888 - val_accuracy: 0.7143\n",
            "Epoch 86/100\n",
            "20/20 [==============================] - 0s 6ms/step - loss: 0.0249 - accuracy: 0.9951 - val_loss: 1.2526 - val_accuracy: 0.7273\n",
            "Epoch 87/100\n",
            "20/20 [==============================] - 0s 6ms/step - loss: 0.0242 - accuracy: 0.9967 - val_loss: 1.2147 - val_accuracy: 0.7208\n",
            "Epoch 88/100\n",
            "20/20 [==============================] - 0s 5ms/step - loss: 0.0217 - accuracy: 0.9984 - val_loss: 1.2306 - val_accuracy: 0.7468\n",
            "Epoch 89/100\n",
            "20/20 [==============================] - 0s 6ms/step - loss: 0.0172 - accuracy: 1.0000 - val_loss: 1.2215 - val_accuracy: 0.7403\n",
            "Epoch 90/100\n",
            "20/20 [==============================] - 0s 5ms/step - loss: 0.0164 - accuracy: 1.0000 - val_loss: 1.2716 - val_accuracy: 0.7273\n",
            "Epoch 91/100\n",
            "20/20 [==============================] - 0s 5ms/step - loss: 0.0160 - accuracy: 1.0000 - val_loss: 1.2365 - val_accuracy: 0.7208\n",
            "Epoch 92/100\n",
            "20/20 [==============================] - 0s 4ms/step - loss: 0.0154 - accuracy: 0.9984 - val_loss: 1.2780 - val_accuracy: 0.7273\n",
            "Epoch 93/100\n",
            "20/20 [==============================] - 0s 4ms/step - loss: 0.0146 - accuracy: 1.0000 - val_loss: 1.2976 - val_accuracy: 0.7338\n",
            "Epoch 94/100\n",
            "20/20 [==============================] - 0s 4ms/step - loss: 0.0168 - accuracy: 1.0000 - val_loss: 1.3226 - val_accuracy: 0.7273\n",
            "Epoch 95/100\n",
            "20/20 [==============================] - 0s 4ms/step - loss: 0.0125 - accuracy: 1.0000 - val_loss: 1.2930 - val_accuracy: 0.7468\n",
            "Epoch 96/100\n",
            "20/20 [==============================] - 0s 4ms/step - loss: 0.0121 - accuracy: 1.0000 - val_loss: 1.3508 - val_accuracy: 0.7078\n",
            "Epoch 97/100\n",
            "20/20 [==============================] - 0s 4ms/step - loss: 0.0119 - accuracy: 1.0000 - val_loss: 1.3104 - val_accuracy: 0.7338\n",
            "Epoch 98/100\n",
            "20/20 [==============================] - 0s 4ms/step - loss: 0.0112 - accuracy: 1.0000 - val_loss: 1.3725 - val_accuracy: 0.7403\n",
            "Epoch 99/100\n",
            "20/20 [==============================] - 0s 4ms/step - loss: 0.0111 - accuracy: 1.0000 - val_loss: 1.3625 - val_accuracy: 0.7403\n",
            "Epoch 100/100\n",
            "20/20 [==============================] - 0s 4ms/step - loss: 0.0098 - accuracy: 1.0000 - val_loss: 1.3747 - val_accuracy: 0.7338\n"
          ]
        }
      ],
      "source": [
        "result = model.fit(X_train_scaled,\n",
        "                   y_train,\n",
        "                   validation_data = (X_test_scaled, y_test),\n",
        "                   epochs=100)"
      ]
    },
    {
      "cell_type": "code",
      "execution_count": 33,
      "id": "e3551df5-c612-4084-b258-e43e03fd1c01",
      "metadata": {
        "id": "e3551df5-c612-4084-b258-e43e03fd1c01",
        "colab": {
          "base_uri": "https://localhost:8080/"
        },
        "outputId": "8856f35b-f949-4d87-d92b-b7601f804e50"
      },
      "outputs": [
        {
          "output_type": "stream",
          "name": "stdout",
          "text": [
            "20/20 [==============================] - 0s 1ms/step\n",
            "5/5 [==============================] - 0s 2ms/step\n"
          ]
        }
      ],
      "source": [
        "y_train_pred = model.predict(X_train_scaled)\n",
        "y_test_pred = model.predict(X_test_scaled)"
      ]
    },
    {
      "cell_type": "code",
      "execution_count": 34,
      "id": "e1f74d2e-3ec4-4b86-8975-bacdaf8cc79b",
      "metadata": {
        "id": "e1f74d2e-3ec4-4b86-8975-bacdaf8cc79b"
      },
      "outputs": [],
      "source": [
        "from sklearn.metrics import confusion_matrix, accuracy_score"
      ]
    },
    {
      "cell_type": "code",
      "execution_count": 35,
      "id": "c4edecff-1137-418f-8d39-21374a68f2cb",
      "metadata": {
        "id": "c4edecff-1137-418f-8d39-21374a68f2cb",
        "outputId": "dca357cf-a8de-403a-ed9d-ac736dcfdcb9",
        "colab": {
          "base_uri": "https://localhost:8080/"
        }
      },
      "outputs": [
        {
          "output_type": "execute_result",
          "data": {
            "text/plain": [
              "array([[400,   0],\n",
              "       [  0, 214]])"
            ]
          },
          "metadata": {},
          "execution_count": 35
        }
      ],
      "source": [
        "confusion_matrix(y_pred=y_train_pred >= 0.5,\n",
        "                 y_true = y_train)"
      ]
    },
    {
      "cell_type": "code",
      "execution_count": 36,
      "id": "ee5a513d-8de5-4b3a-9bb5-2f16a1641c50",
      "metadata": {
        "id": "ee5a513d-8de5-4b3a-9bb5-2f16a1641c50",
        "outputId": "5c3c90c8-54e3-4c3d-da5d-defd443b5cee",
        "colab": {
          "base_uri": "https://localhost:8080/"
        }
      },
      "outputs": [
        {
          "output_type": "execute_result",
          "data": {
            "text/plain": [
              "1.0"
            ]
          },
          "metadata": {},
          "execution_count": 36
        }
      ],
      "source": [
        "accuracy_score(y_pred=y_train_pred >= 0.5,\n",
        "               y_true = y_train)"
      ]
    },
    {
      "cell_type": "code",
      "execution_count": 37,
      "id": "83c9c1c1-4b5f-4d17-9a1f-05d920609e65",
      "metadata": {
        "id": "83c9c1c1-4b5f-4d17-9a1f-05d920609e65",
        "outputId": "05a85901-2e51-4ff5-870f-a7d001a145e4",
        "colab": {
          "base_uri": "https://localhost:8080/"
        }
      },
      "outputs": [
        {
          "output_type": "execute_result",
          "data": {
            "text/plain": [
              "array([[79, 21],\n",
              "       [20, 34]])"
            ]
          },
          "metadata": {},
          "execution_count": 37
        }
      ],
      "source": [
        "confusion_matrix(y_pred=y_test_pred >= 0.5,\n",
        "                 y_true = y_test)"
      ]
    },
    {
      "cell_type": "code",
      "execution_count": 38,
      "id": "e5c155ae-c1ab-4afb-bd8b-edc619be4cdf",
      "metadata": {
        "id": "e5c155ae-c1ab-4afb-bd8b-edc619be4cdf",
        "outputId": "d36bee21-452b-4f9c-a2fe-16af38db2b38",
        "colab": {
          "base_uri": "https://localhost:8080/"
        }
      },
      "outputs": [
        {
          "output_type": "execute_result",
          "data": {
            "text/plain": [
              "0.7337662337662337"
            ]
          },
          "metadata": {},
          "execution_count": 38
        }
      ],
      "source": [
        "accuracy_score(y_pred=y_test_pred >= 0.5,\n",
        "               y_true = y_test)"
      ]
    },
    {
      "cell_type": "code",
      "execution_count": 39,
      "id": "88a8ed66-80cd-4545-812f-66e5dcd72333",
      "metadata": {
        "id": "88a8ed66-80cd-4545-812f-66e5dcd72333"
      },
      "outputs": [],
      "source": [
        "history = pd.DataFrame(result.history)"
      ]
    },
    {
      "cell_type": "code",
      "execution_count": 40,
      "id": "7591d6f3-113e-4751-bc90-d815427fd3d1",
      "metadata": {
        "id": "7591d6f3-113e-4751-bc90-d815427fd3d1",
        "outputId": "b2226ca3-6817-4758-fe4f-54ba70f75c05",
        "colab": {
          "base_uri": "https://localhost:8080/",
          "height": 206
        }
      },
      "outputs": [
        {
          "output_type": "execute_result",
          "data": {
            "text/plain": [
              "       loss  accuracy  val_loss  val_accuracy\n",
              "0  0.634417  0.693811  0.554360      0.720779\n",
              "1  0.520378  0.752443  0.473400      0.785714\n",
              "2  0.478380  0.783388  0.444518      0.792208\n",
              "3  0.458765  0.785016  0.444212      0.798701\n",
              "4  0.455165  0.789902  0.436739      0.792208"
            ],
            "text/html": [
              "\n",
              "  <div id=\"df-1e1dd4e3-9885-4f9c-a0d1-5cda15258699\" class=\"colab-df-container\">\n",
              "    <div>\n",
              "<style scoped>\n",
              "    .dataframe tbody tr th:only-of-type {\n",
              "        vertical-align: middle;\n",
              "    }\n",
              "\n",
              "    .dataframe tbody tr th {\n",
              "        vertical-align: top;\n",
              "    }\n",
              "\n",
              "    .dataframe thead th {\n",
              "        text-align: right;\n",
              "    }\n",
              "</style>\n",
              "<table border=\"1\" class=\"dataframe\">\n",
              "  <thead>\n",
              "    <tr style=\"text-align: right;\">\n",
              "      <th></th>\n",
              "      <th>loss</th>\n",
              "      <th>accuracy</th>\n",
              "      <th>val_loss</th>\n",
              "      <th>val_accuracy</th>\n",
              "    </tr>\n",
              "  </thead>\n",
              "  <tbody>\n",
              "    <tr>\n",
              "      <th>0</th>\n",
              "      <td>0.634417</td>\n",
              "      <td>0.693811</td>\n",
              "      <td>0.554360</td>\n",
              "      <td>0.720779</td>\n",
              "    </tr>\n",
              "    <tr>\n",
              "      <th>1</th>\n",
              "      <td>0.520378</td>\n",
              "      <td>0.752443</td>\n",
              "      <td>0.473400</td>\n",
              "      <td>0.785714</td>\n",
              "    </tr>\n",
              "    <tr>\n",
              "      <th>2</th>\n",
              "      <td>0.478380</td>\n",
              "      <td>0.783388</td>\n",
              "      <td>0.444518</td>\n",
              "      <td>0.792208</td>\n",
              "    </tr>\n",
              "    <tr>\n",
              "      <th>3</th>\n",
              "      <td>0.458765</td>\n",
              "      <td>0.785016</td>\n",
              "      <td>0.444212</td>\n",
              "      <td>0.798701</td>\n",
              "    </tr>\n",
              "    <tr>\n",
              "      <th>4</th>\n",
              "      <td>0.455165</td>\n",
              "      <td>0.789902</td>\n",
              "      <td>0.436739</td>\n",
              "      <td>0.792208</td>\n",
              "    </tr>\n",
              "  </tbody>\n",
              "</table>\n",
              "</div>\n",
              "    <div class=\"colab-df-buttons\">\n",
              "\n",
              "  <div class=\"colab-df-container\">\n",
              "    <button class=\"colab-df-convert\" onclick=\"convertToInteractive('df-1e1dd4e3-9885-4f9c-a0d1-5cda15258699')\"\n",
              "            title=\"Convert this dataframe to an interactive table.\"\n",
              "            style=\"display:none;\">\n",
              "\n",
              "  <svg xmlns=\"http://www.w3.org/2000/svg\" height=\"24px\" viewBox=\"0 -960 960 960\">\n",
              "    <path d=\"M120-120v-720h720v720H120Zm60-500h600v-160H180v160Zm220 220h160v-160H400v160Zm0 220h160v-160H400v160ZM180-400h160v-160H180v160Zm440 0h160v-160H620v160ZM180-180h160v-160H180v160Zm440 0h160v-160H620v160Z\"/>\n",
              "  </svg>\n",
              "    </button>\n",
              "\n",
              "  <style>\n",
              "    .colab-df-container {\n",
              "      display:flex;\n",
              "      gap: 12px;\n",
              "    }\n",
              "\n",
              "    .colab-df-convert {\n",
              "      background-color: #E8F0FE;\n",
              "      border: none;\n",
              "      border-radius: 50%;\n",
              "      cursor: pointer;\n",
              "      display: none;\n",
              "      fill: #1967D2;\n",
              "      height: 32px;\n",
              "      padding: 0 0 0 0;\n",
              "      width: 32px;\n",
              "    }\n",
              "\n",
              "    .colab-df-convert:hover {\n",
              "      background-color: #E2EBFA;\n",
              "      box-shadow: 0px 1px 2px rgba(60, 64, 67, 0.3), 0px 1px 3px 1px rgba(60, 64, 67, 0.15);\n",
              "      fill: #174EA6;\n",
              "    }\n",
              "\n",
              "    .colab-df-buttons div {\n",
              "      margin-bottom: 4px;\n",
              "    }\n",
              "\n",
              "    [theme=dark] .colab-df-convert {\n",
              "      background-color: #3B4455;\n",
              "      fill: #D2E3FC;\n",
              "    }\n",
              "\n",
              "    [theme=dark] .colab-df-convert:hover {\n",
              "      background-color: #434B5C;\n",
              "      box-shadow: 0px 1px 3px 1px rgba(0, 0, 0, 0.15);\n",
              "      filter: drop-shadow(0px 1px 2px rgba(0, 0, 0, 0.3));\n",
              "      fill: #FFFFFF;\n",
              "    }\n",
              "  </style>\n",
              "\n",
              "    <script>\n",
              "      const buttonEl =\n",
              "        document.querySelector('#df-1e1dd4e3-9885-4f9c-a0d1-5cda15258699 button.colab-df-convert');\n",
              "      buttonEl.style.display =\n",
              "        google.colab.kernel.accessAllowed ? 'block' : 'none';\n",
              "\n",
              "      async function convertToInteractive(key) {\n",
              "        const element = document.querySelector('#df-1e1dd4e3-9885-4f9c-a0d1-5cda15258699');\n",
              "        const dataTable =\n",
              "          await google.colab.kernel.invokeFunction('convertToInteractive',\n",
              "                                                    [key], {});\n",
              "        if (!dataTable) return;\n",
              "\n",
              "        const docLinkHtml = 'Like what you see? Visit the ' +\n",
              "          '<a target=\"_blank\" href=https://colab.research.google.com/notebooks/data_table.ipynb>data table notebook</a>'\n",
              "          + ' to learn more about interactive tables.';\n",
              "        element.innerHTML = '';\n",
              "        dataTable['output_type'] = 'display_data';\n",
              "        await google.colab.output.renderOutput(dataTable, element);\n",
              "        const docLink = document.createElement('div');\n",
              "        docLink.innerHTML = docLinkHtml;\n",
              "        element.appendChild(docLink);\n",
              "      }\n",
              "    </script>\n",
              "  </div>\n",
              "\n",
              "\n",
              "<div id=\"df-31b1543a-d21f-48e4-9ac0-9594eda8b36c\">\n",
              "  <button class=\"colab-df-quickchart\" onclick=\"quickchart('df-31b1543a-d21f-48e4-9ac0-9594eda8b36c')\"\n",
              "            title=\"Suggest charts\"\n",
              "            style=\"display:none;\">\n",
              "\n",
              "<svg xmlns=\"http://www.w3.org/2000/svg\" height=\"24px\"viewBox=\"0 0 24 24\"\n",
              "     width=\"24px\">\n",
              "    <g>\n",
              "        <path d=\"M19 3H5c-1.1 0-2 .9-2 2v14c0 1.1.9 2 2 2h14c1.1 0 2-.9 2-2V5c0-1.1-.9-2-2-2zM9 17H7v-7h2v7zm4 0h-2V7h2v10zm4 0h-2v-4h2v4z\"/>\n",
              "    </g>\n",
              "</svg>\n",
              "  </button>\n",
              "\n",
              "<style>\n",
              "  .colab-df-quickchart {\n",
              "      --bg-color: #E8F0FE;\n",
              "      --fill-color: #1967D2;\n",
              "      --hover-bg-color: #E2EBFA;\n",
              "      --hover-fill-color: #174EA6;\n",
              "      --disabled-fill-color: #AAA;\n",
              "      --disabled-bg-color: #DDD;\n",
              "  }\n",
              "\n",
              "  [theme=dark] .colab-df-quickchart {\n",
              "      --bg-color: #3B4455;\n",
              "      --fill-color: #D2E3FC;\n",
              "      --hover-bg-color: #434B5C;\n",
              "      --hover-fill-color: #FFFFFF;\n",
              "      --disabled-bg-color: #3B4455;\n",
              "      --disabled-fill-color: #666;\n",
              "  }\n",
              "\n",
              "  .colab-df-quickchart {\n",
              "    background-color: var(--bg-color);\n",
              "    border: none;\n",
              "    border-radius: 50%;\n",
              "    cursor: pointer;\n",
              "    display: none;\n",
              "    fill: var(--fill-color);\n",
              "    height: 32px;\n",
              "    padding: 0;\n",
              "    width: 32px;\n",
              "  }\n",
              "\n",
              "  .colab-df-quickchart:hover {\n",
              "    background-color: var(--hover-bg-color);\n",
              "    box-shadow: 0 1px 2px rgba(60, 64, 67, 0.3), 0 1px 3px 1px rgba(60, 64, 67, 0.15);\n",
              "    fill: var(--button-hover-fill-color);\n",
              "  }\n",
              "\n",
              "  .colab-df-quickchart-complete:disabled,\n",
              "  .colab-df-quickchart-complete:disabled:hover {\n",
              "    background-color: var(--disabled-bg-color);\n",
              "    fill: var(--disabled-fill-color);\n",
              "    box-shadow: none;\n",
              "  }\n",
              "\n",
              "  .colab-df-spinner {\n",
              "    border: 2px solid var(--fill-color);\n",
              "    border-color: transparent;\n",
              "    border-bottom-color: var(--fill-color);\n",
              "    animation:\n",
              "      spin 1s steps(1) infinite;\n",
              "  }\n",
              "\n",
              "  @keyframes spin {\n",
              "    0% {\n",
              "      border-color: transparent;\n",
              "      border-bottom-color: var(--fill-color);\n",
              "      border-left-color: var(--fill-color);\n",
              "    }\n",
              "    20% {\n",
              "      border-color: transparent;\n",
              "      border-left-color: var(--fill-color);\n",
              "      border-top-color: var(--fill-color);\n",
              "    }\n",
              "    30% {\n",
              "      border-color: transparent;\n",
              "      border-left-color: var(--fill-color);\n",
              "      border-top-color: var(--fill-color);\n",
              "      border-right-color: var(--fill-color);\n",
              "    }\n",
              "    40% {\n",
              "      border-color: transparent;\n",
              "      border-right-color: var(--fill-color);\n",
              "      border-top-color: var(--fill-color);\n",
              "    }\n",
              "    60% {\n",
              "      border-color: transparent;\n",
              "      border-right-color: var(--fill-color);\n",
              "    }\n",
              "    80% {\n",
              "      border-color: transparent;\n",
              "      border-right-color: var(--fill-color);\n",
              "      border-bottom-color: var(--fill-color);\n",
              "    }\n",
              "    90% {\n",
              "      border-color: transparent;\n",
              "      border-bottom-color: var(--fill-color);\n",
              "    }\n",
              "  }\n",
              "</style>\n",
              "\n",
              "  <script>\n",
              "    async function quickchart(key) {\n",
              "      const quickchartButtonEl =\n",
              "        document.querySelector('#' + key + ' button');\n",
              "      quickchartButtonEl.disabled = true;  // To prevent multiple clicks.\n",
              "      quickchartButtonEl.classList.add('colab-df-spinner');\n",
              "      try {\n",
              "        const charts = await google.colab.kernel.invokeFunction(\n",
              "            'suggestCharts', [key], {});\n",
              "      } catch (error) {\n",
              "        console.error('Error during call to suggestCharts:', error);\n",
              "      }\n",
              "      quickchartButtonEl.classList.remove('colab-df-spinner');\n",
              "      quickchartButtonEl.classList.add('colab-df-quickchart-complete');\n",
              "    }\n",
              "    (() => {\n",
              "      let quickchartButtonEl =\n",
              "        document.querySelector('#df-31b1543a-d21f-48e4-9ac0-9594eda8b36c button');\n",
              "      quickchartButtonEl.style.display =\n",
              "        google.colab.kernel.accessAllowed ? 'block' : 'none';\n",
              "    })();\n",
              "  </script>\n",
              "</div>\n",
              "    </div>\n",
              "  </div>\n"
            ]
          },
          "metadata": {},
          "execution_count": 40
        }
      ],
      "source": [
        "history.head()"
      ]
    },
    {
      "cell_type": "code",
      "execution_count": 41,
      "id": "5bc6b994-3a44-49b0-b05f-1bff291eb317",
      "metadata": {
        "id": "5bc6b994-3a44-49b0-b05f-1bff291eb317"
      },
      "outputs": [],
      "source": [
        "import matplotlib.pyplot as plt"
      ]
    },
    {
      "cell_type": "code",
      "execution_count": 44,
      "id": "ad6b437b-a492-4ae2-b2d3-c463bbfc53e6",
      "metadata": {
        "id": "ad6b437b-a492-4ae2-b2d3-c463bbfc53e6",
        "outputId": "fe66c91b-44ea-4d18-e1db-c1f5ed490a24",
        "colab": {
          "base_uri": "https://localhost:8080/",
          "height": 457
        }
      },
      "outputs": [
        {
          "output_type": "display_data",
          "data": {
            "text/plain": [
              "<Figure size 1500x600 with 1 Axes>"
            ],
            "image/png": "[encoded data removed]"
          },
          "metadata": {}
        }
      ],
      "source": [
        "plt.figure(figsize = (15,6))\n",
        "plt.plot(history.val_loss, label='Test Set Loss')\n",
        "plt.plot(history.loss, label='Training Set Loss')\n",
        "plt.title('Epochs vs Loss')\n",
        "plt.xlabel('Epochs')\n",
        "plt.ylabel('Loss')\n",
        "plt.legend()\n",
        "plt.show()"
      ]
    },
    {
      "cell_type": "code",
      "execution_count": 43,
      "id": "88b30dc0-5cc8-4423-b100-46bb7b8f8497",
      "metadata": {
        "id": "88b30dc0-5cc8-4423-b100-46bb7b8f8497",
        "outputId": "41403616-274b-46cd-856a-ab0122bd9efc",
        "colab": {
          "base_uri": "https://localhost:8080/",
          "height": 454
        }
      },
      "outputs": [
        {
          "output_type": "display_data",
          "data": {
            "text/plain": [
              "<Figure size 1500x600 with 1 Axes>"
            ],
            "image/png": "[encoded data removed]"
          },
          "metadata": {}
        }
      ],
      "source": [
        "plt.figure(figsize = (15,6))\n",
        "plt.plot(history.val_accuracy, label='Test Set Accuracy')\n",
        "plt.plot(history.accuracy, label='Training Set Accuracy')\n",
        "plt.title('Epochs vs Accuracy')\n",
        "plt.xlabel('Epochs')\n",
        "plt.ylabel('Accuracy')\n",
        "plt.legend()\n",
        "plt.show()"
      ]
    },
    {
      "cell_type": "markdown",
      "id": "9979d168-d47b-481a-a6dd-4de51af41d6b",
      "metadata": {
        "id": "9979d168-d47b-481a-a6dd-4de51af41d6b"
      },
      "source": [
        "# Implement Early Stopping"
      ]
    },
    {
      "cell_type": "code",
      "execution_count": 45,
      "id": "970687e6-5baa-4e94-9a0c-a6d5017c698d",
      "metadata": {
        "id": "970687e6-5baa-4e94-9a0c-a6d5017c698d"
      },
      "outputs": [],
      "source": [
        "from tensorflow.keras.callbacks import EarlyStopping"
      ]
    },
    {
      "cell_type": "code",
      "execution_count": 46,
      "id": "fe340c34-388a-4661-b375-1b5624ab17f1",
      "metadata": {
        "id": "fe340c34-388a-4661-b375-1b5624ab17f1"
      },
      "outputs": [],
      "source": [
        "tf.random.set_seed(12345)"
      ]
    },
    {
      "cell_type": "code",
      "execution_count": 47,
      "id": "bc82e9a3-4dcf-4043-879c-8e63ce840368",
      "metadata": {
        "id": "bc82e9a3-4dcf-4043-879c-8e63ce840368"
      },
      "outputs": [],
      "source": [
        "model_es = Sequential()"
      ]
    },
    {
      "cell_type": "code",
      "execution_count": 48,
      "id": "e4cc2028-257a-4938-bfd5-095f6c16a832",
      "metadata": {
        "id": "e4cc2028-257a-4938-bfd5-095f6c16a832"
      },
      "outputs": [],
      "source": [
        "model_es.add(Input(shape = (X_train_scaled.shape[1],)))"
      ]
    },
    {
      "cell_type": "code",
      "execution_count": 49,
      "id": "82d39e0e-d8db-499c-b11d-02da12486d79",
      "metadata": {
        "id": "82d39e0e-d8db-499c-b11d-02da12486d79"
      },
      "outputs": [],
      "source": [
        "model_es.add(Dense(units = 128, activation='relu'))"
      ]
    },
    {
      "cell_type": "code",
      "execution_count": 50,
      "id": "db7834fa-11e6-4e4a-9bcd-0c967ecdc245",
      "metadata": {
        "id": "db7834fa-11e6-4e4a-9bcd-0c967ecdc245"
      },
      "outputs": [],
      "source": [
        "model_es.add(Dense(units = 64, activation = 'relu'))"
      ]
    },
    {
      "cell_type": "code",
      "execution_count": 51,
      "id": "91c5f7d9-99ee-47de-bc11-073d9e46d8f8",
      "metadata": {
        "id": "91c5f7d9-99ee-47de-bc11-073d9e46d8f8"
      },
      "outputs": [],
      "source": [
        "model_es.add(Dense(units = 32, activation = 'relu'))"
      ]
    },
    {
      "cell_type": "code",
      "execution_count": 52,
      "id": "8a55cb48-f5b5-4fcf-9d9b-2383a3235d90",
      "metadata": {
        "id": "8a55cb48-f5b5-4fcf-9d9b-2383a3235d90"
      },
      "outputs": [],
      "source": [
        "model_es.add(Dense(units = 1, activation = 'sigmoid'))"
      ]
    },
    {
      "cell_type": "code",
      "execution_count": 53,
      "id": "3c4b7940-57ea-46a2-aa58-889387aa4849",
      "metadata": {
        "id": "3c4b7940-57ea-46a2-aa58-889387aa4849",
        "outputId": "25463f30-7bda-49f8-d267-27615d51c47e",
        "colab": {
          "base_uri": "https://localhost:8080/"
        }
      },
      "outputs": [
        {
          "output_type": "stream",
          "name": "stdout",
          "text": [
            "Model: \"sequential_1\"\n",
            "_________________________________________________________________\n",
            " Layer (type)                Output Shape              Param #   \n",
            "=================================================================\n",
            " dense_4 (Dense)             (None, 128)               1152      \n",
            "                                                                 \n",
            " dense_5 (Dense)             (None, 64)                8256      \n",
            "                                                                 \n",
            " dense_6 (Dense)             (None, 32)                2080      \n",
            "                                                                 \n",
            " dense_7 (Dense)             (None, 1)                 33        \n",
            "                                                                 \n",
            "=================================================================\n",
            "Total params: 11521 (45.00 KB)\n",
            "Trainable params: 11521 (45.00 KB)\n",
            "Non-trainable params: 0 (0.00 Byte)\n",
            "_________________________________________________________________\n"
          ]
        }
      ],
      "source": [
        "model_es.summary()"
      ]
    },
    {
      "cell_type": "code",
      "execution_count": 54,
      "id": "bc879503-a99d-49aa-93ed-c9166a62e811",
      "metadata": {
        "id": "bc879503-a99d-49aa-93ed-c9166a62e811"
      },
      "outputs": [],
      "source": [
        "model_es.compile(optimizer='adam',\n",
        "                 loss='binary_crossentropy',\n",
        "                 metrics = 'accuracy')"
      ]
    },
    {
      "cell_type": "code",
      "execution_count": 55,
      "id": "6b25e43d-360a-4b45-9a41-6bad11e65f55",
      "metadata": {
        "id": "6b25e43d-360a-4b45-9a41-6bad11e65f55"
      },
      "outputs": [],
      "source": [
        "es = EarlyStopping(monitor='val_accuracy',\n",
        "                   verbose=1,\n",
        "                   patience = 4)"
      ]
    },
    {
      "cell_type": "code",
      "execution_count": 56,
      "id": "ea552974-465d-405b-b0fd-70222f63bb99",
      "metadata": {
        "id": "ea552974-465d-405b-b0fd-70222f63bb99",
        "outputId": "348072ae-4806-46cd-bae2-c0b7e0b3a68f",
        "colab": {
          "base_uri": "https://localhost:8080/"
        }
      },
      "outputs": [
        {
          "output_type": "stream",
          "name": "stdout",
          "text": [
            "Epoch 1/100\n",
            "20/20 [==============================] - 1s 13ms/step - loss: 0.6021 - accuracy: 0.7003 - val_loss: 0.5049 - val_accuracy: 0.7662\n",
            "Epoch 2/100\n",
            "20/20 [==============================] - 0s 5ms/step - loss: 0.4981 - accuracy: 0.7655 - val_loss: 0.4455 - val_accuracy: 0.7662\n",
            "Epoch 3/100\n",
            "20/20 [==============================] - 0s 4ms/step - loss: 0.4679 - accuracy: 0.7704 - val_loss: 0.4313 - val_accuracy: 0.7792\n",
            "Epoch 4/100\n",
            "20/20 [==============================] - 0s 4ms/step - loss: 0.4545 - accuracy: 0.7801 - val_loss: 0.4398 - val_accuracy: 0.7792\n",
            "Epoch 5/100\n",
            "20/20 [==============================] - 0s 3ms/step - loss: 0.4449 - accuracy: 0.7932 - val_loss: 0.4379 - val_accuracy: 0.7857\n",
            "Epoch 6/100\n",
            "20/20 [==============================] - 0s 4ms/step - loss: 0.4442 - accuracy: 0.7866 - val_loss: 0.4349 - val_accuracy: 0.7662\n",
            "Epoch 7/100\n",
            "20/20 [==============================] - 0s 4ms/step - loss: 0.4349 - accuracy: 0.7915 - val_loss: 0.4299 - val_accuracy: 0.7727\n",
            "Epoch 8/100\n",
            "20/20 [==============================] - 0s 4ms/step - loss: 0.4304 - accuracy: 0.8029 - val_loss: 0.4291 - val_accuracy: 0.7727\n",
            "Epoch 9/100\n",
            "20/20 [==============================] - 0s 4ms/step - loss: 0.4181 - accuracy: 0.8029 - val_loss: 0.4318 - val_accuracy: 0.7857\n",
            "Epoch 9: early stopping\n"
          ]
        }
      ],
      "source": [
        "result_es = model_es.fit(X_train_scaled,\n",
        "                         y_train,\n",
        "                         validation_data = (X_test_scaled, y_test),\n",
        "                         epochs = 100,\n",
        "                         callbacks=[es]\n",
        "                        )"
      ]
    },
    {
      "cell_type": "code",
      "execution_count": 57,
      "id": "86a16997-89a6-49b7-af54-ce20424eac65",
      "metadata": {
        "id": "86a16997-89a6-49b7-af54-ce20424eac65"
      },
      "outputs": [],
      "source": [
        "history_es = pd.DataFrame(result_es.history)"
      ]
    },
    {
      "cell_type": "code",
      "source": [
        "history_es.head()"
      ],
      "metadata": {
        "colab": {
          "base_uri": "https://localhost:8080/",
          "height": 206
        },
        "id": "_yH4ErvVVqMX",
        "outputId": "bf90d107-2ddc-4753-8513-6244c81f46c8"
      },
      "id": "_yH4ErvVVqMX",
      "execution_count": 60,
      "outputs": [
        {
          "output_type": "execute_result",
          "data": {
            "text/plain": [
              "       loss  accuracy  val_loss  val_accuracy\n",
              "0  0.602069  0.700326  0.504865      0.766234\n",
              "1  0.498095  0.765472  0.445493      0.766234\n",
              "2  0.467938  0.770358  0.431260      0.779221\n",
              "3  0.454459  0.780130  0.439774      0.779221\n",
              "4  0.444879  0.793160  0.437930      0.785714"
            ],
            "text/html": [
              "\n",
              "  <div id=\"df-40dd40cb-c22e-49af-9f4d-f84cb85e517e\" class=\"colab-df-container\">\n",
              "    <div>\n",
              "<style scoped>\n",
              "    .dataframe tbody tr th:only-of-type {\n",
              "        vertical-align: middle;\n",
              "    }\n",
              "\n",
              "    .dataframe tbody tr th {\n",
              "        vertical-align: top;\n",
              "    }\n",
              "\n",
              "    .dataframe thead th {\n",
              "        text-align: right;\n",
              "    }\n",
              "</style>\n",
              "<table border=\"1\" class=\"dataframe\">\n",
              "  <thead>\n",
              "    <tr style=\"text-align: right;\">\n",
              "      <th></th>\n",
              "      <th>loss</th>\n",
              "      <th>accuracy</th>\n",
              "      <th>val_loss</th>\n",
              "      <th>val_accuracy</th>\n",
              "    </tr>\n",
              "  </thead>\n",
              "  <tbody>\n",
              "    <tr>\n",
              "      <th>0</th>\n",
              "      <td>0.602069</td>\n",
              "      <td>0.700326</td>\n",
              "      <td>0.504865</td>\n",
              "      <td>0.766234</td>\n",
              "    </tr>\n",
              "    <tr>\n",
              "      <th>1</th>\n",
              "      <td>0.498095</td>\n",
              "      <td>0.765472</td>\n",
              "      <td>0.445493</td>\n",
              "      <td>0.766234</td>\n",
              "    </tr>\n",
              "    <tr>\n",
              "      <th>2</th>\n",
              "      <td>0.467938</td>\n",
              "      <td>0.770358</td>\n",
              "      <td>0.431260</td>\n",
              "      <td>0.779221</td>\n",
              "    </tr>\n",
              "    <tr>\n",
              "      <th>3</th>\n",
              "      <td>0.454459</td>\n",
              "      <td>0.780130</td>\n",
              "      <td>0.439774</td>\n",
              "      <td>0.779221</td>\n",
              "    </tr>\n",
              "    <tr>\n",
              "      <th>4</th>\n",
              "      <td>0.444879</td>\n",
              "      <td>0.793160</td>\n",
              "      <td>0.437930</td>\n",
              "      <td>0.785714</td>\n",
              "    </tr>\n",
              "  </tbody>\n",
              "</table>\n",
              "</div>\n",
              "    <div class=\"colab-df-buttons\">\n",
              "\n",
              "  <div class=\"colab-df-container\">\n",
              "    <button class=\"colab-df-convert\" onclick=\"convertToInteractive('df-40dd40cb-c22e-49af-9f4d-f84cb85e517e')\"\n",
              "            title=\"Convert this dataframe to an interactive table.\"\n",
              "            style=\"display:none;\">\n",
              "\n",
              "  <svg xmlns=\"http://www.w3.org/2000/svg\" height=\"24px\" viewBox=\"0 -960 960 960\">\n",
              "    <path d=\"M120-120v-720h720v720H120Zm60-500h600v-160H180v160Zm220 220h160v-160H400v160Zm0 220h160v-160H400v160ZM180-400h160v-160H180v160Zm440 0h160v-160H620v160ZM180-180h160v-160H180v160Zm440 0h160v-160H620v160Z\"/>\n",
              "  </svg>\n",
              "    </button>\n",
              "\n",
              "  <style>\n",
              "    .colab-df-container {\n",
              "      display:flex;\n",
              "      gap: 12px;\n",
              "    }\n",
              "\n",
              "    .colab-df-convert {\n",
              "      background-color: #E8F0FE;\n",
              "      border: none;\n",
              "      border-radius: 50%;\n",
              "      cursor: pointer;\n",
              "      display: none;\n",
              "      fill: #1967D2;\n",
              "      height: 32px;\n",
              "      padding: 0 0 0 0;\n",
              "      width: 32px;\n",
              "    }\n",
              "\n",
              "    .colab-df-convert:hover {\n",
              "      background-color: #E2EBFA;\n",
              "      box-shadow: 0px 1px 2px rgba(60, 64, 67, 0.3), 0px 1px 3px 1px rgba(60, 64, 67, 0.15);\n",
              "      fill: #174EA6;\n",
              "    }\n",
              "\n",
              "    .colab-df-buttons div {\n",
              "      margin-bottom: 4px;\n",
              "    }\n",
              "\n",
              "    [theme=dark] .colab-df-convert {\n",
              "      background-color: #3B4455;\n",
              "      fill: #D2E3FC;\n",
              "    }\n",
              "\n",
              "    [theme=dark] .colab-df-convert:hover {\n",
              "      background-color: #434B5C;\n",
              "      box-shadow: 0px 1px 3px 1px rgba(0, 0, 0, 0.15);\n",
              "      filter: drop-shadow(0px 1px 2px rgba(0, 0, 0, 0.3));\n",
              "      fill: #FFFFFF;\n",
              "    }\n",
              "  </style>\n",
              "\n",
              "    <script>\n",
              "      const buttonEl =\n",
              "        document.querySelector('#df-40dd40cb-c22e-49af-9f4d-f84cb85e517e button.colab-df-convert');\n",
              "      buttonEl.style.display =\n",
              "        google.colab.kernel.accessAllowed ? 'block' : 'none';\n",
              "\n",
              "      async function convertToInteractive(key) {\n",
              "        const element = document.querySelector('#df-40dd40cb-c22e-49af-9f4d-f84cb85e517e');\n",
              "        const dataTable =\n",
              "          await google.colab.kernel.invokeFunction('convertToInteractive',\n",
              "                                                    [key], {});\n",
              "        if (!dataTable) return;\n",
              "\n",
              "        const docLinkHtml = 'Like what you see? Visit the ' +\n",
              "          '<a target=\"_blank\" href=https://colab.research.google.com/notebooks/data_table.ipynb>data table notebook</a>'\n",
              "          + ' to learn more about interactive tables.';\n",
              "        element.innerHTML = '';\n",
              "        dataTable['output_type'] = 'display_data';\n",
              "        await google.colab.output.renderOutput(dataTable, element);\n",
              "        const docLink = document.createElement('div');\n",
              "        docLink.innerHTML = docLinkHtml;\n",
              "        element.appendChild(docLink);\n",
              "      }\n",
              "    </script>\n",
              "  </div>\n",
              "\n",
              "\n",
              "<div id=\"df-1be4e3b5-620e-4cc5-8406-5588fe7d2730\">\n",
              "  <button class=\"colab-df-quickchart\" onclick=\"quickchart('df-1be4e3b5-620e-4cc5-8406-5588fe7d2730')\"\n",
              "            title=\"Suggest charts\"\n",
              "            style=\"display:none;\">\n",
              "\n",
              "<svg xmlns=\"http://www.w3.org/2000/svg\" height=\"24px\"viewBox=\"0 0 24 24\"\n",
              "     width=\"24px\">\n",
              "    <g>\n",
              "        <path d=\"M19 3H5c-1.1 0-2 .9-2 2v14c0 1.1.9 2 2 2h14c1.1 0 2-.9 2-2V5c0-1.1-.9-2-2-2zM9 17H7v-7h2v7zm4 0h-2V7h2v10zm4 0h-2v-4h2v4z\"/>\n",
              "    </g>\n",
              "</svg>\n",
              "  </button>\n",
              "\n",
              "<style>\n",
              "  .colab-df-quickchart {\n",
              "      --bg-color: #E8F0FE;\n",
              "      --fill-color: #1967D2;\n",
              "      --hover-bg-color: #E2EBFA;\n",
              "      --hover-fill-color: #174EA6;\n",
              "      --disabled-fill-color: #AAA;\n",
              "      --disabled-bg-color: #DDD;\n",
              "  }\n",
              "\n",
              "  [theme=dark] .colab-df-quickchart {\n",
              "      --bg-color: #3B4455;\n",
              "      --fill-color: #D2E3FC;\n",
              "      --hover-bg-color: #434B5C;\n",
              "      --hover-fill-color: #FFFFFF;\n",
              "      --disabled-bg-color: #3B4455;\n",
              "      --disabled-fill-color: #666;\n",
              "  }\n",
              "\n",
              "  .colab-df-quickchart {\n",
              "    background-color: var(--bg-color);\n",
              "    border: none;\n",
              "    border-radius: 50%;\n",
              "    cursor: pointer;\n",
              "    display: none;\n",
              "    fill: var(--fill-color);\n",
              "    height: 32px;\n",
              "    padding: 0;\n",
              "    width: 32px;\n",
              "  }\n",
              "\n",
              "  .colab-df-quickchart:hover {\n",
              "    background-color: var(--hover-bg-color);\n",
              "    box-shadow: 0 1px 2px rgba(60, 64, 67, 0.3), 0 1px 3px 1px rgba(60, 64, 67, 0.15);\n",
              "    fill: var(--button-hover-fill-color);\n",
              "  }\n",
              "\n",
              "  .colab-df-quickchart-complete:disabled,\n",
              "  .colab-df-quickchart-complete:disabled:hover {\n",
              "    background-color: var(--disabled-bg-color);\n",
              "    fill: var(--disabled-fill-color);\n",
              "    box-shadow: none;\n",
              "  }\n",
              "\n",
              "  .colab-df-spinner {\n",
              "    border: 2px solid var(--fill-color);\n",
              "    border-color: transparent;\n",
              "    border-bottom-color: var(--fill-color);\n",
              "    animation:\n",
              "      spin 1s steps(1) infinite;\n",
              "  }\n",
              "\n",
              "  @keyframes spin {\n",
              "    0% {\n",
              "      border-color: transparent;\n",
              "      border-bottom-color: var(--fill-color);\n",
              "      border-left-color: var(--fill-color);\n",
              "    }\n",
              "    20% {\n",
              "      border-color: transparent;\n",
              "      border-left-color: var(--fill-color);\n",
              "      border-top-color: var(--fill-color);\n",
              "    }\n",
              "    30% {\n",
              "      border-color: transparent;\n",
              "      border-left-color: var(--fill-color);\n",
              "      border-top-color: var(--fill-color);\n",
              "      border-right-color: var(--fill-color);\n",
              "    }\n",
              "    40% {\n",
              "      border-color: transparent;\n",
              "      border-right-color: var(--fill-color);\n",
              "      border-top-color: var(--fill-color);\n",
              "    }\n",
              "    60% {\n",
              "      border-color: transparent;\n",
              "      border-right-color: var(--fill-color);\n",
              "    }\n",
              "    80% {\n",
              "      border-color: transparent;\n",
              "      border-right-color: var(--fill-color);\n",
              "      border-bottom-color: var(--fill-color);\n",
              "    }\n",
              "    90% {\n",
              "      border-color: transparent;\n",
              "      border-bottom-color: var(--fill-color);\n",
              "    }\n",
              "  }\n",
              "</style>\n",
              "\n",
              "  <script>\n",
              "    async function quickchart(key) {\n",
              "      const quickchartButtonEl =\n",
              "        document.querySelector('#' + key + ' button');\n",
              "      quickchartButtonEl.disabled = true;  // To prevent multiple clicks.\n",
              "      quickchartButtonEl.classList.add('colab-df-spinner');\n",
              "      try {\n",
              "        const charts = await google.colab.kernel.invokeFunction(\n",
              "            'suggestCharts', [key], {});\n",
              "      } catch (error) {\n",
              "        console.error('Error during call to suggestCharts:', error);\n",
              "      }\n",
              "      quickchartButtonEl.classList.remove('colab-df-spinner');\n",
              "      quickchartButtonEl.classList.add('colab-df-quickchart-complete');\n",
              "    }\n",
              "    (() => {\n",
              "      let quickchartButtonEl =\n",
              "        document.querySelector('#df-1be4e3b5-620e-4cc5-8406-5588fe7d2730 button');\n",
              "      quickchartButtonEl.style.display =\n",
              "        google.colab.kernel.accessAllowed ? 'block' : 'none';\n",
              "    })();\n",
              "  </script>\n",
              "</div>\n",
              "    </div>\n",
              "  </div>\n"
            ]
          },
          "metadata": {},
          "execution_count": 60
        }
      ]
    },
    {
      "cell_type": "code",
      "source": [
        "np.unique(y_train), np.unique(y_train_pred >=0.5)"
      ],
      "metadata": {
        "colab": {
          "base_uri": "https://localhost:8080/"
        },
        "id": "RHoZVsd1WeKt",
        "outputId": "549f3d34-d09d-4dff-fd47-d36c3c032abe"
      },
      "id": "RHoZVsd1WeKt",
      "execution_count": 63,
      "outputs": [
        {
          "output_type": "execute_result",
          "data": {
            "text/plain": [
              "(array([0, 1]), array([False,  True]))"
            ]
          },
          "metadata": {},
          "execution_count": 63
        }
      ]
    },
    {
      "cell_type": "code",
      "source": [
        "y_train[0:5]"
      ],
      "metadata": {
        "colab": {
          "base_uri": "https://localhost:8080/"
        },
        "id": "jg_sH7mMWx5w",
        "outputId": "d9f68bec-93e8-4bc9-9e2d-9cd11ff1b355"
      },
      "id": "jg_sH7mMWx5w",
      "execution_count": 62,
      "outputs": [
        {
          "output_type": "execute_result",
          "data": {
            "text/plain": [
              "128    1\n",
              "626    0\n",
              "328    1\n",
              "634    0\n",
              "511    0\n",
              "Name: Outcome, dtype: int64"
            ]
          },
          "metadata": {},
          "execution_count": 62
        }
      ]
    },
    {
      "cell_type": "code",
      "execution_count": 58,
      "id": "dba40d6e-4168-4b90-be5b-32065ea2b492",
      "metadata": {
        "id": "dba40d6e-4168-4b90-be5b-32065ea2b492",
        "outputId": "4531003c-47fc-41fd-9f52-250762f305e7",
        "colab": {
          "base_uri": "https://localhost:8080/",
          "height": 328
        }
      },
      "outputs": [
        {
          "output_type": "display_data",
          "data": {
            "text/plain": [
              "<Figure size 1500x400 with 1 Axes>"
            ],
            "image/png": "[encoded data removed]"
          },
          "metadata": {}
        }
      ],
      "source": [
        "plt.figure(figsize = (15,4))\n",
        "plt.plot(history_es.val_loss, label='Test Set Loss')\n",
        "plt.plot(history_es.loss, label='Training Set Loss')\n",
        "plt.title('Epochs vs Loss (Early Stopping)')\n",
        "plt.xlabel('Epochs')\n",
        "plt.ylabel('Loss')\n",
        "plt.legend()\n",
        "plt.show()"
      ]
    },
    {
      "cell_type": "code",
      "execution_count": 59,
      "id": "d6c10c25-ce5e-4752-ace3-6bd0f9ad6902",
      "metadata": {
        "id": "d6c10c25-ce5e-4752-ace3-6bd0f9ad6902",
        "outputId": "538430f8-3d78-4337-d5b0-6e51ffb3374e",
        "colab": {
          "base_uri": "https://localhost:8080/",
          "height": 331
        }
      },
      "outputs": [
        {
          "output_type": "display_data",
          "data": {
            "text/plain": [
              "<Figure size 1500x400 with 1 Axes>"
            ],
            "image/png": "[encoded data removed]"
          },
          "metadata": {}
        }
      ],
      "source": [
        "plt.figure(figsize = (15,4))\n",
        "plt.plot(history_es.val_accuracy, label='Test Set Accuracy')\n",
        "plt.plot(history_es.accuracy, label='Training Set Accuracy')\n",
        "plt.title('Epochs vs Accuracy (Early Stopping)')\n",
        "plt.xlabel('Epochs')\n",
        "plt.ylabel('Accuracy')\n",
        "plt.legend()\n",
        "plt.show()"
      ]
    },
    {
      "cell_type": "markdown",
      "id": "154daf81-3905-4ebf-a1b7-e319fe08d5ba",
      "metadata": {
        "id": "154daf81-3905-4ebf-a1b7-e319fe08d5ba"
      },
      "source": [
        "# Implementing L1 Regularization"
      ]
    },
    {
      "cell_type": "code",
      "execution_count": 64,
      "id": "20d11a35-f5a7-43bb-8498-1070637f1056",
      "metadata": {
        "id": "20d11a35-f5a7-43bb-8498-1070637f1056"
      },
      "outputs": [],
      "source": [
        "tf.random.set_seed(12345)"
      ]
    },
    {
      "cell_type": "code",
      "execution_count": 78,
      "id": "ae44ca9e-4402-4edd-b182-dfc9e00233de",
      "metadata": {
        "id": "ae44ca9e-4402-4edd-b182-dfc9e00233de"
      },
      "outputs": [],
      "source": [
        "model_reg = Sequential()"
      ]
    },
    {
      "cell_type": "code",
      "execution_count": 79,
      "id": "688ffb6f-f7c1-431a-81a3-b40cc930e4dd",
      "metadata": {
        "id": "688ffb6f-f7c1-431a-81a3-b40cc930e4dd"
      },
      "outputs": [],
      "source": [
        "model_reg.add(Input(shape = (X_train_scaled.shape[1],)))"
      ]
    },
    {
      "cell_type": "code",
      "execution_count": 80,
      "id": "ce7a5ff9-481b-43a1-81f8-c1f033d22609",
      "metadata": {
        "id": "ce7a5ff9-481b-43a1-81f8-c1f033d22609"
      },
      "outputs": [],
      "source": [
        "# First Hidden Layer - 128 neurons, Relu activation, L1 Regularizer for the Kernel\n",
        "model_reg.add(Dense(units=128,\n",
        "                    activation='relu',\n",
        "                    kernel_regularizer = tf.keras.regularizers.L1()\n",
        "                   )\n",
        "             )"
      ]
    },
    {
      "cell_type": "code",
      "execution_count": 81,
      "id": "e8f1c3ce-d58e-42f8-88b1-b9b9bd5bafc5",
      "metadata": {
        "id": "e8f1c3ce-d58e-42f8-88b1-b9b9bd5bafc5"
      },
      "outputs": [],
      "source": [
        "# Second Hidden Layer - 64 neurons, Relu activation, L1 Regularizer for the Kernel\n",
        "model_reg.add(Dense(units=64,\n",
        "                    activation='relu',\n",
        "                    kernel_regularizer = tf.keras.regularizers.L1()))"
      ]
    },
    {
      "cell_type": "code",
      "execution_count": 82,
      "id": "8c96a8c9-9084-4431-8220-8ecb53d0c6c7",
      "metadata": {
        "id": "8c96a8c9-9084-4431-8220-8ecb53d0c6c7"
      },
      "outputs": [],
      "source": [
        "# Third Hidden Layer 32, relu\n",
        "model_reg.add(Dense(units=32,\n",
        "                    activation='relu'))"
      ]
    },
    {
      "cell_type": "code",
      "execution_count": 83,
      "id": "923a581e-28b9-494e-9ec1-c915ca67b193",
      "metadata": {
        "id": "923a581e-28b9-494e-9ec1-c915ca67b193"
      },
      "outputs": [],
      "source": [
        "# Output layer - Sigmoid\n",
        "model_reg.add(Dense(units=1,\n",
        "                    activation='sigmoid'))"
      ]
    },
    {
      "cell_type": "code",
      "execution_count": 84,
      "id": "51acb16a-905e-4772-9924-0a2ddcd6f399",
      "metadata": {
        "id": "51acb16a-905e-4772-9924-0a2ddcd6f399",
        "outputId": "4d490167-a0f2-42bd-c6c5-9cdf1c94c485",
        "colab": {
          "base_uri": "https://localhost:8080/"
        }
      },
      "outputs": [
        {
          "output_type": "stream",
          "name": "stdout",
          "text": [
            "Model: \"sequential_3\"\n",
            "_________________________________________________________________\n",
            " Layer (type)                Output Shape              Param #   \n",
            "=================================================================\n",
            " dense_12 (Dense)            (None, 128)               1152      \n",
            "                                                                 \n",
            " dense_13 (Dense)            (None, 64)                8256      \n",
            "                                                                 \n",
            " dense_14 (Dense)            (None, 32)                2080      \n",
            "                                                                 \n",
            " dense_15 (Dense)            (None, 1)                 33        \n",
            "                                                                 \n",
            "=================================================================\n",
            "Total params: 11521 (45.00 KB)\n",
            "Trainable params: 11521 (45.00 KB)\n",
            "Non-trainable params: 0 (0.00 Byte)\n",
            "_________________________________________________________________\n"
          ]
        }
      ],
      "source": [
        "model_reg.summary()"
      ]
    },
    {
      "cell_type": "code",
      "execution_count": 85,
      "id": "23f56ac8-e6b1-4e4f-8623-26f0e0995a09",
      "metadata": {
        "id": "23f56ac8-e6b1-4e4f-8623-26f0e0995a09"
      },
      "outputs": [],
      "source": [
        "model_reg.compile(optimizer = 'adam',\n",
        "                  loss = 'binary_crossentropy',\n",
        "                  metrics = 'accuracy')"
      ]
    },
    {
      "cell_type": "code",
      "execution_count": 86,
      "id": "4b354a99-cb33-4021-970b-ac5171d07e96",
      "metadata": {
        "id": "4b354a99-cb33-4021-970b-ac5171d07e96",
        "outputId": "990e2392-7885-42a4-d87c-937ee42983e4",
        "colab": {
          "base_uri": "https://localhost:8080/"
        }
      },
      "outputs": [
        {
          "output_type": "stream",
          "name": "stdout",
          "text": [
            "Model: \"sequential_3\"\n",
            "_________________________________________________________________\n",
            " Layer (type)                Output Shape              Param #   \n",
            "=================================================================\n",
            " dense_12 (Dense)            (None, 128)               1152      \n",
            "                                                                 \n",
            " dense_13 (Dense)            (None, 64)                8256      \n",
            "                                                                 \n",
            " dense_14 (Dense)            (None, 32)                2080      \n",
            "                                                                 \n",
            " dense_15 (Dense)            (None, 1)                 33        \n",
            "                                                                 \n",
            "=================================================================\n",
            "Total params: 11521 (45.00 KB)\n",
            "Trainable params: 11521 (45.00 KB)\n",
            "Non-trainable params: 0 (0.00 Byte)\n",
            "_________________________________________________________________\n"
          ]
        }
      ],
      "source": [
        "model_reg.summary()"
      ]
    },
    {
      "cell_type": "code",
      "execution_count": 87,
      "id": "e5efd711-de67-461b-b929-6ee040693a3b",
      "metadata": {
        "id": "e5efd711-de67-461b-b929-6ee040693a3b",
        "outputId": "8dd574e3-8362-4866-ddd2-69c79cd6521e",
        "colab": {
          "base_uri": "https://localhost:8080/"
        }
      },
      "outputs": [
        {
          "output_type": "stream",
          "name": "stdout",
          "text": [
            "Epoch 1/100\n",
            "20/20 [==============================] - 1s 13ms/step - loss: 8.1788 - accuracy: 0.6694 - val_loss: 7.2486 - val_accuracy: 0.7208\n",
            "Epoch 2/100\n",
            "20/20 [==============================] - 0s 4ms/step - loss: 6.5415 - accuracy: 0.7068 - val_loss: 5.7204 - val_accuracy: 0.7143\n",
            "Epoch 3/100\n",
            "20/20 [==============================] - 0s 4ms/step - loss: 5.1092 - accuracy: 0.7362 - val_loss: 4.3959 - val_accuracy: 0.7338\n",
            "Epoch 4/100\n",
            "20/20 [==============================] - 0s 5ms/step - loss: 3.8840 - accuracy: 0.7541 - val_loss: 3.2877 - val_accuracy: 0.7468\n",
            "Epoch 5/100\n",
            "20/20 [==============================] - 0s 4ms/step - loss: 2.8690 - accuracy: 0.7541 - val_loss: 2.3846 - val_accuracy: 0.7403\n",
            "Epoch 6/100\n",
            "20/20 [==============================] - 0s 4ms/step - loss: 2.0580 - accuracy: 0.7655 - val_loss: 1.6817 - val_accuracy: 0.7597\n",
            "Epoch 7/100\n",
            "20/20 [==============================] - 0s 3ms/step - loss: 1.4426 - accuracy: 0.7655 - val_loss: 1.1682 - val_accuracy: 0.7727\n",
            "Epoch 8/100\n",
            "20/20 [==============================] - 0s 3ms/step - loss: 1.0179 - accuracy: 0.7590 - val_loss: 0.8443 - val_accuracy: 0.7662\n",
            "Epoch 9/100\n",
            "20/20 [==============================] - 0s 4ms/step - loss: 0.7742 - accuracy: 0.7590 - val_loss: 0.6970 - val_accuracy: 0.7662\n",
            "Epoch 10/100\n",
            "20/20 [==============================] - 0s 4ms/step - loss: 0.6746 - accuracy: 0.7638 - val_loss: 0.6332 - val_accuracy: 0.7727\n",
            "Epoch 11/100\n",
            "20/20 [==============================] - 0s 4ms/step - loss: 0.6284 - accuracy: 0.7687 - val_loss: 0.6034 - val_accuracy: 0.7662\n",
            "Epoch 12/100\n",
            "20/20 [==============================] - 0s 5ms/step - loss: 0.6070 - accuracy: 0.7638 - val_loss: 0.5780 - val_accuracy: 0.7792\n",
            "Epoch 13/100\n",
            "20/20 [==============================] - 0s 4ms/step - loss: 0.5895 - accuracy: 0.7720 - val_loss: 0.5658 - val_accuracy: 0.7727\n",
            "Epoch 14/100\n",
            "20/20 [==============================] - 0s 3ms/step - loss: 0.5789 - accuracy: 0.7785 - val_loss: 0.5577 - val_accuracy: 0.7727\n",
            "Epoch 15/100\n",
            "20/20 [==============================] - 0s 3ms/step - loss: 0.5723 - accuracy: 0.7801 - val_loss: 0.5521 - val_accuracy: 0.7727\n",
            "Epoch 16/100\n",
            "20/20 [==============================] - 0s 4ms/step - loss: 0.5650 - accuracy: 0.7720 - val_loss: 0.5437 - val_accuracy: 0.7727\n",
            "Epoch 17/100\n",
            "20/20 [==============================] - 0s 4ms/step - loss: 0.5607 - accuracy: 0.7736 - val_loss: 0.5373 - val_accuracy: 0.7857\n",
            "Epoch 18/100\n",
            "20/20 [==============================] - 0s 4ms/step - loss: 0.5521 - accuracy: 0.7704 - val_loss: 0.5290 - val_accuracy: 0.7857\n",
            "Epoch 19/100\n",
            "20/20 [==============================] - 0s 4ms/step - loss: 0.5482 - accuracy: 0.7785 - val_loss: 0.5286 - val_accuracy: 0.7727\n",
            "Epoch 20/100\n",
            "20/20 [==============================] - 0s 4ms/step - loss: 0.5489 - accuracy: 0.7671 - val_loss: 0.5238 - val_accuracy: 0.7922\n",
            "Epoch 21/100\n",
            "20/20 [==============================] - 0s 4ms/step - loss: 0.5450 - accuracy: 0.7720 - val_loss: 0.5190 - val_accuracy: 0.7792\n",
            "Epoch 22/100\n",
            "20/20 [==============================] - 0s 4ms/step - loss: 0.5398 - accuracy: 0.7736 - val_loss: 0.5176 - val_accuracy: 0.7792\n",
            "Epoch 23/100\n",
            "20/20 [==============================] - 0s 4ms/step - loss: 0.5378 - accuracy: 0.7720 - val_loss: 0.5118 - val_accuracy: 0.7857\n",
            "Epoch 24/100\n",
            "20/20 [==============================] - 0s 5ms/step - loss: 0.5335 - accuracy: 0.7818 - val_loss: 0.5143 - val_accuracy: 0.7922\n",
            "Epoch 25/100\n",
            "20/20 [==============================] - 0s 5ms/step - loss: 0.5343 - accuracy: 0.7655 - val_loss: 0.5119 - val_accuracy: 0.7857\n",
            "Epoch 26/100\n",
            "20/20 [==============================] - 0s 4ms/step - loss: 0.5336 - accuracy: 0.7801 - val_loss: 0.5077 - val_accuracy: 0.7857\n",
            "Epoch 27/100\n",
            "20/20 [==============================] - 0s 4ms/step - loss: 0.5299 - accuracy: 0.7785 - val_loss: 0.5091 - val_accuracy: 0.7857\n",
            "Epoch 28/100\n",
            "20/20 [==============================] - 0s 4ms/step - loss: 0.5335 - accuracy: 0.7834 - val_loss: 0.5259 - val_accuracy: 0.7727\n",
            "Epoch 29/100\n",
            "20/20 [==============================] - 0s 4ms/step - loss: 0.5408 - accuracy: 0.7834 - val_loss: 0.5157 - val_accuracy: 0.7662\n",
            "Epoch 30/100\n",
            "20/20 [==============================] - 0s 4ms/step - loss: 0.5309 - accuracy: 0.7638 - val_loss: 0.5028 - val_accuracy: 0.7792\n",
            "Epoch 31/100\n",
            "20/20 [==============================] - 0s 5ms/step - loss: 0.5272 - accuracy: 0.7736 - val_loss: 0.5017 - val_accuracy: 0.7857\n",
            "Epoch 32/100\n",
            "20/20 [==============================] - 0s 4ms/step - loss: 0.5246 - accuracy: 0.7720 - val_loss: 0.4970 - val_accuracy: 0.7922\n",
            "Epoch 33/100\n",
            "20/20 [==============================] - 0s 4ms/step - loss: 0.5253 - accuracy: 0.7785 - val_loss: 0.4972 - val_accuracy: 0.7922\n",
            "Epoch 34/100\n",
            "20/20 [==============================] - 0s 4ms/step - loss: 0.5261 - accuracy: 0.7785 - val_loss: 0.4962 - val_accuracy: 0.8052\n",
            "Epoch 35/100\n",
            "20/20 [==============================] - 0s 4ms/step - loss: 0.5236 - accuracy: 0.7866 - val_loss: 0.4998 - val_accuracy: 0.7922\n",
            "Epoch 36/100\n",
            "20/20 [==============================] - 0s 4ms/step - loss: 0.5266 - accuracy: 0.7818 - val_loss: 0.5026 - val_accuracy: 0.7987\n",
            "Epoch 37/100\n",
            "20/20 [==============================] - 0s 4ms/step - loss: 0.5288 - accuracy: 0.7752 - val_loss: 0.4960 - val_accuracy: 0.7922\n",
            "Epoch 38/100\n",
            "20/20 [==============================] - 0s 4ms/step - loss: 0.5243 - accuracy: 0.7720 - val_loss: 0.4980 - val_accuracy: 0.7922\n",
            "Epoch 39/100\n",
            "20/20 [==============================] - 0s 4ms/step - loss: 0.5299 - accuracy: 0.7687 - val_loss: 0.4971 - val_accuracy: 0.7922\n",
            "Epoch 40/100\n",
            "20/20 [==============================] - 0s 5ms/step - loss: 0.5227 - accuracy: 0.7818 - val_loss: 0.4934 - val_accuracy: 0.7987\n",
            "Epoch 41/100\n",
            "20/20 [==============================] - 0s 6ms/step - loss: 0.5197 - accuracy: 0.7834 - val_loss: 0.4908 - val_accuracy: 0.7987\n",
            "Epoch 42/100\n",
            "20/20 [==============================] - 0s 6ms/step - loss: 0.5183 - accuracy: 0.7736 - val_loss: 0.4918 - val_accuracy: 0.7857\n",
            "Epoch 43/100\n",
            "20/20 [==============================] - 0s 6ms/step - loss: 0.5218 - accuracy: 0.7834 - val_loss: 0.5041 - val_accuracy: 0.7727\n",
            "Epoch 44/100\n",
            "20/20 [==============================] - 0s 7ms/step - loss: 0.5231 - accuracy: 0.7785 - val_loss: 0.4932 - val_accuracy: 0.7987\n",
            "Epoch 45/100\n",
            "20/20 [==============================] - 0s 7ms/step - loss: 0.5242 - accuracy: 0.7818 - val_loss: 0.4933 - val_accuracy: 0.7922\n",
            "Epoch 46/100\n",
            "20/20 [==============================] - 0s 6ms/step - loss: 0.5201 - accuracy: 0.7801 - val_loss: 0.4973 - val_accuracy: 0.7727\n",
            "Epoch 47/100\n",
            "20/20 [==============================] - 0s 6ms/step - loss: 0.5201 - accuracy: 0.7818 - val_loss: 0.4945 - val_accuracy: 0.8052\n",
            "Epoch 48/100\n",
            "20/20 [==============================] - 0s 6ms/step - loss: 0.5208 - accuracy: 0.7752 - val_loss: 0.4935 - val_accuracy: 0.7857\n",
            "Epoch 49/100\n",
            "20/20 [==============================] - 0s 5ms/step - loss: 0.5172 - accuracy: 0.7752 - val_loss: 0.4878 - val_accuracy: 0.7922\n",
            "Epoch 50/100\n",
            "20/20 [==============================] - 0s 6ms/step - loss: 0.5209 - accuracy: 0.7834 - val_loss: 0.4942 - val_accuracy: 0.7922\n",
            "Epoch 51/100\n",
            "20/20 [==============================] - 0s 5ms/step - loss: 0.5175 - accuracy: 0.7769 - val_loss: 0.4880 - val_accuracy: 0.7922\n",
            "Epoch 52/100\n",
            "20/20 [==============================] - 0s 5ms/step - loss: 0.5185 - accuracy: 0.7752 - val_loss: 0.4896 - val_accuracy: 0.8052\n",
            "Epoch 53/100\n",
            "20/20 [==============================] - 0s 6ms/step - loss: 0.5208 - accuracy: 0.7850 - val_loss: 0.4896 - val_accuracy: 0.7922\n",
            "Epoch 54/100\n",
            "20/20 [==============================] - 0s 7ms/step - loss: 0.5147 - accuracy: 0.7801 - val_loss: 0.4836 - val_accuracy: 0.7987\n",
            "Epoch 55/100\n",
            "20/20 [==============================] - 0s 6ms/step - loss: 0.5168 - accuracy: 0.7834 - val_loss: 0.4875 - val_accuracy: 0.7922\n",
            "Epoch 56/100\n",
            "20/20 [==============================] - 0s 5ms/step - loss: 0.5197 - accuracy: 0.7752 - val_loss: 0.4883 - val_accuracy: 0.7922\n",
            "Epoch 57/100\n",
            "20/20 [==============================] - 0s 6ms/step - loss: 0.5126 - accuracy: 0.7785 - val_loss: 0.4819 - val_accuracy: 0.7922\n",
            "Epoch 58/100\n",
            "20/20 [==============================] - 0s 6ms/step - loss: 0.5143 - accuracy: 0.7752 - val_loss: 0.4850 - val_accuracy: 0.7922\n",
            "Epoch 59/100\n",
            "20/20 [==============================] - 0s 6ms/step - loss: 0.5156 - accuracy: 0.7899 - val_loss: 0.4866 - val_accuracy: 0.7857\n",
            "Epoch 60/100\n",
            "20/20 [==============================] - 0s 5ms/step - loss: 0.5166 - accuracy: 0.7785 - val_loss: 0.4831 - val_accuracy: 0.7987\n",
            "Epoch 61/100\n",
            "20/20 [==============================] - 0s 5ms/step - loss: 0.5148 - accuracy: 0.7736 - val_loss: 0.4872 - val_accuracy: 0.7727\n",
            "Epoch 62/100\n",
            "20/20 [==============================] - 0s 6ms/step - loss: 0.5189 - accuracy: 0.7720 - val_loss: 0.4874 - val_accuracy: 0.7922\n",
            "Epoch 63/100\n",
            "20/20 [==============================] - 0s 6ms/step - loss: 0.5153 - accuracy: 0.7801 - val_loss: 0.4867 - val_accuracy: 0.7922\n",
            "Epoch 64/100\n",
            "20/20 [==============================] - 0s 6ms/step - loss: 0.5126 - accuracy: 0.7850 - val_loss: 0.4795 - val_accuracy: 0.7987\n",
            "Epoch 65/100\n",
            "20/20 [==============================] - 0s 6ms/step - loss: 0.5113 - accuracy: 0.7752 - val_loss: 0.4803 - val_accuracy: 0.7922\n",
            "Epoch 66/100\n",
            "20/20 [==============================] - 0s 6ms/step - loss: 0.5098 - accuracy: 0.7818 - val_loss: 0.4828 - val_accuracy: 0.8052\n",
            "Epoch 67/100\n",
            "20/20 [==============================] - 0s 6ms/step - loss: 0.5151 - accuracy: 0.7801 - val_loss: 0.4831 - val_accuracy: 0.7922\n",
            "Epoch 68/100\n",
            "20/20 [==============================] - 0s 6ms/step - loss: 0.5111 - accuracy: 0.7769 - val_loss: 0.4796 - val_accuracy: 0.7987\n",
            "Epoch 69/100\n",
            "20/20 [==============================] - 0s 4ms/step - loss: 0.5102 - accuracy: 0.7801 - val_loss: 0.4814 - val_accuracy: 0.7922\n",
            "Epoch 70/100\n",
            "20/20 [==============================] - 0s 4ms/step - loss: 0.5102 - accuracy: 0.7704 - val_loss: 0.4822 - val_accuracy: 0.7922\n",
            "Epoch 71/100\n",
            "20/20 [==============================] - 0s 4ms/step - loss: 0.5089 - accuracy: 0.7785 - val_loss: 0.4846 - val_accuracy: 0.7922\n",
            "Epoch 72/100\n",
            "20/20 [==============================] - 0s 4ms/step - loss: 0.5173 - accuracy: 0.7818 - val_loss: 0.4835 - val_accuracy: 0.7987\n",
            "Epoch 73/100\n",
            "20/20 [==============================] - 0s 4ms/step - loss: 0.5099 - accuracy: 0.7818 - val_loss: 0.4842 - val_accuracy: 0.7857\n",
            "Epoch 74/100\n",
            "20/20 [==============================] - 0s 4ms/step - loss: 0.5090 - accuracy: 0.7834 - val_loss: 0.4763 - val_accuracy: 0.7987\n",
            "Epoch 75/100\n",
            "20/20 [==============================] - 0s 4ms/step - loss: 0.5095 - accuracy: 0.7801 - val_loss: 0.4785 - val_accuracy: 0.7922\n",
            "Epoch 76/100\n",
            "20/20 [==============================] - 0s 4ms/step - loss: 0.5080 - accuracy: 0.7769 - val_loss: 0.4761 - val_accuracy: 0.7987\n",
            "Epoch 77/100\n",
            "20/20 [==============================] - 0s 4ms/step - loss: 0.5068 - accuracy: 0.7752 - val_loss: 0.4757 - val_accuracy: 0.7987\n",
            "Epoch 78/100\n",
            "20/20 [==============================] - 0s 4ms/step - loss: 0.5086 - accuracy: 0.7720 - val_loss: 0.4768 - val_accuracy: 0.7922\n",
            "Epoch 79/100\n",
            "20/20 [==============================] - 0s 3ms/step - loss: 0.5077 - accuracy: 0.7801 - val_loss: 0.4775 - val_accuracy: 0.7922\n",
            "Epoch 80/100\n",
            "20/20 [==============================] - 0s 4ms/step - loss: 0.5078 - accuracy: 0.7818 - val_loss: 0.4757 - val_accuracy: 0.8052\n",
            "Epoch 81/100\n",
            "20/20 [==============================] - 0s 4ms/step - loss: 0.5063 - accuracy: 0.7850 - val_loss: 0.4726 - val_accuracy: 0.7987\n",
            "Epoch 82/100\n",
            "20/20 [==============================] - 0s 4ms/step - loss: 0.5083 - accuracy: 0.7752 - val_loss: 0.4753 - val_accuracy: 0.7987\n",
            "Epoch 83/100\n",
            "20/20 [==============================] - 0s 4ms/step - loss: 0.5073 - accuracy: 0.7801 - val_loss: 0.4765 - val_accuracy: 0.7922\n",
            "Epoch 84/100\n",
            "20/20 [==============================] - 0s 4ms/step - loss: 0.5066 - accuracy: 0.7785 - val_loss: 0.4768 - val_accuracy: 0.7922\n",
            "Epoch 85/100\n",
            "20/20 [==============================] - 0s 4ms/step - loss: 0.5058 - accuracy: 0.7818 - val_loss: 0.4741 - val_accuracy: 0.7922\n",
            "Epoch 86/100\n",
            "20/20 [==============================] - 0s 5ms/step - loss: 0.5063 - accuracy: 0.7736 - val_loss: 0.4772 - val_accuracy: 0.7922\n",
            "Epoch 87/100\n",
            "20/20 [==============================] - 0s 4ms/step - loss: 0.5048 - accuracy: 0.7785 - val_loss: 0.4732 - val_accuracy: 0.7922\n",
            "Epoch 88/100\n",
            "20/20 [==============================] - 0s 4ms/step - loss: 0.5044 - accuracy: 0.7818 - val_loss: 0.4717 - val_accuracy: 0.7922\n",
            "Epoch 89/100\n",
            "20/20 [==============================] - 0s 4ms/step - loss: 0.5037 - accuracy: 0.7769 - val_loss: 0.4754 - val_accuracy: 0.7857\n",
            "Epoch 90/100\n",
            "20/20 [==============================] - 0s 4ms/step - loss: 0.5051 - accuracy: 0.7785 - val_loss: 0.4756 - val_accuracy: 0.7857\n",
            "Epoch 91/100\n",
            "20/20 [==============================] - 0s 4ms/step - loss: 0.5070 - accuracy: 0.7769 - val_loss: 0.4796 - val_accuracy: 0.7857\n",
            "Epoch 92/100\n",
            "20/20 [==============================] - 0s 4ms/step - loss: 0.5049 - accuracy: 0.7785 - val_loss: 0.4722 - val_accuracy: 0.7922\n",
            "Epoch 93/100\n",
            "20/20 [==============================] - 0s 5ms/step - loss: 0.5042 - accuracy: 0.7785 - val_loss: 0.4751 - val_accuracy: 0.7857\n",
            "Epoch 94/100\n",
            "20/20 [==============================] - 0s 4ms/step - loss: 0.5031 - accuracy: 0.7769 - val_loss: 0.4722 - val_accuracy: 0.7922\n",
            "Epoch 95/100\n",
            "20/20 [==============================] - 0s 5ms/step - loss: 0.5057 - accuracy: 0.7769 - val_loss: 0.4716 - val_accuracy: 0.7987\n",
            "Epoch 96/100\n",
            "20/20 [==============================] - 0s 4ms/step - loss: 0.5101 - accuracy: 0.7899 - val_loss: 0.4755 - val_accuracy: 0.7857\n",
            "Epoch 97/100\n",
            "20/20 [==============================] - 0s 4ms/step - loss: 0.5037 - accuracy: 0.7785 - val_loss: 0.4740 - val_accuracy: 0.7922\n",
            "Epoch 98/100\n",
            "20/20 [==============================] - 0s 4ms/step - loss: 0.5038 - accuracy: 0.7801 - val_loss: 0.4748 - val_accuracy: 0.7922\n",
            "Epoch 99/100\n",
            "20/20 [==============================] - 0s 4ms/step - loss: 0.5012 - accuracy: 0.7752 - val_loss: 0.4699 - val_accuracy: 0.7857\n",
            "Epoch 100/100\n",
            "20/20 [==============================] - 0s 4ms/step - loss: 0.5031 - accuracy: 0.7785 - val_loss: 0.4714 - val_accuracy: 0.7987\n"
          ]
        }
      ],
      "source": [
        "result_reg = model_reg.fit(X_train_scaled,\n",
        "                           y_train,\n",
        "                           validation_data = (X_test_scaled, y_test),\n",
        "                           epochs=100)"
      ]
    },
    {
      "cell_type": "code",
      "execution_count": 75,
      "id": "3881632a-a405-42f0-bd8b-0d3b05a40ff3",
      "metadata": {
        "id": "3881632a-a405-42f0-bd8b-0d3b05a40ff3"
      },
      "outputs": [],
      "source": [
        "history_reg = pd.DataFrame(result_reg.history)"
      ]
    },
    {
      "cell_type": "code",
      "execution_count": 77,
      "id": "956ce9f9-301b-4ce8-94b9-275ad86a8379",
      "metadata": {
        "id": "956ce9f9-301b-4ce8-94b9-275ad86a8379",
        "outputId": "4db5ee18-19d4-4124-c72c-aa035a61fc1b",
        "colab": {
          "base_uri": "https://localhost:8080/",
          "height": 461
        }
      },
      "outputs": [
        {
          "output_type": "display_data",
          "data": {
            "text/plain": [
              "<Figure size 1500x600 with 1 Axes>"
            ],
            "image/png": "[encoded data removed]"
          },
          "metadata": {}
        }
      ],
      "source": [
        "plt.figure(figsize = (15,6))\n",
        "plt.plot(history_reg.val_loss, label='Test Set Loss')\n",
        "plt.plot(history_reg.loss, label='Training Set Loss')\n",
        "plt.title('Epochs vs Loss (L1 Regularization)')\n",
        "plt.xlabel('Epochs')\n",
        "plt.ylabel('Loss')\n",
        "plt.legend()\n",
        "plt.show()"
      ]
    },
    {
      "cell_type": "markdown",
      "id": "3240752f-6f70-4dbb-aa33-2f188993f339",
      "metadata": {
        "id": "3240752f-6f70-4dbb-aa33-2f188993f339"
      },
      "source": [
        "# Implement Dropout Regularization"
      ]
    },
    {
      "cell_type": "code",
      "execution_count": 88,
      "id": "b900a12c-2b8b-4bf9-9a45-c0be330665e3",
      "metadata": {
        "id": "b900a12c-2b8b-4bf9-9a45-c0be330665e3"
      },
      "outputs": [],
      "source": [
        "from tensorflow.keras.layers import Dropout"
      ]
    },
    {
      "cell_type": "code",
      "execution_count": 99,
      "id": "a6834d2b-6dff-4784-b5cb-72c5e0c77332",
      "metadata": {
        "id": "a6834d2b-6dff-4784-b5cb-72c5e0c77332"
      },
      "outputs": [],
      "source": [
        "model_drp = Sequential()"
      ]
    },
    {
      "cell_type": "code",
      "execution_count": 100,
      "id": "a6777794-4b27-435a-b23c-691942a77d7e",
      "metadata": {
        "id": "a6777794-4b27-435a-b23c-691942a77d7e"
      },
      "outputs": [],
      "source": [
        "model_drp.add(Input(shape = (X_train_scaled.shape[1],)))"
      ]
    },
    {
      "cell_type": "code",
      "execution_count": 101,
      "id": "d3de3dc7-80dd-4d01-8fc0-8f9bff3bb2ab",
      "metadata": {
        "id": "d3de3dc7-80dd-4d01-8fc0-8f9bff3bb2ab"
      },
      "outputs": [],
      "source": [
        "model_drp.add(Dense(units=128,\n",
        "                    activation='relu'\n",
        "                   )\n",
        "             )"
      ]
    },
    {
      "cell_type": "code",
      "execution_count": 102,
      "id": "5bbb2f0d-739a-4667-ae96-33124cb99a13",
      "metadata": {
        "id": "5bbb2f0d-739a-4667-ae96-33124cb99a13"
      },
      "outputs": [],
      "source": [
        "model_drp.add(Dropout(rate = 0.4, seed = 12345 ))"
      ]
    },
    {
      "cell_type": "code",
      "execution_count": 103,
      "id": "b3ed52b5-2036-479f-b10a-749341930614",
      "metadata": {
        "id": "b3ed52b5-2036-479f-b10a-749341930614"
      },
      "outputs": [],
      "source": [
        "model_drp.add(Dense(units=64, activation='relu'))"
      ]
    },
    {
      "cell_type": "code",
      "execution_count": 104,
      "id": "e133f542-ee38-4b0f-b664-baccf33b5d7e",
      "metadata": {
        "id": "e133f542-ee38-4b0f-b664-baccf33b5d7e"
      },
      "outputs": [],
      "source": [
        "model_drp.add(Dropout(rate = 0.3, seed=12345))"
      ]
    },
    {
      "cell_type": "code",
      "execution_count": 105,
      "id": "0faea478-1ab0-4d61-ba12-7940fb5188fe",
      "metadata": {
        "id": "0faea478-1ab0-4d61-ba12-7940fb5188fe"
      },
      "outputs": [],
      "source": [
        "model_drp.add(Dense(units=32, activation='relu'))"
      ]
    },
    {
      "cell_type": "code",
      "execution_count": 106,
      "id": "54d9649b-111f-43ef-9b5e-0b063726c64c",
      "metadata": {
        "id": "54d9649b-111f-43ef-9b5e-0b063726c64c"
      },
      "outputs": [],
      "source": [
        "model_drp.add(Dropout(rate = 0.25, seed=12345))"
      ]
    },
    {
      "cell_type": "code",
      "execution_count": 107,
      "id": "f73495d7-5246-46ea-ba56-8b9a7e96c51f",
      "metadata": {
        "id": "f73495d7-5246-46ea-ba56-8b9a7e96c51f"
      },
      "outputs": [],
      "source": [
        "model_drp.add(Dense(units=1, activation='sigmoid'))"
      ]
    },
    {
      "cell_type": "code",
      "execution_count": 108,
      "id": "ccac8b47-641f-451b-bbb0-b9580740cbdf",
      "metadata": {
        "id": "ccac8b47-641f-451b-bbb0-b9580740cbdf",
        "outputId": "1690f195-da09-4530-a3fa-5c622e9afd36",
        "colab": {
          "base_uri": "https://localhost:8080/"
        }
      },
      "outputs": [
        {
          "output_type": "stream",
          "name": "stdout",
          "text": [
            "Model: \"sequential_5\"\n",
            "_________________________________________________________________\n",
            " Layer (type)                Output Shape              Param #   \n",
            "=================================================================\n",
            " dense_20 (Dense)            (None, 128)               1152      \n",
            "                                                                 \n",
            " dropout_3 (Dropout)         (None, 128)               0         \n",
            "                                                                 \n",
            " dense_21 (Dense)            (None, 64)                8256      \n",
            "                                                                 \n",
            " dropout_4 (Dropout)         (None, 64)                0         \n",
            "                                                                 \n",
            " dense_22 (Dense)            (None, 32)                2080      \n",
            "                                                                 \n",
            " dropout_5 (Dropout)         (None, 32)                0         \n",
            "                                                                 \n",
            " dense_23 (Dense)            (None, 1)                 33        \n",
            "                                                                 \n",
            "=================================================================\n",
            "Total params: 11521 (45.00 KB)\n",
            "Trainable params: 11521 (45.00 KB)\n",
            "Non-trainable params: 0 (0.00 Byte)\n",
            "_________________________________________________________________\n"
          ]
        }
      ],
      "source": [
        "model_drp.summary()"
      ]
    },
    {
      "cell_type": "code",
      "execution_count": 109,
      "id": "0322ee8f-43ff-4a56-9be6-1f36d407b32d",
      "metadata": {
        "id": "0322ee8f-43ff-4a56-9be6-1f36d407b32d"
      },
      "outputs": [],
      "source": [
        "model_drp.compile(optimizer = 'adam',\n",
        "                  loss = 'binary_crossentropy',\n",
        "                  metrics = 'accuracy')"
      ]
    },
    {
      "cell_type": "code",
      "execution_count": 110,
      "id": "bde26def-e862-419e-b498-1cd9f1273d9c",
      "metadata": {
        "id": "bde26def-e862-419e-b498-1cd9f1273d9c",
        "outputId": "cef5fd76-2aa6-4c58-ed5d-e4974d3fe921",
        "colab": {
          "base_uri": "https://localhost:8080/"
        }
      },
      "outputs": [
        {
          "output_type": "stream",
          "name": "stdout",
          "text": [
            "Epoch 1/100\n",
            "20/20 [==============================] - 1s 13ms/step - loss: 0.6730 - accuracy: 0.6140 - val_loss: 0.6068 - val_accuracy: 0.7273\n",
            "Epoch 2/100\n",
            "20/20 [==============================] - 0s 4ms/step - loss: 0.6020 - accuracy: 0.6857 - val_loss: 0.5376 - val_accuracy: 0.7532\n",
            "Epoch 3/100\n",
            "20/20 [==============================] - 0s 4ms/step - loss: 0.5548 - accuracy: 0.7215 - val_loss: 0.4744 - val_accuracy: 0.7792\n",
            "Epoch 4/100\n",
            "20/20 [==============================] - 0s 4ms/step - loss: 0.5278 - accuracy: 0.7573 - val_loss: 0.4527 - val_accuracy: 0.7792\n",
            "Epoch 5/100\n",
            "20/20 [==============================] - 0s 4ms/step - loss: 0.5210 - accuracy: 0.7362 - val_loss: 0.4412 - val_accuracy: 0.7792\n",
            "Epoch 6/100\n",
            "20/20 [==============================] - 0s 4ms/step - loss: 0.4958 - accuracy: 0.7752 - val_loss: 0.4381 - val_accuracy: 0.7727\n",
            "Epoch 7/100\n",
            "20/20 [==============================] - 0s 4ms/step - loss: 0.5094 - accuracy: 0.7476 - val_loss: 0.4348 - val_accuracy: 0.7792\n",
            "Epoch 8/100\n",
            "20/20 [==============================] - 0s 4ms/step - loss: 0.5121 - accuracy: 0.7573 - val_loss: 0.4314 - val_accuracy: 0.7857\n",
            "Epoch 9/100\n",
            "20/20 [==============================] - 0s 4ms/step - loss: 0.4766 - accuracy: 0.7687 - val_loss: 0.4345 - val_accuracy: 0.7922\n",
            "Epoch 10/100\n",
            "20/20 [==============================] - 0s 4ms/step - loss: 0.4816 - accuracy: 0.7687 - val_loss: 0.4363 - val_accuracy: 0.7857\n",
            "Epoch 11/100\n",
            "20/20 [==============================] - 0s 4ms/step - loss: 0.4999 - accuracy: 0.7508 - val_loss: 0.4384 - val_accuracy: 0.7922\n",
            "Epoch 12/100\n",
            "20/20 [==============================] - 0s 4ms/step - loss: 0.4731 - accuracy: 0.7622 - val_loss: 0.4366 - val_accuracy: 0.7662\n",
            "Epoch 13/100\n",
            "20/20 [==============================] - 0s 5ms/step - loss: 0.4619 - accuracy: 0.7687 - val_loss: 0.4313 - val_accuracy: 0.7727\n",
            "Epoch 14/100\n",
            "20/20 [==============================] - 0s 4ms/step - loss: 0.4691 - accuracy: 0.7899 - val_loss: 0.4322 - val_accuracy: 0.7857\n",
            "Epoch 15/100\n",
            "20/20 [==============================] - 0s 4ms/step - loss: 0.4639 - accuracy: 0.7736 - val_loss: 0.4279 - val_accuracy: 0.7792\n",
            "Epoch 16/100\n",
            "20/20 [==============================] - 0s 4ms/step - loss: 0.4795 - accuracy: 0.7671 - val_loss: 0.4275 - val_accuracy: 0.7662\n",
            "Epoch 17/100\n",
            "20/20 [==============================] - 0s 4ms/step - loss: 0.4842 - accuracy: 0.7557 - val_loss: 0.4309 - val_accuracy: 0.7727\n",
            "Epoch 18/100\n",
            "20/20 [==============================] - 0s 6ms/step - loss: 0.4738 - accuracy: 0.7655 - val_loss: 0.4316 - val_accuracy: 0.7792\n",
            "Epoch 19/100\n",
            "20/20 [==============================] - 0s 6ms/step - loss: 0.4575 - accuracy: 0.7785 - val_loss: 0.4279 - val_accuracy: 0.7857\n",
            "Epoch 20/100\n",
            "20/20 [==============================] - 0s 5ms/step - loss: 0.4697 - accuracy: 0.7655 - val_loss: 0.4282 - val_accuracy: 0.7727\n",
            "Epoch 21/100\n",
            "20/20 [==============================] - 0s 6ms/step - loss: 0.4770 - accuracy: 0.7785 - val_loss: 0.4242 - val_accuracy: 0.7792\n",
            "Epoch 22/100\n",
            "20/20 [==============================] - 0s 5ms/step - loss: 0.4692 - accuracy: 0.7736 - val_loss: 0.4219 - val_accuracy: 0.7792\n",
            "Epoch 23/100\n",
            "20/20 [==============================] - 0s 5ms/step - loss: 0.4626 - accuracy: 0.7883 - val_loss: 0.4243 - val_accuracy: 0.7727\n",
            "Epoch 24/100\n",
            "20/20 [==============================] - 0s 5ms/step - loss: 0.4539 - accuracy: 0.7606 - val_loss: 0.4271 - val_accuracy: 0.7727\n",
            "Epoch 25/100\n",
            "20/20 [==============================] - 0s 6ms/step - loss: 0.4657 - accuracy: 0.7752 - val_loss: 0.4277 - val_accuracy: 0.7727\n",
            "Epoch 26/100\n",
            "20/20 [==============================] - 0s 5ms/step - loss: 0.4477 - accuracy: 0.7655 - val_loss: 0.4247 - val_accuracy: 0.7727\n",
            "Epoch 27/100\n",
            "20/20 [==============================] - 0s 4ms/step - loss: 0.4588 - accuracy: 0.7687 - val_loss: 0.4239 - val_accuracy: 0.7727\n",
            "Epoch 28/100\n",
            "20/20 [==============================] - 0s 4ms/step - loss: 0.4529 - accuracy: 0.7720 - val_loss: 0.4267 - val_accuracy: 0.7597\n",
            "Epoch 29/100\n",
            "20/20 [==============================] - 0s 5ms/step - loss: 0.4388 - accuracy: 0.7997 - val_loss: 0.4298 - val_accuracy: 0.7987\n",
            "Epoch 30/100\n",
            "20/20 [==============================] - 0s 4ms/step - loss: 0.4545 - accuracy: 0.7801 - val_loss: 0.4271 - val_accuracy: 0.7857\n",
            "Epoch 31/100\n",
            "20/20 [==============================] - 0s 5ms/step - loss: 0.4470 - accuracy: 0.7801 - val_loss: 0.4261 - val_accuracy: 0.7792\n",
            "Epoch 32/100\n",
            "20/20 [==============================] - 0s 4ms/step - loss: 0.4582 - accuracy: 0.7850 - val_loss: 0.4232 - val_accuracy: 0.7857\n",
            "Epoch 33/100\n",
            "20/20 [==============================] - 0s 4ms/step - loss: 0.4366 - accuracy: 0.7883 - val_loss: 0.4236 - val_accuracy: 0.7857\n",
            "Epoch 34/100\n",
            "20/20 [==============================] - 0s 4ms/step - loss: 0.4592 - accuracy: 0.7818 - val_loss: 0.4222 - val_accuracy: 0.7792\n",
            "Epoch 35/100\n",
            "20/20 [==============================] - 0s 4ms/step - loss: 0.4460 - accuracy: 0.7899 - val_loss: 0.4273 - val_accuracy: 0.7792\n",
            "Epoch 36/100\n",
            "20/20 [==============================] - 0s 4ms/step - loss: 0.4519 - accuracy: 0.7948 - val_loss: 0.4291 - val_accuracy: 0.7987\n",
            "Epoch 37/100\n",
            "20/20 [==============================] - 0s 5ms/step - loss: 0.4440 - accuracy: 0.7883 - val_loss: 0.4238 - val_accuracy: 0.7792\n",
            "Epoch 38/100\n",
            "20/20 [==============================] - 0s 4ms/step - loss: 0.4564 - accuracy: 0.7818 - val_loss: 0.4229 - val_accuracy: 0.7792\n",
            "Epoch 39/100\n",
            "20/20 [==============================] - 0s 5ms/step - loss: 0.4588 - accuracy: 0.7850 - val_loss: 0.4285 - val_accuracy: 0.8052\n",
            "Epoch 40/100\n",
            "20/20 [==============================] - 0s 6ms/step - loss: 0.4417 - accuracy: 0.7736 - val_loss: 0.4242 - val_accuracy: 0.7792\n",
            "Epoch 41/100\n",
            "20/20 [==============================] - 0s 7ms/step - loss: 0.4360 - accuracy: 0.7915 - val_loss: 0.4228 - val_accuracy: 0.7662\n",
            "Epoch 42/100\n",
            "20/20 [==============================] - 0s 7ms/step - loss: 0.4388 - accuracy: 0.7997 - val_loss: 0.4262 - val_accuracy: 0.7922\n",
            "Epoch 43/100\n",
            "20/20 [==============================] - 0s 6ms/step - loss: 0.4497 - accuracy: 0.7769 - val_loss: 0.4247 - val_accuracy: 0.7922\n",
            "Epoch 44/100\n",
            "20/20 [==============================] - 0s 6ms/step - loss: 0.4321 - accuracy: 0.7932 - val_loss: 0.4257 - val_accuracy: 0.7857\n",
            "Epoch 45/100\n",
            "20/20 [==============================] - 0s 6ms/step - loss: 0.4385 - accuracy: 0.7899 - val_loss: 0.4253 - val_accuracy: 0.7662\n",
            "Epoch 46/100\n",
            "20/20 [==============================] - 0s 5ms/step - loss: 0.4489 - accuracy: 0.7818 - val_loss: 0.4286 - val_accuracy: 0.7857\n",
            "Epoch 47/100\n",
            "20/20 [==============================] - 0s 6ms/step - loss: 0.4447 - accuracy: 0.7866 - val_loss: 0.4322 - val_accuracy: 0.7792\n",
            "Epoch 48/100\n",
            "20/20 [==============================] - 0s 6ms/step - loss: 0.4499 - accuracy: 0.7785 - val_loss: 0.4275 - val_accuracy: 0.7727\n",
            "Epoch 49/100\n",
            "20/20 [==============================] - 0s 6ms/step - loss: 0.4429 - accuracy: 0.7850 - val_loss: 0.4290 - val_accuracy: 0.7792\n",
            "Epoch 50/100\n",
            "20/20 [==============================] - 0s 6ms/step - loss: 0.4378 - accuracy: 0.7899 - val_loss: 0.4290 - val_accuracy: 0.7727\n",
            "Epoch 51/100\n",
            "20/20 [==============================] - 0s 5ms/step - loss: 0.4326 - accuracy: 0.8013 - val_loss: 0.4292 - val_accuracy: 0.7662\n",
            "Epoch 52/100\n",
            "20/20 [==============================] - 0s 6ms/step - loss: 0.4477 - accuracy: 0.7769 - val_loss: 0.4290 - val_accuracy: 0.7662\n",
            "Epoch 53/100\n",
            "20/20 [==============================] - 0s 5ms/step - loss: 0.4310 - accuracy: 0.7948 - val_loss: 0.4302 - val_accuracy: 0.7727\n",
            "Epoch 54/100\n",
            "20/20 [==============================] - 0s 7ms/step - loss: 0.4304 - accuracy: 0.7980 - val_loss: 0.4319 - val_accuracy: 0.7792\n",
            "Epoch 55/100\n",
            "20/20 [==============================] - 0s 5ms/step - loss: 0.4209 - accuracy: 0.7915 - val_loss: 0.4331 - val_accuracy: 0.7792\n",
            "Epoch 56/100\n",
            "20/20 [==============================] - 0s 6ms/step - loss: 0.4272 - accuracy: 0.7980 - val_loss: 0.4352 - val_accuracy: 0.7857\n",
            "Epoch 57/100\n",
            "20/20 [==============================] - 0s 7ms/step - loss: 0.4144 - accuracy: 0.8078 - val_loss: 0.4336 - val_accuracy: 0.7792\n",
            "Epoch 58/100\n",
            "20/20 [==============================] - 0s 6ms/step - loss: 0.4332 - accuracy: 0.7915 - val_loss: 0.4334 - val_accuracy: 0.7857\n",
            "Epoch 59/100\n",
            "20/20 [==============================] - 0s 6ms/step - loss: 0.4157 - accuracy: 0.7850 - val_loss: 0.4303 - val_accuracy: 0.7727\n",
            "Epoch 60/100\n",
            "20/20 [==============================] - 0s 5ms/step - loss: 0.4120 - accuracy: 0.8046 - val_loss: 0.4378 - val_accuracy: 0.7727\n",
            "Epoch 61/100\n",
            "20/20 [==============================] - 0s 6ms/step - loss: 0.4280 - accuracy: 0.7932 - val_loss: 0.4344 - val_accuracy: 0.7727\n",
            "Epoch 62/100\n",
            "20/20 [==============================] - 0s 6ms/step - loss: 0.4360 - accuracy: 0.8046 - val_loss: 0.4312 - val_accuracy: 0.7662\n",
            "Epoch 63/100\n",
            "20/20 [==============================] - 0s 6ms/step - loss: 0.4279 - accuracy: 0.7964 - val_loss: 0.4289 - val_accuracy: 0.7727\n",
            "Epoch 64/100\n",
            "20/20 [==============================] - 0s 6ms/step - loss: 0.4342 - accuracy: 0.7899 - val_loss: 0.4289 - val_accuracy: 0.7727\n",
            "Epoch 65/100\n",
            "20/20 [==============================] - 0s 6ms/step - loss: 0.4153 - accuracy: 0.7980 - val_loss: 0.4322 - val_accuracy: 0.7662\n",
            "Epoch 66/100\n",
            "20/20 [==============================] - 0s 7ms/step - loss: 0.4176 - accuracy: 0.8062 - val_loss: 0.4302 - val_accuracy: 0.7662\n",
            "Epoch 67/100\n",
            "20/20 [==============================] - 0s 7ms/step - loss: 0.4157 - accuracy: 0.7980 - val_loss: 0.4307 - val_accuracy: 0.7662\n",
            "Epoch 68/100\n",
            "20/20 [==============================] - 0s 5ms/step - loss: 0.4337 - accuracy: 0.8046 - val_loss: 0.4378 - val_accuracy: 0.7727\n",
            "Epoch 69/100\n",
            "20/20 [==============================] - 0s 5ms/step - loss: 0.4238 - accuracy: 0.7980 - val_loss: 0.4367 - val_accuracy: 0.7792\n",
            "Epoch 70/100\n",
            "20/20 [==============================] - 0s 4ms/step - loss: 0.4071 - accuracy: 0.8062 - val_loss: 0.4404 - val_accuracy: 0.7792\n",
            "Epoch 71/100\n",
            "20/20 [==============================] - 0s 6ms/step - loss: 0.3929 - accuracy: 0.8371 - val_loss: 0.4407 - val_accuracy: 0.7792\n",
            "Epoch 72/100\n",
            "20/20 [==============================] - 0s 6ms/step - loss: 0.4235 - accuracy: 0.8078 - val_loss: 0.4404 - val_accuracy: 0.7662\n",
            "Epoch 73/100\n",
            "20/20 [==============================] - 0s 5ms/step - loss: 0.4184 - accuracy: 0.8078 - val_loss: 0.4382 - val_accuracy: 0.7792\n",
            "Epoch 74/100\n",
            "20/20 [==============================] - 0s 5ms/step - loss: 0.4019 - accuracy: 0.8111 - val_loss: 0.4350 - val_accuracy: 0.7727\n",
            "Epoch 75/100\n",
            "20/20 [==============================] - 0s 6ms/step - loss: 0.4202 - accuracy: 0.8046 - val_loss: 0.4370 - val_accuracy: 0.7727\n",
            "Epoch 76/100\n",
            "20/20 [==============================] - 0s 6ms/step - loss: 0.4183 - accuracy: 0.8046 - val_loss: 0.4423 - val_accuracy: 0.7662\n",
            "Epoch 77/100\n",
            "20/20 [==============================] - 0s 6ms/step - loss: 0.3979 - accuracy: 0.8322 - val_loss: 0.4408 - val_accuracy: 0.7792\n",
            "Epoch 78/100\n",
            "20/20 [==============================] - 0s 6ms/step - loss: 0.3992 - accuracy: 0.8078 - val_loss: 0.4393 - val_accuracy: 0.7792\n",
            "Epoch 79/100\n",
            "20/20 [==============================] - 0s 4ms/step - loss: 0.4019 - accuracy: 0.8160 - val_loss: 0.4448 - val_accuracy: 0.7857\n",
            "Epoch 80/100\n",
            "20/20 [==============================] - 0s 5ms/step - loss: 0.3995 - accuracy: 0.8160 - val_loss: 0.4435 - val_accuracy: 0.7792\n",
            "Epoch 81/100\n",
            "20/20 [==============================] - 0s 4ms/step - loss: 0.3953 - accuracy: 0.8176 - val_loss: 0.4439 - val_accuracy: 0.7987\n",
            "Epoch 82/100\n",
            "20/20 [==============================] - 0s 5ms/step - loss: 0.3974 - accuracy: 0.8111 - val_loss: 0.4463 - val_accuracy: 0.7987\n",
            "Epoch 83/100\n",
            "20/20 [==============================] - 0s 4ms/step - loss: 0.4116 - accuracy: 0.8208 - val_loss: 0.4482 - val_accuracy: 0.7922\n",
            "Epoch 84/100\n",
            "20/20 [==============================] - 0s 4ms/step - loss: 0.4033 - accuracy: 0.8127 - val_loss: 0.4476 - val_accuracy: 0.7987\n",
            "Epoch 85/100\n",
            "20/20 [==============================] - 0s 5ms/step - loss: 0.4040 - accuracy: 0.8094 - val_loss: 0.4410 - val_accuracy: 0.7922\n",
            "Epoch 86/100\n",
            "20/20 [==============================] - 0s 4ms/step - loss: 0.4234 - accuracy: 0.8029 - val_loss: 0.4361 - val_accuracy: 0.7857\n",
            "Epoch 87/100\n",
            "20/20 [==============================] - 0s 4ms/step - loss: 0.4054 - accuracy: 0.8111 - val_loss: 0.4396 - val_accuracy: 0.7727\n",
            "Epoch 88/100\n",
            "20/20 [==============================] - 0s 4ms/step - loss: 0.3951 - accuracy: 0.8257 - val_loss: 0.4382 - val_accuracy: 0.7792\n",
            "Epoch 89/100\n",
            "20/20 [==============================] - 0s 4ms/step - loss: 0.4196 - accuracy: 0.8094 - val_loss: 0.4389 - val_accuracy: 0.7662\n",
            "Epoch 90/100\n",
            "20/20 [==============================] - 0s 4ms/step - loss: 0.3999 - accuracy: 0.8111 - val_loss: 0.4390 - val_accuracy: 0.7792\n",
            "Epoch 91/100\n",
            "20/20 [==============================] - 0s 4ms/step - loss: 0.4138 - accuracy: 0.8176 - val_loss: 0.4423 - val_accuracy: 0.7727\n",
            "Epoch 92/100\n",
            "20/20 [==============================] - 0s 4ms/step - loss: 0.4094 - accuracy: 0.8094 - val_loss: 0.4445 - val_accuracy: 0.7857\n",
            "Epoch 93/100\n",
            "20/20 [==============================] - 0s 4ms/step - loss: 0.4007 - accuracy: 0.8192 - val_loss: 0.4456 - val_accuracy: 0.7922\n",
            "Epoch 94/100\n",
            "20/20 [==============================] - 0s 4ms/step - loss: 0.4060 - accuracy: 0.8094 - val_loss: 0.4441 - val_accuracy: 0.7792\n",
            "Epoch 95/100\n",
            "20/20 [==============================] - 0s 4ms/step - loss: 0.3859 - accuracy: 0.8306 - val_loss: 0.4458 - val_accuracy: 0.7792\n",
            "Epoch 96/100\n",
            "20/20 [==============================] - 0s 5ms/step - loss: 0.4002 - accuracy: 0.8160 - val_loss: 0.4456 - val_accuracy: 0.7727\n",
            "Epoch 97/100\n",
            "20/20 [==============================] - 0s 4ms/step - loss: 0.4097 - accuracy: 0.8143 - val_loss: 0.4419 - val_accuracy: 0.7727\n",
            "Epoch 98/100\n",
            "20/20 [==============================] - 0s 4ms/step - loss: 0.3990 - accuracy: 0.8143 - val_loss: 0.4490 - val_accuracy: 0.7662\n",
            "Epoch 99/100\n",
            "20/20 [==============================] - 0s 4ms/step - loss: 0.3935 - accuracy: 0.7997 - val_loss: 0.4414 - val_accuracy: 0.7727\n",
            "Epoch 100/100\n",
            "20/20 [==============================] - 0s 4ms/step - loss: 0.3938 - accuracy: 0.8225 - val_loss: 0.4475 - val_accuracy: 0.7597\n"
          ]
        }
      ],
      "source": [
        "result_drp = model_drp.fit(X_train_scaled,\n",
        "                           y_train,\n",
        "                           validation_data = (X_test_scaled, y_test),\n",
        "                           epochs=100)"
      ]
    },
    {
      "cell_type": "code",
      "execution_count": 111,
      "id": "1f240760-dcd5-427e-9d0b-6bed896f0b4b",
      "metadata": {
        "id": "1f240760-dcd5-427e-9d0b-6bed896f0b4b"
      },
      "outputs": [],
      "source": [
        "history_drp = pd.DataFrame(result_drp.history)"
      ]
    },
    {
      "cell_type": "code",
      "execution_count": 112,
      "id": "4cbb1d21-a764-4bd2-a7fe-14d3ea650434",
      "metadata": {
        "id": "4cbb1d21-a764-4bd2-a7fe-14d3ea650434",
        "outputId": "f83bcc23-a32f-4b0c-d884-880bde7a7a1d",
        "colab": {
          "base_uri": "https://localhost:8080/",
          "height": 454
        }
      },
      "outputs": [
        {
          "output_type": "display_data",
          "data": {
            "text/plain": [
              "<Figure size 1500x600 with 1 Axes>"
            ],
            "image/png": "[encoded data removed]"
          },
          "metadata": {}
        }
      ],
      "source": [
        "plt.figure(figsize = (15,6))\n",
        "plt.plot(history_drp.val_loss, label='Test Set Loss')\n",
        "plt.plot(history_drp.loss, label='Training Set Loss')\n",
        "plt.title('Epochs vs Loss (Dropout Regularization)')\n",
        "plt.xlabel('Epochs')\n",
        "plt.ylabel('Loss')\n",
        "plt.legend()\n",
        "plt.show()"
      ]
    },
    {
      "cell_type": "code",
      "execution_count": 113,
      "id": "dcf74587-c7ed-4678-b6ff-2aa3825c4bb3",
      "metadata": {
        "id": "dcf74587-c7ed-4678-b6ff-2aa3825c4bb3",
        "outputId": "911af7f9-70b3-4ba5-d2cf-31cb17360b60",
        "colab": {
          "base_uri": "https://localhost:8080/",
          "height": 454
        }
      },
      "outputs": [
        {
          "output_type": "display_data",
          "data": {
            "text/plain": [
              "<Figure size 1500x600 with 1 Axes>"
            ],
            "image/png": "[encoded data removed]"
          },
          "metadata": {}
        }
      ],
      "source": [
        "plt.figure(figsize = (15,6))\n",
        "plt.plot(history_drp.val_accuracy, label='Test Set Accuracy')\n",
        "plt.plot(history_drp.accuracy, label='Training Set Accuracy')\n",
        "plt.title('Epochs vs Accuracy (Dropout Regularization)')\n",
        "plt.xlabel('Epochs')\n",
        "plt.ylabel('Accuracy')\n",
        "plt.legend()\n",
        "plt.show()"
      ]
    },
    {
      "cell_type": "code",
      "execution_count": null,
      "id": "30247547-1541-4c7d-aea1-2925ef5c1ac1",
      "metadata": {
        "id": "30247547-1541-4c7d-aea1-2925ef5c1ac1"
      },
      "outputs": [],
      "source": []
    }
  ],
  "metadata": {
    "kernelspec": {
      "display_name": "Python 3",
      "language": "python",
      "name": "python3"
    },
    "language_info": {
      "codemirror_mode": {
        "name": "ipython",
        "version": 3
      },
      "file_extension": ".py",
      "mimetype": "text/x-python",
      "name": "python",
      "nbconvert_exporter": "python",
      "pygments_lexer": "ipython3",
      "version": "3.7.6"
    },
    "colab": {
      "provenance": []
    }
  },
  "nbformat": 4,
  "nbformat_minor": 5
}