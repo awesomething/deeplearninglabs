{
  "cells": [
    {
      "cell_type": "code",
      "execution_count": null,
      "id": "d31b9fe1-36f9-427c-94a2-3fbde5109df0",
      "metadata": {
        "id": "d31b9fe1-36f9-427c-94a2-3fbde5109df0"
      },
      "outputs": [],
      "source": [
        "import pandas as pd\n",
        "import numpy as np"
      ]
    },
    {
      "cell_type": "code",
      "execution_count": null,
      "id": "11fbce75-7a1f-4fba-aa86-104a3eefc3fa",
      "metadata": {
        "id": "11fbce75-7a1f-4fba-aa86-104a3eefc3fa"
      },
      "outputs": [],
      "source": [
        "df_diab = pd.read_csv('diabetes.csv')"
      ]
    },
    {
      "cell_type": "code",
      "execution_count": null,
      "id": "91639249-a006-4260-8e75-03cfd2aa55b8",
      "metadata": {
        "id": "91639249-a006-4260-8e75-03cfd2aa55b8",
        "outputId": "3d9ca651-f892-4544-8778-69db421445e2",
        "colab": {
          "base_uri": "https://localhost:8080/",
          "height": 206
        }
      },
      "outputs": [
        {
          "output_type": "execute_result",
          "data": {
            "text/plain": [
              "   Pregnancies  Glucose  BloodPressure  SkinThickness  Insulin   BMI  \\\n",
              "0            6      148             72             35        0  33.6   \n",
              "1            1       85             66             29        0  26.6   \n",
              "2            8      183             64              0        0  23.3   \n",
              "3            1       89             66             23       94  28.1   \n",
              "4            0      137             40             35      168  43.1   \n",
              "\n",
              "   DiabetesPedigreeFunction  Age  Outcome  \n",
              "0                     0.627   50        1  \n",
              "1                     0.351   31        0  \n",
              "2                     0.672   32        1  \n",
              "3                     0.167   21        0  \n",
              "4                     2.288   33        1  "
            ],
            "text/html": [
              "\n",
              "  <div id=\"df-567754be-abd3-4294-a519-b52e3e7d231f\" class=\"colab-df-container\">\n",
              "    <div>\n",
              "<style scoped>\n",
              "    .dataframe tbody tr th:only-of-type {\n",
              "        vertical-align: middle;\n",
              "    }\n",
              "\n",
              "    .dataframe tbody tr th {\n",
              "        vertical-align: top;\n",
              "    }\n",
              "\n",
              "    .dataframe thead th {\n",
              "        text-align: right;\n",
              "    }\n",
              "</style>\n",
              "<table border=\"1\" class=\"dataframe\">\n",
              "  <thead>\n",
              "    <tr style=\"text-align: right;\">\n",
              "      <th></th>\n",
              "      <th>Pregnancies</th>\n",
              "      <th>Glucose</th>\n",
              "      <th>BloodPressure</th>\n",
              "      <th>SkinThickness</th>\n",
              "      <th>Insulin</th>\n",
              "      <th>BMI</th>\n",
              "      <th>DiabetesPedigreeFunction</th>\n",
              "      <th>Age</th>\n",
              "      <th>Outcome</th>\n",
              "    </tr>\n",
              "  </thead>\n",
              "  <tbody>\n",
              "    <tr>\n",
              "      <th>0</th>\n",
              "      <td>6</td>\n",
              "      <td>148</td>\n",
              "      <td>72</td>\n",
              "      <td>35</td>\n",
              "      <td>0</td>\n",
              "      <td>33.6</td>\n",
              "      <td>0.627</td>\n",
              "      <td>50</td>\n",
              "      <td>1</td>\n",
              "    </tr>\n",
              "    <tr>\n",
              "      <th>1</th>\n",
              "      <td>1</td>\n",
              "      <td>85</td>\n",
              "      <td>66</td>\n",
              "      <td>29</td>\n",
              "      <td>0</td>\n",
              "      <td>26.6</td>\n",
              "      <td>0.351</td>\n",
              "      <td>31</td>\n",
              "      <td>0</td>\n",
              "    </tr>\n",
              "    <tr>\n",
              "      <th>2</th>\n",
              "      <td>8</td>\n",
              "      <td>183</td>\n",
              "      <td>64</td>\n",
              "      <td>0</td>\n",
              "      <td>0</td>\n",
              "      <td>23.3</td>\n",
              "      <td>0.672</td>\n",
              "      <td>32</td>\n",
              "      <td>1</td>\n",
              "    </tr>\n",
              "    <tr>\n",
              "      <th>3</th>\n",
              "      <td>1</td>\n",
              "      <td>89</td>\n",
              "      <td>66</td>\n",
              "      <td>23</td>\n",
              "      <td>94</td>\n",
              "      <td>28.1</td>\n",
              "      <td>0.167</td>\n",
              "      <td>21</td>\n",
              "      <td>0</td>\n",
              "    </tr>\n",
              "    <tr>\n",
              "      <th>4</th>\n",
              "      <td>0</td>\n",
              "      <td>137</td>\n",
              "      <td>40</td>\n",
              "      <td>35</td>\n",
              "      <td>168</td>\n",
              "      <td>43.1</td>\n",
              "      <td>2.288</td>\n",
              "      <td>33</td>\n",
              "      <td>1</td>\n",
              "    </tr>\n",
              "  </tbody>\n",
              "</table>\n",
              "</div>\n",
              "    <div class=\"colab-df-buttons\">\n",
              "\n",
              "  <div class=\"colab-df-container\">\n",
              "    <button class=\"colab-df-convert\" onclick=\"convertToInteractive('df-567754be-abd3-4294-a519-b52e3e7d231f')\"\n",
              "            title=\"Convert this dataframe to an interactive table.\"\n",
              "            style=\"display:none;\">\n",
              "\n",
              "  <svg xmlns=\"http://www.w3.org/2000/svg\" height=\"24px\" viewBox=\"0 -960 960 960\">\n",
              "    <path d=\"M120-120v-720h720v720H120Zm60-500h600v-160H180v160Zm220 220h160v-160H400v160Zm0 220h160v-160H400v160ZM180-400h160v-160H180v160Zm440 0h160v-160H620v160ZM180-180h160v-160H180v160Zm440 0h160v-160H620v160Z\"/>\n",
              "  </svg>\n",
              "    </button>\n",
              "\n",
              "  <style>\n",
              "    .colab-df-container {\n",
              "      display:flex;\n",
              "      gap: 12px;\n",
              "    }\n",
              "\n",
              "    .colab-df-convert {\n",
              "      background-color: #E8F0FE;\n",
              "      border: none;\n",
              "      border-radius: 50%;\n",
              "      cursor: pointer;\n",
              "      display: none;\n",
              "      fill: #1967D2;\n",
              "      height: 32px;\n",
              "      padding: 0 0 0 0;\n",
              "      width: 32px;\n",
              "    }\n",
              "\n",
              "    .colab-df-convert:hover {\n",
              "      background-color: #E2EBFA;\n",
              "      box-shadow: 0px 1px 2px rgba(60, 64, 67, 0.3), 0px 1px 3px 1px rgba(60, 64, 67, 0.15);\n",
              "      fill: #174EA6;\n",
              "    }\n",
              "\n",
              "    .colab-df-buttons div {\n",
              "      margin-bottom: 4px;\n",
              "    }\n",
              "\n",
              "    [theme=dark] .colab-df-convert {\n",
              "      background-color: #3B4455;\n",
              "      fill: #D2E3FC;\n",
              "    }\n",
              "\n",
              "    [theme=dark] .colab-df-convert:hover {\n",
              "      background-color: #434B5C;\n",
              "      box-shadow: 0px 1px 3px 1px rgba(0, 0, 0, 0.15);\n",
              "      filter: drop-shadow(0px 1px 2px rgba(0, 0, 0, 0.3));\n",
              "      fill: #FFFFFF;\n",
              "    }\n",
              "  </style>\n",
              "\n",
              "    <script>\n",
              "      const buttonEl =\n",
              "        document.querySelector('#df-567754be-abd3-4294-a519-b52e3e7d231f button.colab-df-convert');\n",
              "      buttonEl.style.display =\n",
              "        google.colab.kernel.accessAllowed ? 'block' : 'none';\n",
              "\n",
              "      async function convertToInteractive(key) {\n",
              "        const element = document.querySelector('#df-567754be-abd3-4294-a519-b52e3e7d231f');\n",
              "        const dataTable =\n",
              "          await google.colab.kernel.invokeFunction('convertToInteractive',\n",
              "                                                    [key], {});\n",
              "        if (!dataTable) return;\n",
              "\n",
              "        const docLinkHtml = 'Like what you see? Visit the ' +\n",
              "          '<a target=\"_blank\" href=https://colab.research.google.com/notebooks/data_table.ipynb>data table notebook</a>'\n",
              "          + ' to learn more about interactive tables.';\n",
              "        element.innerHTML = '';\n",
              "        dataTable['output_type'] = 'display_data';\n",
              "        await google.colab.output.renderOutput(dataTable, element);\n",
              "        const docLink = document.createElement('div');\n",
              "        docLink.innerHTML = docLinkHtml;\n",
              "        element.appendChild(docLink);\n",
              "      }\n",
              "    </script>\n",
              "  </div>\n",
              "\n",
              "\n",
              "<div id=\"df-22b89ea4-82e1-40dc-b2fe-dddf34313997\">\n",
              "  <button class=\"colab-df-quickchart\" onclick=\"quickchart('df-22b89ea4-82e1-40dc-b2fe-dddf34313997')\"\n",
              "            title=\"Suggest charts\"\n",
              "            style=\"display:none;\">\n",
              "\n",
              "<svg xmlns=\"http://www.w3.org/2000/svg\" height=\"24px\"viewBox=\"0 0 24 24\"\n",
              "     width=\"24px\">\n",
              "    <g>\n",
              "        <path d=\"M19 3H5c-1.1 0-2 .9-2 2v14c0 1.1.9 2 2 2h14c1.1 0 2-.9 2-2V5c0-1.1-.9-2-2-2zM9 17H7v-7h2v7zm4 0h-2V7h2v10zm4 0h-2v-4h2v4z\"/>\n",
              "    </g>\n",
              "</svg>\n",
              "  </button>\n",
              "\n",
              "<style>\n",
              "  .colab-df-quickchart {\n",
              "      --bg-color: #E8F0FE;\n",
              "      --fill-color: #1967D2;\n",
              "      --hover-bg-color: #E2EBFA;\n",
              "      --hover-fill-color: #174EA6;\n",
              "      --disabled-fill-color: #AAA;\n",
              "      --disabled-bg-color: #DDD;\n",
              "  }\n",
              "\n",
              "  [theme=dark] .colab-df-quickchart {\n",
              "      --bg-color: #3B4455;\n",
              "      --fill-color: #D2E3FC;\n",
              "      --hover-bg-color: #434B5C;\n",
              "      --hover-fill-color: #FFFFFF;\n",
              "      --disabled-bg-color: #3B4455;\n",
              "      --disabled-fill-color: #666;\n",
              "  }\n",
              "\n",
              "  .colab-df-quickchart {\n",
              "    background-color: var(--bg-color);\n",
              "    border: none;\n",
              "    border-radius: 50%;\n",
              "    cursor: pointer;\n",
              "    display: none;\n",
              "    fill: var(--fill-color);\n",
              "    height: 32px;\n",
              "    padding: 0;\n",
              "    width: 32px;\n",
              "  }\n",
              "\n",
              "  .colab-df-quickchart:hover {\n",
              "    background-color: var(--hover-bg-color);\n",
              "    box-shadow: 0 1px 2px rgba(60, 64, 67, 0.3), 0 1px 3px 1px rgba(60, 64, 67, 0.15);\n",
              "    fill: var(--button-hover-fill-color);\n",
              "  }\n",
              "\n",
              "  .colab-df-quickchart-complete:disabled,\n",
              "  .colab-df-quickchart-complete:disabled:hover {\n",
              "    background-color: var(--disabled-bg-color);\n",
              "    fill: var(--disabled-fill-color);\n",
              "    box-shadow: none;\n",
              "  }\n",
              "\n",
              "  .colab-df-spinner {\n",
              "    border: 2px solid var(--fill-color);\n",
              "    border-color: transparent;\n",
              "    border-bottom-color: var(--fill-color);\n",
              "    animation:\n",
              "      spin 1s steps(1) infinite;\n",
              "  }\n",
              "\n",
              "  @keyframes spin {\n",
              "    0% {\n",
              "      border-color: transparent;\n",
              "      border-bottom-color: var(--fill-color);\n",
              "      border-left-color: var(--fill-color);\n",
              "    }\n",
              "    20% {\n",
              "      border-color: transparent;\n",
              "      border-left-color: var(--fill-color);\n",
              "      border-top-color: var(--fill-color);\n",
              "    }\n",
              "    30% {\n",
              "      border-color: transparent;\n",
              "      border-left-color: var(--fill-color);\n",
              "      border-top-color: var(--fill-color);\n",
              "      border-right-color: var(--fill-color);\n",
              "    }\n",
              "    40% {\n",
              "      border-color: transparent;\n",
              "      border-right-color: var(--fill-color);\n",
              "      border-top-color: var(--fill-color);\n",
              "    }\n",
              "    60% {\n",
              "      border-color: transparent;\n",
              "      border-right-color: var(--fill-color);\n",
              "    }\n",
              "    80% {\n",
              "      border-color: transparent;\n",
              "      border-right-color: var(--fill-color);\n",
              "      border-bottom-color: var(--fill-color);\n",
              "    }\n",
              "    90% {\n",
              "      border-color: transparent;\n",
              "      border-bottom-color: var(--fill-color);\n",
              "    }\n",
              "  }\n",
              "</style>\n",
              "\n",
              "  <script>\n",
              "    async function quickchart(key) {\n",
              "      const quickchartButtonEl =\n",
              "        document.querySelector('#' + key + ' button');\n",
              "      quickchartButtonEl.disabled = true;  // To prevent multiple clicks.\n",
              "      quickchartButtonEl.classList.add('colab-df-spinner');\n",
              "      try {\n",
              "        const charts = await google.colab.kernel.invokeFunction(\n",
              "            'suggestCharts', [key], {});\n",
              "      } catch (error) {\n",
              "        console.error('Error during call to suggestCharts:', error);\n",
              "      }\n",
              "      quickchartButtonEl.classList.remove('colab-df-spinner');\n",
              "      quickchartButtonEl.classList.add('colab-df-quickchart-complete');\n",
              "    }\n",
              "    (() => {\n",
              "      let quickchartButtonEl =\n",
              "        document.querySelector('#df-22b89ea4-82e1-40dc-b2fe-dddf34313997 button');\n",
              "      quickchartButtonEl.style.display =\n",
              "        google.colab.kernel.accessAllowed ? 'block' : 'none';\n",
              "    })();\n",
              "  </script>\n",
              "</div>\n",
              "    </div>\n",
              "  </div>\n"
            ]
          },
          "metadata": {},
          "execution_count": 3
        }
      ],
      "source": [
        "df_diab.head()"
      ]
    },
    {
      "cell_type": "code",
      "execution_count": null,
      "id": "6f76f400-184d-4d40-ad6b-60f8cfd46de9",
      "metadata": {
        "id": "6f76f400-184d-4d40-ad6b-60f8cfd46de9",
        "outputId": "ed54319c-a028-451a-868e-f8b001259ea0",
        "colab": {
          "base_uri": "https://localhost:8080/"
        }
      },
      "outputs": [
        {
          "output_type": "execute_result",
          "data": {
            "text/plain": [
              "(768, 9)"
            ]
          },
          "metadata": {},
          "execution_count": 4
        }
      ],
      "source": [
        "df_diab.shape"
      ]
    },
    {
      "cell_type": "code",
      "execution_count": null,
      "id": "1a6c4030-1aee-47f1-bfcb-5d30213fdb0a",
      "metadata": {
        "id": "1a6c4030-1aee-47f1-bfcb-5d30213fdb0a",
        "outputId": "4b8e918d-3414-42eb-beee-816c464024df",
        "colab": {
          "base_uri": "https://localhost:8080/"
        }
      },
      "outputs": [
        {
          "output_type": "execute_result",
          "data": {
            "text/plain": [
              "array([1, 0])"
            ]
          },
          "metadata": {},
          "execution_count": 5
        }
      ],
      "source": [
        "df_diab.Outcome.unique()"
      ]
    },
    {
      "cell_type": "code",
      "source": [
        "df_diab.Outcome.value_counts()/df_diab.shape[0]"
      ],
      "metadata": {
        "colab": {
          "base_uri": "https://localhost:8080/"
        },
        "id": "TOyd6m9afTPa",
        "outputId": "3fc09a5a-39e7-4b48-946d-570d71214609"
      },
      "id": "TOyd6m9afTPa",
      "execution_count": null,
      "outputs": [
        {
          "output_type": "execute_result",
          "data": {
            "text/plain": [
              "0    0.651042\n",
              "1    0.348958\n",
              "Name: Outcome, dtype: float64"
            ]
          },
          "metadata": {},
          "execution_count": 9
        }
      ]
    },
    {
      "cell_type": "code",
      "execution_count": null,
      "id": "3c0c67d7-fec6-44c5-94c1-9a3f6660d87f",
      "metadata": {
        "id": "3c0c67d7-fec6-44c5-94c1-9a3f6660d87f",
        "outputId": "95160d29-f911-4a9d-d2b8-037fcfe640c4",
        "colab": {
          "base_uri": "https://localhost:8080/"
        }
      },
      "outputs": [
        {
          "output_type": "execute_result",
          "data": {
            "text/plain": [
              "Pregnancies                 0\n",
              "Glucose                     0\n",
              "BloodPressure               0\n",
              "SkinThickness               0\n",
              "Insulin                     0\n",
              "BMI                         0\n",
              "DiabetesPedigreeFunction    0\n",
              "Age                         0\n",
              "Outcome                     0\n",
              "dtype: int64"
            ]
          },
          "metadata": {},
          "execution_count": 7
        }
      ],
      "source": [
        "df_diab.isna().sum()"
      ]
    },
    {
      "cell_type": "code",
      "execution_count": null,
      "id": "9bb6fc82-c903-4440-bbfc-9d7ca87465ca",
      "metadata": {
        "id": "9bb6fc82-c903-4440-bbfc-9d7ca87465ca"
      },
      "outputs": [],
      "source": [
        "X = df_diab.drop(['Outcome'],axis=1)\n",
        "y = df_diab['Outcome']"
      ]
    },
    {
      "cell_type": "code",
      "execution_count": null,
      "id": "b390e395-80e8-4903-91e1-c9a1b9946432",
      "metadata": {
        "id": "b390e395-80e8-4903-91e1-c9a1b9946432"
      },
      "outputs": [],
      "source": [
        "np.random.seed(12345)"
      ]
    },
    {
      "cell_type": "code",
      "execution_count": null,
      "id": "17b06800-3437-4f35-96f8-13fbcc67628f",
      "metadata": {
        "id": "17b06800-3437-4f35-96f8-13fbcc67628f"
      },
      "outputs": [],
      "source": [
        "from sklearn.model_selection import train_test_split"
      ]
    },
    {
      "cell_type": "code",
      "execution_count": null,
      "id": "4750bdbe-c8c4-4ec2-9424-377492df3e93",
      "metadata": {
        "id": "4750bdbe-c8c4-4ec2-9424-377492df3e93"
      },
      "outputs": [],
      "source": [
        "X_train, X_test, y_train,y_test = train_test_split(X,\n",
        "                                                   y,\n",
        "                                                   stratify = y,\n",
        "                                                   test_size=0.2,\n",
        "                                                   random_state=12345)"
      ]
    },
    {
      "cell_type": "code",
      "source": [
        "y_train.sum()/614, y_test.sum()/154"
      ],
      "metadata": {
        "colab": {
          "base_uri": "https://localhost:8080/"
        },
        "id": "4RQGpJV6jKCE",
        "outputId": "ed9f5987-3432-4c54-fa54-1773e7808c97"
      },
      "id": "4RQGpJV6jKCE",
      "execution_count": null,
      "outputs": [
        {
          "output_type": "execute_result",
          "data": {
            "text/plain": [
              "(0.3485342019543974, 0.35064935064935066)"
            ]
          },
          "metadata": {},
          "execution_count": 15
        }
      ]
    },
    {
      "cell_type": "code",
      "execution_count": null,
      "id": "06496bb0-5fda-466c-b58f-ad2f1b88785a",
      "metadata": {
        "id": "06496bb0-5fda-466c-b58f-ad2f1b88785a",
        "outputId": "d3534a84-2272-45a5-f6c0-857b6b91c180",
        "colab": {
          "base_uri": "https://localhost:8080/"
        }
      },
      "outputs": [
        {
          "output_type": "execute_result",
          "data": {
            "text/plain": [
              "((614, 8), (154, 8), (614,), (154,))"
            ]
          },
          "metadata": {},
          "execution_count": 13
        }
      ],
      "source": [
        "X_train.shape, X_test.shape, y_train.shape, y_test.shape"
      ]
    },
    {
      "cell_type": "code",
      "execution_count": null,
      "id": "c49ec3ef-1f00-475d-ac24-43cffb4974b2",
      "metadata": {
        "id": "c49ec3ef-1f00-475d-ac24-43cffb4974b2"
      },
      "outputs": [],
      "source": [
        "from sklearn.preprocessing import StandardScaler"
      ]
    },
    {
      "cell_type": "code",
      "execution_count": null,
      "id": "b2619fcb-0182-4fbe-bc3f-eea81a9d9e1a",
      "metadata": {
        "id": "b2619fcb-0182-4fbe-bc3f-eea81a9d9e1a"
      },
      "outputs": [],
      "source": [
        "# X-scaled = (X - mean)/sd -> z value\n",
        "\n",
        "scaler = StandardScaler()\n",
        "X_train_scaled = scaler.fit_transform(X_train)\n",
        "X_test_scaled = scaler.transform(X_test)"
      ]
    },
    {
      "cell_type": "code",
      "execution_count": null,
      "id": "d408f475-5c67-4f1d-ba17-b11ed7505396",
      "metadata": {
        "id": "d408f475-5c67-4f1d-ba17-b11ed7505396"
      },
      "outputs": [],
      "source": [
        "import tensorflow as tf"
      ]
    },
    {
      "cell_type": "code",
      "execution_count": null,
      "id": "4b5efbaf-66d7-4e8e-95ac-9434f1d8cfb7",
      "metadata": {
        "id": "4b5efbaf-66d7-4e8e-95ac-9434f1d8cfb7",
        "outputId": "c6ae1175-8fd6-4903-9830-622ab8156ac5",
        "colab": {
          "base_uri": "https://localhost:8080/"
        }
      },
      "outputs": [
        {
          "output_type": "stream",
          "name": "stdout",
          "text": [
            "2.15.0\n"
          ]
        }
      ],
      "source": [
        "print(tf.__version__)"
      ]
    },
    {
      "cell_type": "code",
      "source": [
        "np.__version__"
      ],
      "metadata": {
        "colab": {
          "base_uri": "https://localhost:8080/",
          "height": 36
        },
        "id": "Zn9zn_qWog-9",
        "outputId": "11eb1d7c-7033-4c9a-a0b9-f55bc2cfcd0d"
      },
      "id": "Zn9zn_qWog-9",
      "execution_count": null,
      "outputs": [
        {
          "output_type": "execute_result",
          "data": {
            "text/plain": [
              "'1.23.5'"
            ],
            "application/vnd.google.colaboratory.intrinsic+json": {
              "type": "string"
            }
          },
          "metadata": {},
          "execution_count": 25
        }
      ]
    },
    {
      "cell_type": "code",
      "execution_count": null,
      "id": "200df40a-fccf-43dd-9393-302c44f9935b",
      "metadata": {
        "id": "200df40a-fccf-43dd-9393-302c44f9935b"
      },
      "outputs": [],
      "source": [
        "from tensorflow.keras.models import Sequential"
      ]
    },
    {
      "cell_type": "code",
      "execution_count": null,
      "id": "8ccb2549-8af0-42ec-b077-4ebdd764c162",
      "metadata": {
        "id": "8ccb2549-8af0-42ec-b077-4ebdd764c162"
      },
      "outputs": [],
      "source": [
        "from tensorflow.keras.layers import Dense, Input"
      ]
    },
    {
      "cell_type": "code",
      "execution_count": null,
      "id": "5fede699-aebf-4753-897a-6faf3cbad9c0",
      "metadata": {
        "id": "5fede699-aebf-4753-897a-6faf3cbad9c0"
      },
      "outputs": [],
      "source": [
        "model = Sequential()"
      ]
    },
    {
      "cell_type": "code",
      "execution_count": null,
      "id": "4dd59932-4b7c-43ae-afee-680ddf2039dc",
      "metadata": {
        "id": "4dd59932-4b7c-43ae-afee-680ddf2039dc",
        "outputId": "d09e49e4-3fab-4c8a-f5ee-70f20b1bc773",
        "colab": {
          "base_uri": "https://localhost:8080/"
        }
      },
      "outputs": [
        {
          "output_type": "execute_result",
          "data": {
            "text/plain": [
              "8"
            ]
          },
          "metadata": {},
          "execution_count": 23
        }
      ],
      "source": [
        "X_train_scaled.shape[1]"
      ]
    },
    {
      "cell_type": "code",
      "execution_count": null,
      "id": "ee925079-e57f-4cdb-9adb-659a0cde45f1",
      "metadata": {
        "id": "ee925079-e57f-4cdb-9adb-659a0cde45f1"
      },
      "outputs": [],
      "source": [
        "model.add(Input(shape = (X_train_scaled.shape[1],))) # Input Layer"
      ]
    },
    {
      "cell_type": "code",
      "execution_count": null,
      "id": "a9bf1882-dc8e-431f-aae3-a6310be02a04",
      "metadata": {
        "id": "a9bf1882-dc8e-431f-aae3-a6310be02a04"
      },
      "outputs": [],
      "source": [
        "# First Hidden Layer - 128 neurons, Relu activation\n",
        "model.add(Dense(units=128,\n",
        "                activation='relu'\n",
        "         ))"
      ]
    },
    {
      "cell_type": "code",
      "execution_count": null,
      "id": "abdee2a8-4227-435e-9988-8818297124f0",
      "metadata": {
        "id": "abdee2a8-4227-435e-9988-8818297124f0"
      },
      "outputs": [],
      "source": [
        "# Second Hidden Layer - 64 neurons, Relu activation\n",
        "model.add(Dense(units=64, activation='relu'))\n",
        "\n",
        "# Third Hidden Layer 32, relu activation\n",
        "model.add(Dense(units=32, activation='relu'))"
      ]
    },
    {
      "cell_type": "code",
      "execution_count": null,
      "id": "0ab34cf7-24e0-44e7-a322-12afd83df3d5",
      "metadata": {
        "id": "0ab34cf7-24e0-44e7-a322-12afd83df3d5"
      },
      "outputs": [],
      "source": [
        "# Output layer - Sigmoid\n",
        "model.add(Dense(units=1, activation='sigmoid'))"
      ]
    },
    {
      "cell_type": "code",
      "execution_count": null,
      "id": "9c3805bb-745c-4770-a588-e9ee219aedba",
      "metadata": {
        "id": "9c3805bb-745c-4770-a588-e9ee219aedba",
        "outputId": "3ae26c9d-9839-460e-f062-186744876515",
        "colab": {
          "base_uri": "https://localhost:8080/"
        }
      },
      "outputs": [
        {
          "output_type": "stream",
          "name": "stdout",
          "text": [
            "Model: \"sequential\"\n",
            "_________________________________________________________________\n",
            " Layer (type)                Output Shape              Param #   \n",
            "=================================================================\n",
            " dense (Dense)               (None, 128)               1152      \n",
            "                                                                 \n",
            " dense_1 (Dense)             (None, 64)                8256      \n",
            "                                                                 \n",
            " dense_2 (Dense)             (None, 32)                2080      \n",
            "                                                                 \n",
            " dense_3 (Dense)             (None, 1)                 33        \n",
            "                                                                 \n",
            "=================================================================\n",
            "Total params: 11521 (45.00 KB)\n",
            "Trainable params: 11521 (45.00 KB)\n",
            "Non-trainable params: 0 (0.00 Byte)\n",
            "_________________________________________________________________\n"
          ]
        }
      ],
      "source": [
        "model.summary()"
      ]
    },
    {
      "cell_type": "code",
      "source": [
        "(8+1)*128, (128+1)*64, (64+1)*32, (32+1)*1"
      ],
      "metadata": {
        "colab": {
          "base_uri": "https://localhost:8080/"
        },
        "id": "hjUYSKIftX5R",
        "outputId": "05cd60fc-ee5b-4d1a-ecac-95e67f0877fb"
      },
      "id": "hjUYSKIftX5R",
      "execution_count": null,
      "outputs": [
        {
          "output_type": "execute_result",
          "data": {
            "text/plain": [
              "(1152, 8256, 2080, 33)"
            ]
          },
          "metadata": {},
          "execution_count": 33
        }
      ]
    },
    {
      "cell_type": "code",
      "execution_count": null,
      "id": "4a391017-8c71-4ecc-9cb2-52427b428751",
      "metadata": {
        "id": "4a391017-8c71-4ecc-9cb2-52427b428751"
      },
      "outputs": [],
      "source": [
        "#(8+1)*128\n",
        "#(128+1)*64\n",
        "#(64+1)*32"
      ]
    },
    {
      "cell_type": "code",
      "execution_count": null,
      "id": "68f59802-90f6-46a3-8c7f-a73e6f84285b",
      "metadata": {
        "id": "68f59802-90f6-46a3-8c7f-a73e6f84285b",
        "outputId": "1dc393a3-6cb6-42d6-e9b2-abcc4210f2c7",
        "colab": {
          "base_uri": "https://localhost:8080/"
        }
      },
      "outputs": [
        {
          "output_type": "execute_result",
          "data": {
            "text/plain": [
              "11521"
            ]
          },
          "metadata": {},
          "execution_count": 35
        }
      ],
      "source": [
        "(1152+8256+2080+33)"
      ]
    },
    {
      "cell_type": "code",
      "execution_count": null,
      "id": "c358a15e-1171-49c1-813a-562a7f2d0a24",
      "metadata": {
        "id": "c358a15e-1171-49c1-813a-562a7f2d0a24"
      },
      "outputs": [],
      "source": [
        "model.compile(optimizer='adam', # Variant of Gradient Descent\n",
        "              loss= 'binary_crossentropy', # Log Loss or Binary Cross Entropy\n",
        "              metrics=['accuracy']) # Monitor Accuracy"
      ]
    },
    {
      "cell_type": "code",
      "execution_count": null,
      "id": "fa21c2b4-cf58-414e-972e-a596d5483bdf",
      "metadata": {
        "id": "fa21c2b4-cf58-414e-972e-a596d5483bdf",
        "outputId": "ef0fe594-8164-492c-a452-ef0135b0b12f",
        "colab": {
          "base_uri": "https://localhost:8080/"
        }
      },
      "outputs": [
        {
          "output_type": "stream",
          "name": "stdout",
          "text": [
            "Epoch 1/100\n",
            "20/20 [==============================] - 1s 14ms/step - loss: 0.6502 - accuracy: 0.6303 - val_loss: 0.5604 - val_accuracy: 0.7143\n",
            "Epoch 2/100\n",
            "20/20 [==============================] - 0s 4ms/step - loss: 0.5331 - accuracy: 0.7541 - val_loss: 0.4830 - val_accuracy: 0.7727\n",
            "Epoch 3/100\n",
            "20/20 [==============================] - 0s 4ms/step - loss: 0.4826 - accuracy: 0.7671 - val_loss: 0.4452 - val_accuracy: 0.7792\n",
            "Epoch 4/100\n",
            "20/20 [==============================] - 0s 4ms/step - loss: 0.4680 - accuracy: 0.7720 - val_loss: 0.4312 - val_accuracy: 0.7987\n",
            "Epoch 5/100\n",
            "20/20 [==============================] - 0s 4ms/step - loss: 0.4505 - accuracy: 0.7785 - val_loss: 0.4324 - val_accuracy: 0.7857\n",
            "Epoch 6/100\n",
            "20/20 [==============================] - 0s 4ms/step - loss: 0.4410 - accuracy: 0.7834 - val_loss: 0.4259 - val_accuracy: 0.7857\n",
            "Epoch 7/100\n",
            "20/20 [==============================] - 0s 4ms/step - loss: 0.4372 - accuracy: 0.7915 - val_loss: 0.4253 - val_accuracy: 0.7792\n",
            "Epoch 8/100\n",
            "20/20 [==============================] - 0s 4ms/step - loss: 0.4288 - accuracy: 0.7850 - val_loss: 0.4303 - val_accuracy: 0.7792\n",
            "Epoch 9/100\n",
            "20/20 [==============================] - 0s 4ms/step - loss: 0.4242 - accuracy: 0.8062 - val_loss: 0.4341 - val_accuracy: 0.7922\n",
            "Epoch 10/100\n",
            "20/20 [==============================] - 0s 5ms/step - loss: 0.4191 - accuracy: 0.7915 - val_loss: 0.4264 - val_accuracy: 0.7662\n",
            "Epoch 11/100\n",
            "20/20 [==============================] - 0s 4ms/step - loss: 0.4124 - accuracy: 0.8111 - val_loss: 0.4275 - val_accuracy: 0.7727\n",
            "Epoch 12/100\n",
            "20/20 [==============================] - 0s 4ms/step - loss: 0.4057 - accuracy: 0.8143 - val_loss: 0.4256 - val_accuracy: 0.7922\n",
            "Epoch 13/100\n",
            "20/20 [==============================] - 0s 4ms/step - loss: 0.3995 - accuracy: 0.8192 - val_loss: 0.4268 - val_accuracy: 0.7987\n",
            "Epoch 14/100\n",
            "20/20 [==============================] - 0s 4ms/step - loss: 0.3952 - accuracy: 0.8192 - val_loss: 0.4283 - val_accuracy: 0.7922\n",
            "Epoch 15/100\n",
            "20/20 [==============================] - 0s 4ms/step - loss: 0.3948 - accuracy: 0.8127 - val_loss: 0.4280 - val_accuracy: 0.7857\n",
            "Epoch 16/100\n",
            "20/20 [==============================] - 0s 4ms/step - loss: 0.3844 - accuracy: 0.8225 - val_loss: 0.4312 - val_accuracy: 0.7727\n",
            "Epoch 17/100\n",
            "20/20 [==============================] - 0s 4ms/step - loss: 0.3821 - accuracy: 0.8274 - val_loss: 0.4302 - val_accuracy: 0.7857\n",
            "Epoch 18/100\n",
            "20/20 [==============================] - 0s 4ms/step - loss: 0.3789 - accuracy: 0.8257 - val_loss: 0.4340 - val_accuracy: 0.7727\n",
            "Epoch 19/100\n",
            "20/20 [==============================] - 0s 4ms/step - loss: 0.3700 - accuracy: 0.8290 - val_loss: 0.4301 - val_accuracy: 0.7792\n",
            "Epoch 20/100\n",
            "20/20 [==============================] - 0s 4ms/step - loss: 0.3660 - accuracy: 0.8322 - val_loss: 0.4411 - val_accuracy: 0.7727\n",
            "Epoch 21/100\n",
            "20/20 [==============================] - 0s 5ms/step - loss: 0.3576 - accuracy: 0.8534 - val_loss: 0.4324 - val_accuracy: 0.7792\n",
            "Epoch 22/100\n",
            "20/20 [==============================] - 0s 4ms/step - loss: 0.3592 - accuracy: 0.8388 - val_loss: 0.4336 - val_accuracy: 0.7662\n",
            "Epoch 23/100\n",
            "20/20 [==============================] - 0s 4ms/step - loss: 0.3608 - accuracy: 0.8453 - val_loss: 0.4492 - val_accuracy: 0.7597\n",
            "Epoch 24/100\n",
            "20/20 [==============================] - 0s 4ms/step - loss: 0.3471 - accuracy: 0.8583 - val_loss: 0.4601 - val_accuracy: 0.7597\n",
            "Epoch 25/100\n",
            "20/20 [==============================] - 0s 4ms/step - loss: 0.3420 - accuracy: 0.8534 - val_loss: 0.4513 - val_accuracy: 0.7662\n",
            "Epoch 26/100\n",
            "20/20 [==============================] - 0s 4ms/step - loss: 0.3401 - accuracy: 0.8534 - val_loss: 0.4403 - val_accuracy: 0.7597\n",
            "Epoch 27/100\n",
            "20/20 [==============================] - 0s 4ms/step - loss: 0.3385 - accuracy: 0.8518 - val_loss: 0.4579 - val_accuracy: 0.7662\n",
            "Epoch 28/100\n",
            "20/20 [==============================] - 0s 4ms/step - loss: 0.3220 - accuracy: 0.8550 - val_loss: 0.4564 - val_accuracy: 0.7532\n",
            "Epoch 29/100\n",
            "20/20 [==============================] - 0s 4ms/step - loss: 0.3155 - accuracy: 0.8616 - val_loss: 0.4518 - val_accuracy: 0.7597\n",
            "Epoch 30/100\n",
            "20/20 [==============================] - 0s 5ms/step - loss: 0.3101 - accuracy: 0.8762 - val_loss: 0.4725 - val_accuracy: 0.7532\n",
            "Epoch 31/100\n",
            "20/20 [==============================] - 0s 4ms/step - loss: 0.3006 - accuracy: 0.8779 - val_loss: 0.4810 - val_accuracy: 0.7532\n",
            "Epoch 32/100\n",
            "20/20 [==============================] - 0s 5ms/step - loss: 0.3008 - accuracy: 0.8811 - val_loss: 0.5035 - val_accuracy: 0.7468\n",
            "Epoch 33/100\n",
            "20/20 [==============================] - 0s 4ms/step - loss: 0.3041 - accuracy: 0.8697 - val_loss: 0.4646 - val_accuracy: 0.7468\n",
            "Epoch 34/100\n",
            "20/20 [==============================] - 0s 4ms/step - loss: 0.2899 - accuracy: 0.8811 - val_loss: 0.4912 - val_accuracy: 0.7597\n",
            "Epoch 35/100\n",
            "20/20 [==============================] - 0s 4ms/step - loss: 0.2914 - accuracy: 0.8811 - val_loss: 0.4737 - val_accuracy: 0.7597\n",
            "Epoch 36/100\n",
            "20/20 [==============================] - 0s 4ms/step - loss: 0.2797 - accuracy: 0.8860 - val_loss: 0.4798 - val_accuracy: 0.7792\n",
            "Epoch 37/100\n",
            "20/20 [==============================] - 0s 4ms/step - loss: 0.2661 - accuracy: 0.8990 - val_loss: 0.5255 - val_accuracy: 0.7468\n",
            "Epoch 38/100\n",
            "20/20 [==============================] - 0s 4ms/step - loss: 0.2692 - accuracy: 0.8893 - val_loss: 0.4924 - val_accuracy: 0.7403\n",
            "Epoch 39/100\n",
            "20/20 [==============================] - 0s 4ms/step - loss: 0.2629 - accuracy: 0.8909 - val_loss: 0.4987 - val_accuracy: 0.7403\n",
            "Epoch 40/100\n",
            "20/20 [==============================] - 0s 4ms/step - loss: 0.2455 - accuracy: 0.8990 - val_loss: 0.4985 - val_accuracy: 0.7532\n",
            "Epoch 41/100\n",
            "20/20 [==============================] - 0s 5ms/step - loss: 0.2427 - accuracy: 0.9104 - val_loss: 0.5077 - val_accuracy: 0.7468\n",
            "Epoch 42/100\n",
            "20/20 [==============================] - 0s 7ms/step - loss: 0.2308 - accuracy: 0.9121 - val_loss: 0.5103 - val_accuracy: 0.7338\n",
            "Epoch 43/100\n",
            "20/20 [==============================] - 0s 7ms/step - loss: 0.2219 - accuracy: 0.9153 - val_loss: 0.5305 - val_accuracy: 0.7468\n",
            "Epoch 44/100\n",
            "20/20 [==============================] - 0s 6ms/step - loss: 0.2212 - accuracy: 0.9169 - val_loss: 0.5070 - val_accuracy: 0.7597\n",
            "Epoch 45/100\n",
            "20/20 [==============================] - 0s 6ms/step - loss: 0.2208 - accuracy: 0.9267 - val_loss: 0.5375 - val_accuracy: 0.7338\n",
            "Epoch 46/100\n",
            "20/20 [==============================] - 0s 6ms/step - loss: 0.2211 - accuracy: 0.9137 - val_loss: 0.5450 - val_accuracy: 0.7468\n",
            "Epoch 47/100\n",
            "20/20 [==============================] - 0s 6ms/step - loss: 0.2131 - accuracy: 0.9169 - val_loss: 0.5459 - val_accuracy: 0.7403\n",
            "Epoch 48/100\n",
            "20/20 [==============================] - 0s 6ms/step - loss: 0.2057 - accuracy: 0.9283 - val_loss: 0.5581 - val_accuracy: 0.7143\n",
            "Epoch 49/100\n",
            "20/20 [==============================] - 0s 6ms/step - loss: 0.2003 - accuracy: 0.9332 - val_loss: 0.5679 - val_accuracy: 0.7273\n",
            "Epoch 50/100\n",
            "20/20 [==============================] - 0s 6ms/step - loss: 0.1871 - accuracy: 0.9332 - val_loss: 0.5422 - val_accuracy: 0.7338\n",
            "Epoch 51/100\n",
            "20/20 [==============================] - 0s 6ms/step - loss: 0.1831 - accuracy: 0.9430 - val_loss: 0.6102 - val_accuracy: 0.7078\n",
            "Epoch 52/100\n",
            "20/20 [==============================] - 0s 5ms/step - loss: 0.1821 - accuracy: 0.9332 - val_loss: 0.5847 - val_accuracy: 0.7338\n",
            "Epoch 53/100\n",
            "20/20 [==============================] - 0s 5ms/step - loss: 0.1650 - accuracy: 0.9446 - val_loss: 0.5733 - val_accuracy: 0.7208\n",
            "Epoch 54/100\n",
            "20/20 [==============================] - 0s 6ms/step - loss: 0.1573 - accuracy: 0.9463 - val_loss: 0.6227 - val_accuracy: 0.7338\n",
            "Epoch 55/100\n",
            "20/20 [==============================] - 0s 6ms/step - loss: 0.1564 - accuracy: 0.9544 - val_loss: 0.6422 - val_accuracy: 0.7078\n",
            "Epoch 56/100\n",
            "20/20 [==============================] - 0s 6ms/step - loss: 0.1508 - accuracy: 0.9446 - val_loss: 0.6158 - val_accuracy: 0.7208\n",
            "Epoch 57/100\n",
            "20/20 [==============================] - 0s 5ms/step - loss: 0.1427 - accuracy: 0.9593 - val_loss: 0.6999 - val_accuracy: 0.7208\n",
            "Epoch 58/100\n",
            "20/20 [==============================] - 0s 6ms/step - loss: 0.1637 - accuracy: 0.9414 - val_loss: 0.6846 - val_accuracy: 0.7078\n",
            "Epoch 59/100\n",
            "20/20 [==============================] - 0s 6ms/step - loss: 0.1435 - accuracy: 0.9463 - val_loss: 0.6536 - val_accuracy: 0.7208\n",
            "Epoch 60/100\n",
            "20/20 [==============================] - 0s 6ms/step - loss: 0.1380 - accuracy: 0.9544 - val_loss: 0.7034 - val_accuracy: 0.7208\n",
            "Epoch 61/100\n",
            "20/20 [==============================] - 0s 6ms/step - loss: 0.1304 - accuracy: 0.9642 - val_loss: 0.6974 - val_accuracy: 0.7338\n",
            "Epoch 62/100\n",
            "20/20 [==============================] - 0s 6ms/step - loss: 0.1214 - accuracy: 0.9625 - val_loss: 0.7196 - val_accuracy: 0.7013\n",
            "Epoch 63/100\n",
            "20/20 [==============================] - 0s 5ms/step - loss: 0.1180 - accuracy: 0.9593 - val_loss: 0.6508 - val_accuracy: 0.7532\n",
            "Epoch 64/100\n",
            "20/20 [==============================] - 0s 6ms/step - loss: 0.1334 - accuracy: 0.9577 - val_loss: 0.7950 - val_accuracy: 0.6494\n",
            "Epoch 65/100\n",
            "20/20 [==============================] - 0s 6ms/step - loss: 0.1330 - accuracy: 0.9511 - val_loss: 0.7489 - val_accuracy: 0.7143\n",
            "Epoch 66/100\n",
            "20/20 [==============================] - 0s 6ms/step - loss: 0.1216 - accuracy: 0.9609 - val_loss: 0.7800 - val_accuracy: 0.7078\n",
            "Epoch 67/100\n",
            "20/20 [==============================] - 0s 6ms/step - loss: 0.1014 - accuracy: 0.9756 - val_loss: 0.7490 - val_accuracy: 0.7143\n",
            "Epoch 68/100\n",
            "20/20 [==============================] - 0s 6ms/step - loss: 0.0975 - accuracy: 0.9723 - val_loss: 0.7414 - val_accuracy: 0.6948\n",
            "Epoch 69/100\n",
            "20/20 [==============================] - 0s 6ms/step - loss: 0.0857 - accuracy: 0.9821 - val_loss: 0.7905 - val_accuracy: 0.7078\n",
            "Epoch 70/100\n",
            "20/20 [==============================] - 0s 6ms/step - loss: 0.0834 - accuracy: 0.9837 - val_loss: 0.7667 - val_accuracy: 0.7143\n",
            "Epoch 71/100\n",
            "20/20 [==============================] - 0s 5ms/step - loss: 0.0796 - accuracy: 0.9853 - val_loss: 0.7751 - val_accuracy: 0.7013\n",
            "Epoch 72/100\n",
            "20/20 [==============================] - 0s 4ms/step - loss: 0.0825 - accuracy: 0.9772 - val_loss: 0.7610 - val_accuracy: 0.7403\n",
            "Epoch 73/100\n",
            "20/20 [==============================] - 0s 4ms/step - loss: 0.0951 - accuracy: 0.9658 - val_loss: 0.9045 - val_accuracy: 0.7013\n",
            "Epoch 74/100\n",
            "20/20 [==============================] - 0s 4ms/step - loss: 0.1099 - accuracy: 0.9560 - val_loss: 0.7813 - val_accuracy: 0.7208\n",
            "Epoch 75/100\n",
            "20/20 [==============================] - 0s 4ms/step - loss: 0.0756 - accuracy: 0.9837 - val_loss: 0.8393 - val_accuracy: 0.6948\n",
            "Epoch 76/100\n",
            "20/20 [==============================] - 0s 4ms/step - loss: 0.0710 - accuracy: 0.9821 - val_loss: 0.8856 - val_accuracy: 0.7013\n",
            "Epoch 77/100\n",
            "20/20 [==============================] - 0s 5ms/step - loss: 0.0731 - accuracy: 0.9837 - val_loss: 0.8404 - val_accuracy: 0.6948\n",
            "Epoch 78/100\n",
            "20/20 [==============================] - 0s 4ms/step - loss: 0.0556 - accuracy: 0.9951 - val_loss: 0.8477 - val_accuracy: 0.7078\n",
            "Epoch 79/100\n",
            "20/20 [==============================] - 0s 4ms/step - loss: 0.0562 - accuracy: 0.9902 - val_loss: 0.8757 - val_accuracy: 0.7143\n",
            "Epoch 80/100\n",
            "20/20 [==============================] - 0s 4ms/step - loss: 0.0462 - accuracy: 0.9951 - val_loss: 0.8739 - val_accuracy: 0.7078\n",
            "Epoch 81/100\n",
            "20/20 [==============================] - 0s 4ms/step - loss: 0.0475 - accuracy: 0.9935 - val_loss: 0.8983 - val_accuracy: 0.6948\n",
            "Epoch 82/100\n",
            "20/20 [==============================] - 0s 4ms/step - loss: 0.0457 - accuracy: 0.9935 - val_loss: 0.9388 - val_accuracy: 0.6818\n",
            "Epoch 83/100\n",
            "20/20 [==============================] - 0s 4ms/step - loss: 0.0409 - accuracy: 0.9951 - val_loss: 0.9410 - val_accuracy: 0.7078\n",
            "Epoch 84/100\n",
            "20/20 [==============================] - 0s 4ms/step - loss: 0.0787 - accuracy: 0.9723 - val_loss: 1.0520 - val_accuracy: 0.6753\n",
            "Epoch 85/100\n",
            "20/20 [==============================] - 0s 5ms/step - loss: 0.0871 - accuracy: 0.9707 - val_loss: 0.9208 - val_accuracy: 0.7208\n",
            "Epoch 86/100\n",
            "20/20 [==============================] - 0s 4ms/step - loss: 0.0674 - accuracy: 0.9805 - val_loss: 1.0040 - val_accuracy: 0.6948\n",
            "Epoch 87/100\n",
            "20/20 [==============================] - 0s 4ms/step - loss: 0.0464 - accuracy: 0.9886 - val_loss: 0.9609 - val_accuracy: 0.6688\n",
            "Epoch 88/100\n",
            "20/20 [==============================] - 0s 5ms/step - loss: 0.0465 - accuracy: 0.9935 - val_loss: 0.9703 - val_accuracy: 0.6948\n",
            "Epoch 89/100\n",
            "20/20 [==============================] - 0s 5ms/step - loss: 0.0376 - accuracy: 0.9919 - val_loss: 0.9684 - val_accuracy: 0.6883\n",
            "Epoch 90/100\n",
            "20/20 [==============================] - 0s 4ms/step - loss: 0.0339 - accuracy: 0.9951 - val_loss: 1.0133 - val_accuracy: 0.6883\n",
            "Epoch 91/100\n",
            "20/20 [==============================] - 0s 4ms/step - loss: 0.0312 - accuracy: 0.9967 - val_loss: 1.0623 - val_accuracy: 0.6948\n",
            "Epoch 92/100\n",
            "20/20 [==============================] - 0s 5ms/step - loss: 0.0289 - accuracy: 0.9967 - val_loss: 0.9994 - val_accuracy: 0.6948\n",
            "Epoch 93/100\n",
            "20/20 [==============================] - 0s 4ms/step - loss: 0.0277 - accuracy: 1.0000 - val_loss: 1.0484 - val_accuracy: 0.7078\n",
            "Epoch 94/100\n",
            "20/20 [==============================] - 0s 4ms/step - loss: 0.0244 - accuracy: 1.0000 - val_loss: 1.0517 - val_accuracy: 0.6948\n",
            "Epoch 95/100\n",
            "20/20 [==============================] - 0s 4ms/step - loss: 0.0240 - accuracy: 0.9984 - val_loss: 1.0487 - val_accuracy: 0.7013\n",
            "Epoch 96/100\n",
            "20/20 [==============================] - 0s 4ms/step - loss: 0.0252 - accuracy: 0.9967 - val_loss: 1.0091 - val_accuracy: 0.7013\n",
            "Epoch 97/100\n",
            "20/20 [==============================] - 0s 4ms/step - loss: 0.0400 - accuracy: 0.9919 - val_loss: 1.1289 - val_accuracy: 0.6688\n",
            "Epoch 98/100\n",
            "20/20 [==============================] - 0s 4ms/step - loss: 0.0550 - accuracy: 0.9919 - val_loss: 1.2555 - val_accuracy: 0.6948\n",
            "Epoch 99/100\n",
            "20/20 [==============================] - 0s 4ms/step - loss: 0.1691 - accuracy: 0.9642 - val_loss: 1.4620 - val_accuracy: 0.6623\n",
            "Epoch 100/100\n",
            "20/20 [==============================] - 0s 5ms/step - loss: 0.1112 - accuracy: 0.9560 - val_loss: 1.1493 - val_accuracy: 0.7078\n"
          ]
        }
      ],
      "source": [
        "result = model.fit(X_train_scaled,\n",
        "                   y_train,\n",
        "                   validation_data = (X_test_scaled, y_test),\n",
        "                   epochs=100)"
      ]
    },
    {
      "cell_type": "code",
      "execution_count": null,
      "id": "e3551df5-c612-4084-b258-e43e03fd1c01",
      "metadata": {
        "id": "e3551df5-c612-4084-b258-e43e03fd1c01",
        "colab": {
          "base_uri": "https://localhost:8080/"
        },
        "outputId": "04c3bf19-7301-48a9-8477-32ec53641a75"
      },
      "outputs": [
        {
          "output_type": "stream",
          "name": "stdout",
          "text": [
            "20/20 [==============================] - 0s 2ms/step\n",
            "5/5 [==============================] - 0s 2ms/step\n"
          ]
        }
      ],
      "source": [
        "y_train_pred = model.predict(X_train_scaled)\n",
        "y_test_pred = model.predict(X_test_scaled)"
      ]
    },
    {
      "cell_type": "code",
      "execution_count": null,
      "id": "e1f74d2e-3ec4-4b86-8975-bacdaf8cc79b",
      "metadata": {
        "id": "e1f74d2e-3ec4-4b86-8975-bacdaf8cc79b"
      },
      "outputs": [],
      "source": [
        "from sklearn.metrics import confusion_matrix, accuracy_score"
      ]
    },
    {
      "cell_type": "code",
      "execution_count": null,
      "id": "c4edecff-1137-418f-8d39-21374a68f2cb",
      "metadata": {
        "id": "c4edecff-1137-418f-8d39-21374a68f2cb",
        "outputId": "13853768-640d-45f4-945e-a0e5c99007af",
        "colab": {
          "base_uri": "https://localhost:8080/"
        }
      },
      "outputs": [
        {
          "output_type": "execute_result",
          "data": {
            "text/plain": [
              "array([[372,  28],\n",
              "       [  0, 214]])"
            ]
          },
          "metadata": {},
          "execution_count": 40
        }
      ],
      "source": [
        "confusion_matrix(y_pred=y_train_pred >= 0.5,\n",
        "                 y_true = y_train)"
      ]
    },
    {
      "cell_type": "code",
      "execution_count": null,
      "id": "ee5a513d-8de5-4b3a-9bb5-2f16a1641c50",
      "metadata": {
        "id": "ee5a513d-8de5-4b3a-9bb5-2f16a1641c50",
        "outputId": "3238e67e-3013-4e68-daef-86f058f674de",
        "colab": {
          "base_uri": "https://localhost:8080/"
        }
      },
      "outputs": [
        {
          "output_type": "execute_result",
          "data": {
            "text/plain": [
              "0.9543973941368078"
            ]
          },
          "metadata": {},
          "execution_count": 41
        }
      ],
      "source": [
        "accuracy_score(y_pred=y_train_pred >= 0.5,\n",
        "               y_true = y_train)"
      ]
    },
    {
      "cell_type": "code",
      "execution_count": null,
      "id": "83c9c1c1-4b5f-4d17-9a1f-05d920609e65",
      "metadata": {
        "id": "83c9c1c1-4b5f-4d17-9a1f-05d920609e65",
        "outputId": "7ff61c32-3c4f-4929-bda7-c0e4ec9b9f66",
        "colab": {
          "base_uri": "https://localhost:8080/"
        }
      },
      "outputs": [
        {
          "output_type": "execute_result",
          "data": {
            "text/plain": [
              "array([[68, 32],\n",
              "       [13, 41]])"
            ]
          },
          "metadata": {},
          "execution_count": 42
        }
      ],
      "source": [
        "confusion_matrix(y_pred=y_test_pred >= 0.5,\n",
        "                 y_true = y_test)"
      ]
    },
    {
      "cell_type": "code",
      "execution_count": null,
      "id": "e5c155ae-c1ab-4afb-bd8b-edc619be4cdf",
      "metadata": {
        "id": "e5c155ae-c1ab-4afb-bd8b-edc619be4cdf",
        "outputId": "096b554b-0105-4d34-9930-276703ee8486",
        "colab": {
          "base_uri": "https://localhost:8080/"
        }
      },
      "outputs": [
        {
          "output_type": "execute_result",
          "data": {
            "text/plain": [
              "0.7077922077922078"
            ]
          },
          "metadata": {},
          "execution_count": 43
        }
      ],
      "source": [
        "accuracy_score(y_pred=y_test_pred >= 0.5,\n",
        "               y_true = y_test)"
      ]
    },
    {
      "cell_type": "code",
      "execution_count": null,
      "id": "88a8ed66-80cd-4545-812f-66e5dcd72333",
      "metadata": {
        "id": "88a8ed66-80cd-4545-812f-66e5dcd72333"
      },
      "outputs": [],
      "source": [
        "history = pd.DataFrame(result.history)"
      ]
    },
    {
      "cell_type": "code",
      "execution_count": null,
      "id": "7591d6f3-113e-4751-bc90-d815427fd3d1",
      "metadata": {
        "id": "7591d6f3-113e-4751-bc90-d815427fd3d1",
        "outputId": "2be0f782-d4c5-4f02-fbf9-204728e305c1",
        "colab": {
          "base_uri": "https://localhost:8080/",
          "height": 206
        }
      },
      "outputs": [
        {
          "output_type": "execute_result",
          "data": {
            "text/plain": [
              "       loss  accuracy  val_loss  val_accuracy\n",
              "0  0.650236  0.630293  0.560425      0.714286\n",
              "1  0.533095  0.754072  0.483029      0.772727\n",
              "2  0.482575  0.767101  0.445225      0.779221\n",
              "3  0.467983  0.771987  0.431163      0.798701\n",
              "4  0.450478  0.778502  0.432402      0.785714"
            ],
            "text/html": [
              "\n",
              "  <div id=\"df-0f07b261-3034-44a6-8376-779afbc57b00\" class=\"colab-df-container\">\n",
              "    <div>\n",
              "<style scoped>\n",
              "    .dataframe tbody tr th:only-of-type {\n",
              "        vertical-align: middle;\n",
              "    }\n",
              "\n",
              "    .dataframe tbody tr th {\n",
              "        vertical-align: top;\n",
              "    }\n",
              "\n",
              "    .dataframe thead th {\n",
              "        text-align: right;\n",
              "    }\n",
              "</style>\n",
              "<table border=\"1\" class=\"dataframe\">\n",
              "  <thead>\n",
              "    <tr style=\"text-align: right;\">\n",
              "      <th></th>\n",
              "      <th>loss</th>\n",
              "      <th>accuracy</th>\n",
              "      <th>val_loss</th>\n",
              "      <th>val_accuracy</th>\n",
              "    </tr>\n",
              "  </thead>\n",
              "  <tbody>\n",
              "    <tr>\n",
              "      <th>0</th>\n",
              "      <td>0.650236</td>\n",
              "      <td>0.630293</td>\n",
              "      <td>0.560425</td>\n",
              "      <td>0.714286</td>\n",
              "    </tr>\n",
              "    <tr>\n",
              "      <th>1</th>\n",
              "      <td>0.533095</td>\n",
              "      <td>0.754072</td>\n",
              "      <td>0.483029</td>\n",
              "      <td>0.772727</td>\n",
              "    </tr>\n",
              "    <tr>\n",
              "      <th>2</th>\n",
              "      <td>0.482575</td>\n",
              "      <td>0.767101</td>\n",
              "      <td>0.445225</td>\n",
              "      <td>0.779221</td>\n",
              "    </tr>\n",
              "    <tr>\n",
              "      <th>3</th>\n",
              "      <td>0.467983</td>\n",
              "      <td>0.771987</td>\n",
              "      <td>0.431163</td>\n",
              "      <td>0.798701</td>\n",
              "    </tr>\n",
              "    <tr>\n",
              "      <th>4</th>\n",
              "      <td>0.450478</td>\n",
              "      <td>0.778502</td>\n",
              "      <td>0.432402</td>\n",
              "      <td>0.785714</td>\n",
              "    </tr>\n",
              "  </tbody>\n",
              "</table>\n",
              "</div>\n",
              "    <div class=\"colab-df-buttons\">\n",
              "\n",
              "  <div class=\"colab-df-container\">\n",
              "    <button class=\"colab-df-convert\" onclick=\"convertToInteractive('df-0f07b261-3034-44a6-8376-779afbc57b00')\"\n",
              "            title=\"Convert this dataframe to an interactive table.\"\n",
              "            style=\"display:none;\">\n",
              "\n",
              "  <svg xmlns=\"http://www.w3.org/2000/svg\" height=\"24px\" viewBox=\"0 -960 960 960\">\n",
              "    <path d=\"M120-120v-720h720v720H120Zm60-500h600v-160H180v160Zm220 220h160v-160H400v160Zm0 220h160v-160H400v160ZM180-400h160v-160H180v160Zm440 0h160v-160H620v160ZM180-180h160v-160H180v160Zm440 0h160v-160H620v160Z\"/>\n",
              "  </svg>\n",
              "    </button>\n",
              "\n",
              "  <style>\n",
              "    .colab-df-container {\n",
              "      display:flex;\n",
              "      gap: 12px;\n",
              "    }\n",
              "\n",
              "    .colab-df-convert {\n",
              "      background-color: #E8F0FE;\n",
              "      border: none;\n",
              "      border-radius: 50%;\n",
              "      cursor: pointer;\n",
              "      display: none;\n",
              "      fill: #1967D2;\n",
              "      height: 32px;\n",
              "      padding: 0 0 0 0;\n",
              "      width: 32px;\n",
              "    }\n",
              "\n",
              "    .colab-df-convert:hover {\n",
              "      background-color: #E2EBFA;\n",
              "      box-shadow: 0px 1px 2px rgba(60, 64, 67, 0.3), 0px 1px 3px 1px rgba(60, 64, 67, 0.15);\n",
              "      fill: #174EA6;\n",
              "    }\n",
              "\n",
              "    .colab-df-buttons div {\n",
              "      margin-bottom: 4px;\n",
              "    }\n",
              "\n",
              "    [theme=dark] .colab-df-convert {\n",
              "      background-color: #3B4455;\n",
              "      fill: #D2E3FC;\n",
              "    }\n",
              "\n",
              "    [theme=dark] .colab-df-convert:hover {\n",
              "      background-color: #434B5C;\n",
              "      box-shadow: 0px 1px 3px 1px rgba(0, 0, 0, 0.15);\n",
              "      filter: drop-shadow(0px 1px 2px rgba(0, 0, 0, 0.3));\n",
              "      fill: #FFFFFF;\n",
              "    }\n",
              "  </style>\n",
              "\n",
              "    <script>\n",
              "      const buttonEl =\n",
              "        document.querySelector('#df-0f07b261-3034-44a6-8376-779afbc57b00 button.colab-df-convert');\n",
              "      buttonEl.style.display =\n",
              "        google.colab.kernel.accessAllowed ? 'block' : 'none';\n",
              "\n",
              "      async function convertToInteractive(key) {\n",
              "        const element = document.querySelector('#df-0f07b261-3034-44a6-8376-779afbc57b00');\n",
              "        const dataTable =\n",
              "          await google.colab.kernel.invokeFunction('convertToInteractive',\n",
              "                                                    [key], {});\n",
              "        if (!dataTable) return;\n",
              "\n",
              "        const docLinkHtml = 'Like what you see? Visit the ' +\n",
              "          '<a target=\"_blank\" href=https://colab.research.google.com/notebooks/data_table.ipynb>data table notebook</a>'\n",
              "          + ' to learn more about interactive tables.';\n",
              "        element.innerHTML = '';\n",
              "        dataTable['output_type'] = 'display_data';\n",
              "        await google.colab.output.renderOutput(dataTable, element);\n",
              "        const docLink = document.createElement('div');\n",
              "        docLink.innerHTML = docLinkHtml;\n",
              "        element.appendChild(docLink);\n",
              "      }\n",
              "    </script>\n",
              "  </div>\n",
              "\n",
              "\n",
              "<div id=\"df-53fe2ddc-ff8c-472a-9a0b-772a36e41c8b\">\n",
              "  <button class=\"colab-df-quickchart\" onclick=\"quickchart('df-53fe2ddc-ff8c-472a-9a0b-772a36e41c8b')\"\n",
              "            title=\"Suggest charts\"\n",
              "            style=\"display:none;\">\n",
              "\n",
              "<svg xmlns=\"http://www.w3.org/2000/svg\" height=\"24px\"viewBox=\"0 0 24 24\"\n",
              "     width=\"24px\">\n",
              "    <g>\n",
              "        <path d=\"M19 3H5c-1.1 0-2 .9-2 2v14c0 1.1.9 2 2 2h14c1.1 0 2-.9 2-2V5c0-1.1-.9-2-2-2zM9 17H7v-7h2v7zm4 0h-2V7h2v10zm4 0h-2v-4h2v4z\"/>\n",
              "    </g>\n",
              "</svg>\n",
              "  </button>\n",
              "\n",
              "<style>\n",
              "  .colab-df-quickchart {\n",
              "      --bg-color: #E8F0FE;\n",
              "      --fill-color: #1967D2;\n",
              "      --hover-bg-color: #E2EBFA;\n",
              "      --hover-fill-color: #174EA6;\n",
              "      --disabled-fill-color: #AAA;\n",
              "      --disabled-bg-color: #DDD;\n",
              "  }\n",
              "\n",
              "  [theme=dark] .colab-df-quickchart {\n",
              "      --bg-color: #3B4455;\n",
              "      --fill-color: #D2E3FC;\n",
              "      --hover-bg-color: #434B5C;\n",
              "      --hover-fill-color: #FFFFFF;\n",
              "      --disabled-bg-color: #3B4455;\n",
              "      --disabled-fill-color: #666;\n",
              "  }\n",
              "\n",
              "  .colab-df-quickchart {\n",
              "    background-color: var(--bg-color);\n",
              "    border: none;\n",
              "    border-radius: 50%;\n",
              "    cursor: pointer;\n",
              "    display: none;\n",
              "    fill: var(--fill-color);\n",
              "    height: 32px;\n",
              "    padding: 0;\n",
              "    width: 32px;\n",
              "  }\n",
              "\n",
              "  .colab-df-quickchart:hover {\n",
              "    background-color: var(--hover-bg-color);\n",
              "    box-shadow: 0 1px 2px rgba(60, 64, 67, 0.3), 0 1px 3px 1px rgba(60, 64, 67, 0.15);\n",
              "    fill: var(--button-hover-fill-color);\n",
              "  }\n",
              "\n",
              "  .colab-df-quickchart-complete:disabled,\n",
              "  .colab-df-quickchart-complete:disabled:hover {\n",
              "    background-color: var(--disabled-bg-color);\n",
              "    fill: var(--disabled-fill-color);\n",
              "    box-shadow: none;\n",
              "  }\n",
              "\n",
              "  .colab-df-spinner {\n",
              "    border: 2px solid var(--fill-color);\n",
              "    border-color: transparent;\n",
              "    border-bottom-color: var(--fill-color);\n",
              "    animation:\n",
              "      spin 1s steps(1) infinite;\n",
              "  }\n",
              "\n",
              "  @keyframes spin {\n",
              "    0% {\n",
              "      border-color: transparent;\n",
              "      border-bottom-color: var(--fill-color);\n",
              "      border-left-color: var(--fill-color);\n",
              "    }\n",
              "    20% {\n",
              "      border-color: transparent;\n",
              "      border-left-color: var(--fill-color);\n",
              "      border-top-color: var(--fill-color);\n",
              "    }\n",
              "    30% {\n",
              "      border-color: transparent;\n",
              "      border-left-color: var(--fill-color);\n",
              "      border-top-color: var(--fill-color);\n",
              "      border-right-color: var(--fill-color);\n",
              "    }\n",
              "    40% {\n",
              "      border-color: transparent;\n",
              "      border-right-color: var(--fill-color);\n",
              "      border-top-color: var(--fill-color);\n",
              "    }\n",
              "    60% {\n",
              "      border-color: transparent;\n",
              "      border-right-color: var(--fill-color);\n",
              "    }\n",
              "    80% {\n",
              "      border-color: transparent;\n",
              "      border-right-color: var(--fill-color);\n",
              "      border-bottom-color: var(--fill-color);\n",
              "    }\n",
              "    90% {\n",
              "      border-color: transparent;\n",
              "      border-bottom-color: var(--fill-color);\n",
              "    }\n",
              "  }\n",
              "</style>\n",
              "\n",
              "  <script>\n",
              "    async function quickchart(key) {\n",
              "      const quickchartButtonEl =\n",
              "        document.querySelector('#' + key + ' button');\n",
              "      quickchartButtonEl.disabled = true;  // To prevent multiple clicks.\n",
              "      quickchartButtonEl.classList.add('colab-df-spinner');\n",
              "      try {\n",
              "        const charts = await google.colab.kernel.invokeFunction(\n",
              "            'suggestCharts', [key], {});\n",
              "      } catch (error) {\n",
              "        console.error('Error during call to suggestCharts:', error);\n",
              "      }\n",
              "      quickchartButtonEl.classList.remove('colab-df-spinner');\n",
              "      quickchartButtonEl.classList.add('colab-df-quickchart-complete');\n",
              "    }\n",
              "    (() => {\n",
              "      let quickchartButtonEl =\n",
              "        document.querySelector('#df-53fe2ddc-ff8c-472a-9a0b-772a36e41c8b button');\n",
              "      quickchartButtonEl.style.display =\n",
              "        google.colab.kernel.accessAllowed ? 'block' : 'none';\n",
              "    })();\n",
              "  </script>\n",
              "</div>\n",
              "    </div>\n",
              "  </div>\n"
            ]
          },
          "metadata": {},
          "execution_count": 45
        }
      ],
      "source": [
        "history.head()"
      ]
    },
    {
      "cell_type": "code",
      "execution_count": null,
      "id": "5bc6b994-3a44-49b0-b05f-1bff291eb317",
      "metadata": {
        "id": "5bc6b994-3a44-49b0-b05f-1bff291eb317"
      },
      "outputs": [],
      "source": [
        "import matplotlib.pyplot as plt"
      ]
    },
    {
      "cell_type": "code",
      "execution_count": null,
      "id": "ad6b437b-a492-4ae2-b2d3-c463bbfc53e6",
      "metadata": {
        "id": "ad6b437b-a492-4ae2-b2d3-c463bbfc53e6",
        "outputId": "40dc4c10-1506-4fcf-ccc9-1e8778894281",
        "colab": {
          "base_uri": "https://localhost:8080/",
          "height": 287
        }
      },
      "outputs": [
        {
          "output_type": "display_data",
          "data": {
            "text/plain": [
              "<Figure size 2500x600 with 1 Axes>"
            ],
            "image/png": "[encoded data removed]"
          },
          "metadata": {}
        }
      ],
      "source": [
        "plt.figure(figsize = (25,6))\n",
        "plt.plot(history.val_loss, label='Test Set Loss')\n",
        "plt.plot(history.loss, label='Training Set Loss')\n",
        "plt.title('Epochs vs Loss')\n",
        "plt.xlabel('Epochs')\n",
        "plt.ylabel('Loss')\n",
        "plt.legend()\n",
        "plt.show()"
      ]
    },
    {
      "cell_type": "code",
      "execution_count": null,
      "id": "88b30dc0-5cc8-4423-b100-46bb7b8f8497",
      "metadata": {
        "id": "88b30dc0-5cc8-4423-b100-46bb7b8f8497",
        "outputId": "cd746da7-bdda-4132-e458-c10704b8574c",
        "colab": {
          "base_uri": "https://localhost:8080/",
          "height": 454
        }
      },
      "outputs": [
        {
          "output_type": "display_data",
          "data": {
            "text/plain": [
              "<Figure size 1500x600 with 1 Axes>"
            ],
            "image/png": "[encoded data removed]"
          },
          "metadata": {}
        }
      ],
      "source": [
        "plt.figure(figsize = (15,6))\n",
        "plt.plot(history.val_accuracy, label='Test Set Accuracy')\n",
        "plt.plot(history.accuracy, label='Training Set Accuracy')\n",
        "plt.title('Epochs vs Accuracy')\n",
        "plt.xlabel('Epochs')\n",
        "plt.ylabel('Accuracy')\n",
        "plt.legend()\n",
        "plt.show()"
      ]
    }
  ],
  "metadata": {
    "kernelspec": {
      "display_name": "Python 3",
      "language": "python",
      "name": "python3"
    },
    "language_info": {
      "codemirror_mode": {
        "name": "ipython",
        "version": 3
      },
      "file_extension": ".py",
      "mimetype": "text/x-python",
      "name": "python",
      "nbconvert_exporter": "python",
      "pygments_lexer": "ipython3",
      "version": "3.7.6"
    },
    "colab": {
      "provenance": []
    }
  },
  "nbformat": 4,
  "nbformat_minor": 5
}